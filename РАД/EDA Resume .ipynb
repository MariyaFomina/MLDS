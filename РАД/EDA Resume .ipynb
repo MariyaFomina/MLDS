{
 "cells": [
  {
   "cell_type": "code",
   "execution_count": 1,
   "id": "prerequisite-northern",
   "metadata": {},
   "outputs": [],
   "source": [
    "import pandas as pd\n",
    "import numpy as np\n",
    "import matplotlib.pyplot as plt \n",
    "import seaborn as sns \n",
    "import re\n",
    "\n",
    "from scipy import stats"
   ]
  },
  {
   "cell_type": "code",
   "execution_count": 116,
   "id": "mature-sterling",
   "metadata": {},
   "outputs": [],
   "source": [
    "def find_number(text):\n",
    "    num = re.findall(r'[0-9]+', text)\n",
    "    return \" \".join(num)"
   ]
  },
  {
   "cell_type": "code",
   "execution_count": 9,
   "id": "friendly-glass",
   "metadata": {
    "collapsed": true
   },
   "outputs": [
    {
     "data": {
      "text/html": [
       "<div>\n",
       "<style scoped>\n",
       "    .dataframe tbody tr th:only-of-type {\n",
       "        vertical-align: middle;\n",
       "    }\n",
       "\n",
       "    .dataframe tbody tr th {\n",
       "        vertical-align: top;\n",
       "    }\n",
       "\n",
       "    .dataframe thead th {\n",
       "        text-align: right;\n",
       "    }\n",
       "</style>\n",
       "<table border=\"1\" class=\"dataframe\">\n",
       "  <thead>\n",
       "    <tr style=\"text-align: right;\">\n",
       "      <th></th>\n",
       "      <th>link</th>\n",
       "      <th>name</th>\n",
       "      <th>gender</th>\n",
       "      <th>age</th>\n",
       "      <th>path1</th>\n",
       "      <th>path2</th>\n",
       "      <th>skills</th>\n",
       "      <th>languages</th>\n",
       "      <th>salary</th>\n",
       "      <th>experience</th>\n",
       "      <th>edu_degree</th>\n",
       "      <th>uni</th>\n",
       "    </tr>\n",
       "  </thead>\n",
       "  <tbody>\n",
       "    <tr>\n",
       "      <th>0</th>\n",
       "      <td>https://hh.ru/resume/f6343d3e000364b04e0039ed1...</td>\n",
       "      <td>Аналитик</td>\n",
       "      <td>M</td>\n",
       "      <td>29</td>\n",
       "      <td>Банки, инвестиции, лизинг</td>\n",
       "      <td>['Аналитик']</td>\n",
       "      <td>['Креативность', 'Работа в команде', 'Грамотна...</td>\n",
       "      <td>['Русский — Родной', 'Английский — C1 — Продви...</td>\n",
       "      <td>0.0</td>\n",
       "      <td>Опыт работы 9 лет 3 месяца</td>\n",
       "      <td>Высшее образование</td>\n",
       "      <td>['Государственный университет по землеустройст...</td>\n",
       "    </tr>\n",
       "    <tr>\n",
       "      <th>1</th>\n",
       "      <td>https://hh.ru/resume/a460bf600008813d1e0039ed1...</td>\n",
       "      <td>Аналитик-переводчик</td>\n",
       "      <td>M</td>\n",
       "      <td>26</td>\n",
       "      <td>Информационные технологии, интернет, телеком</td>\n",
       "      <td>['Аналитик']</td>\n",
       "      <td>['Работоспособность', 'SWOT анализ', 'Перевод'...</td>\n",
       "      <td>['Русский — Родной', 'Английский — C2 — В сове...</td>\n",
       "      <td>70000.0</td>\n",
       "      <td>Опыт работы 1 год 3 месяца</td>\n",
       "      <td>Высшее образование (Бакалавр)</td>\n",
       "      <td>['USEEFaculty of Legal and Business Studies Dr...</td>\n",
       "    </tr>\n",
       "    <tr>\n",
       "      <th>2</th>\n",
       "      <td>https://hh.ru/resume/1d5acdda0008d6a0580039ed1...</td>\n",
       "      <td>Аналитик</td>\n",
       "      <td>M</td>\n",
       "      <td>25</td>\n",
       "      <td>Банки, инвестиции, лизинг</td>\n",
       "      <td>['Аналитик']</td>\n",
       "      <td>['SQL', 'DWH', 'Бизнес-анализ', 'Системный ана...</td>\n",
       "      <td>['Русский — Родной', 'Английский — B1 — Средний']</td>\n",
       "      <td>0.0</td>\n",
       "      <td>Опыт работы 2 года 3 месяца</td>\n",
       "      <td>Высшее образование (Магистр)</td>\n",
       "      <td>['Московский государственный технический униве...</td>\n",
       "    </tr>\n",
       "    <tr>\n",
       "      <th>3</th>\n",
       "      <td>https://hh.ru/resume/f068d4e200064239590039ed1...</td>\n",
       "      <td>Аналитик</td>\n",
       "      <td>M</td>\n",
       "      <td>26</td>\n",
       "      <td>Информационные технологии, интернет, телеком</td>\n",
       "      <td>['Тестирование', 'Управление проектами', 'Анал...</td>\n",
       "      <td>['Аналитическое мышление', 'Работа в команде',...</td>\n",
       "      <td>['Русский — Родной', 'Английский — A1 — Началь...</td>\n",
       "      <td>180000.0</td>\n",
       "      <td>Опыт работы 2 года 4 месяца</td>\n",
       "      <td>Высшее образование (Бакалавр)</td>\n",
       "      <td>['Тамбовский государственный технический униве...</td>\n",
       "    </tr>\n",
       "    <tr>\n",
       "      <th>4</th>\n",
       "      <td>https://hh.ru/resume/1ea9beb30009320c280039ed1...</td>\n",
       "      <td>Аналитик</td>\n",
       "      <td>M</td>\n",
       "      <td>0</td>\n",
       "      <td>0</td>\n",
       "      <td>0</td>\n",
       "      <td>['Бумажный документооборот', 'Документооборот'...</td>\n",
       "      <td>0</td>\n",
       "      <td>0.0</td>\n",
       "      <td>Опыт работы 5 лет 5 месяцев</td>\n",
       "      <td>0</td>\n",
       "      <td>0</td>\n",
       "    </tr>\n",
       "    <tr>\n",
       "      <th>...</th>\n",
       "      <td>...</td>\n",
       "      <td>...</td>\n",
       "      <td>...</td>\n",
       "      <td>...</td>\n",
       "      <td>...</td>\n",
       "      <td>...</td>\n",
       "      <td>...</td>\n",
       "      <td>...</td>\n",
       "      <td>...</td>\n",
       "      <td>...</td>\n",
       "      <td>...</td>\n",
       "      <td>...</td>\n",
       "    </tr>\n",
       "    <tr>\n",
       "      <th>15862</th>\n",
       "      <td>https://hh.ru/resume/350a2b26000321cd960039ed1...</td>\n",
       "      <td>Аналитик, разработчик ETL (SAS DIS) и SQL</td>\n",
       "      <td>F</td>\n",
       "      <td>41</td>\n",
       "      <td>Информационные технологии, интернет, телеком</td>\n",
       "      <td>['Банковское ПО', 'Программирование, Разработк...</td>\n",
       "      <td>['Oracle Pl/SQL', 'SQL', 'ORACLE', 'SAP Busine...</td>\n",
       "      <td>['Русский — Родной', 'Английский — C2 — В сове...</td>\n",
       "      <td>211000.0</td>\n",
       "      <td>Опыт работы 16 лет 7 месяцев</td>\n",
       "      <td>Высшее образование</td>\n",
       "      <td>['Национальный технический университет Украины...</td>\n",
       "    </tr>\n",
       "    <tr>\n",
       "      <th>15863</th>\n",
       "      <td>https://hh.ru/resume/7d96599500035fdade0039ed1...</td>\n",
       "      <td>Data Engineer</td>\n",
       "      <td>F</td>\n",
       "      <td>26</td>\n",
       "      <td>Наука, образование</td>\n",
       "      <td>['Информатика, Информационные системы', 'Матем...</td>\n",
       "      <td>['Python', 'C/C++', 'Latex', 'Prism', 'MS Word...</td>\n",
       "      <td>['Русский — Родной', 'Английский — B2 — Средне...</td>\n",
       "      <td>0.0</td>\n",
       "      <td>Опыт работы 4 года 4 месяца</td>\n",
       "      <td>Высшее образование (Магистр)</td>\n",
       "      <td>['Московский физико-технический институт (Госу...</td>\n",
       "    </tr>\n",
       "    <tr>\n",
       "      <th>15864</th>\n",
       "      <td>https://hh.ru/resume/c7b6d387000367598b0039ed1...</td>\n",
       "      <td>ETL DEVELOPER</td>\n",
       "      <td>M</td>\n",
       "      <td>31</td>\n",
       "      <td>Информационные технологии, интернет, телеком</td>\n",
       "      <td>['Банковское ПО', 'Программирование, Разработка']</td>\n",
       "      <td>[]</td>\n",
       "      <td>['Английский — Родной']</td>\n",
       "      <td>0.0</td>\n",
       "      <td>Опыт работы 10 лет 1 месяц</td>\n",
       "      <td>Высшее образование (Бакалавр)</td>\n",
       "      <td>['SRI MANAKULA VINAYAKAR ENGINEERING COLLEGEEL...</td>\n",
       "    </tr>\n",
       "    <tr>\n",
       "      <th>15865</th>\n",
       "      <td>https://hh.ru/resume/03834a040004059e890039ed1...</td>\n",
       "      <td>Operation Geologist</td>\n",
       "      <td>F</td>\n",
       "      <td>45</td>\n",
       "      <td>Raw Materials</td>\n",
       "      <td>['Geological Exploration']</td>\n",
       "      <td>[]</td>\n",
       "      <td>['English — Native', 'Romanian — C2 — Proficie...</td>\n",
       "      <td>0.0</td>\n",
       "      <td>Work experience 19 years 9 months</td>\n",
       "      <td>Higher education (bachelor)</td>\n",
       "      <td>['INTEQMWD', 'Faculty of GeologyGeology']</td>\n",
       "    </tr>\n",
       "    <tr>\n",
       "      <th>15866</th>\n",
       "      <td>https://hh.ru/resume/05a229e900066055770039ed1...</td>\n",
       "      <td>Big Data and DevOps Engineer</td>\n",
       "      <td>M</td>\n",
       "      <td>43</td>\n",
       "      <td>IT, Internet, Telecom</td>\n",
       "      <td>['Engineer']</td>\n",
       "      <td>['Hadoop', 'Hive', 'Kafka', 'Spark', 'Zookeepe...</td>\n",
       "      <td>['Russian — Native', 'English — B2 — Upper Int...</td>\n",
       "      <td>300000.0</td>\n",
       "      <td>Work experience 21 year</td>\n",
       "      <td>Higher education</td>\n",
       "      <td>['MIREA']</td>\n",
       "    </tr>\n",
       "  </tbody>\n",
       "</table>\n",
       "<p>15867 rows × 12 columns</p>\n",
       "</div>"
      ],
      "text/plain": [
       "                                                    link  \\\n",
       "0      https://hh.ru/resume/f6343d3e000364b04e0039ed1...   \n",
       "1      https://hh.ru/resume/a460bf600008813d1e0039ed1...   \n",
       "2      https://hh.ru/resume/1d5acdda0008d6a0580039ed1...   \n",
       "3      https://hh.ru/resume/f068d4e200064239590039ed1...   \n",
       "4      https://hh.ru/resume/1ea9beb30009320c280039ed1...   \n",
       "...                                                  ...   \n",
       "15862  https://hh.ru/resume/350a2b26000321cd960039ed1...   \n",
       "15863  https://hh.ru/resume/7d96599500035fdade0039ed1...   \n",
       "15864  https://hh.ru/resume/c7b6d387000367598b0039ed1...   \n",
       "15865  https://hh.ru/resume/03834a040004059e890039ed1...   \n",
       "15866  https://hh.ru/resume/05a229e900066055770039ed1...   \n",
       "\n",
       "                                            name gender  age  \\\n",
       "0                                       Аналитик      M   29   \n",
       "1                            Аналитик-переводчик      M   26   \n",
       "2                                       Аналитик      M   25   \n",
       "3                                       Аналитик      M   26   \n",
       "4                                       Аналитик      M    0   \n",
       "...                                          ...    ...  ...   \n",
       "15862  Аналитик, разработчик ETL (SAS DIS) и SQL      F   41   \n",
       "15863                              Data Engineer      F   26   \n",
       "15864                              ETL DEVELOPER      M   31   \n",
       "15865                        Operation Geologist      F   45   \n",
       "15866               Big Data and DevOps Engineer      M   43   \n",
       "\n",
       "                                              path1  \\\n",
       "0                         Банки, инвестиции, лизинг   \n",
       "1      Информационные технологии, интернет, телеком   \n",
       "2                         Банки, инвестиции, лизинг   \n",
       "3      Информационные технологии, интернет, телеком   \n",
       "4                                                 0   \n",
       "...                                             ...   \n",
       "15862  Информационные технологии, интернет, телеком   \n",
       "15863                            Наука, образование   \n",
       "15864  Информационные технологии, интернет, телеком   \n",
       "15865                                 Raw Materials   \n",
       "15866                         IT, Internet, Telecom   \n",
       "\n",
       "                                                   path2  \\\n",
       "0                                           ['Аналитик']   \n",
       "1                                           ['Аналитик']   \n",
       "2                                           ['Аналитик']   \n",
       "3      ['Тестирование', 'Управление проектами', 'Анал...   \n",
       "4                                                      0   \n",
       "...                                                  ...   \n",
       "15862  ['Банковское ПО', 'Программирование, Разработк...   \n",
       "15863  ['Информатика, Информационные системы', 'Матем...   \n",
       "15864  ['Банковское ПО', 'Программирование, Разработка']   \n",
       "15865                         ['Geological Exploration']   \n",
       "15866                                       ['Engineer']   \n",
       "\n",
       "                                                  skills  \\\n",
       "0      ['Креативность', 'Работа в команде', 'Грамотна...   \n",
       "1      ['Работоспособность', 'SWOT анализ', 'Перевод'...   \n",
       "2      ['SQL', 'DWH', 'Бизнес-анализ', 'Системный ана...   \n",
       "3      ['Аналитическое мышление', 'Работа в команде',...   \n",
       "4      ['Бумажный документооборот', 'Документооборот'...   \n",
       "...                                                  ...   \n",
       "15862  ['Oracle Pl/SQL', 'SQL', 'ORACLE', 'SAP Busine...   \n",
       "15863  ['Python', 'C/C++', 'Latex', 'Prism', 'MS Word...   \n",
       "15864                                                 []   \n",
       "15865                                                 []   \n",
       "15866  ['Hadoop', 'Hive', 'Kafka', 'Spark', 'Zookeepe...   \n",
       "\n",
       "                                               languages    salary  \\\n",
       "0      ['Русский — Родной', 'Английский — C1 — Продви...       0.0   \n",
       "1      ['Русский — Родной', 'Английский — C2 — В сове...   70000.0   \n",
       "2      ['Русский — Родной', 'Английский — B1 — Средний']       0.0   \n",
       "3      ['Русский — Родной', 'Английский — A1 — Началь...  180000.0   \n",
       "4                                                      0       0.0   \n",
       "...                                                  ...       ...   \n",
       "15862  ['Русский — Родной', 'Английский — C2 — В сове...  211000.0   \n",
       "15863  ['Русский — Родной', 'Английский — B2 — Средне...       0.0   \n",
       "15864                            ['Английский — Родной']       0.0   \n",
       "15865  ['English — Native', 'Romanian — C2 — Proficie...       0.0   \n",
       "15866  ['Russian — Native', 'English — B2 — Upper Int...  300000.0   \n",
       "\n",
       "                              experience                     edu_degree  \\\n",
       "0             Опыт работы 9 лет 3 месяца             Высшее образование   \n",
       "1             Опыт работы 1 год 3 месяца  Высшее образование (Бакалавр)   \n",
       "2            Опыт работы 2 года 3 месяца   Высшее образование (Магистр)   \n",
       "3            Опыт работы 2 года 4 месяца  Высшее образование (Бакалавр)   \n",
       "4            Опыт работы 5 лет 5 месяцев                              0   \n",
       "...                                  ...                            ...   \n",
       "15862       Опыт работы 16 лет 7 месяцев             Высшее образование   \n",
       "15863        Опыт работы 4 года 4 месяца   Высшее образование (Магистр)   \n",
       "15864         Опыт работы 10 лет 1 месяц  Высшее образование (Бакалавр)   \n",
       "15865  Work experience 19 years 9 months    Higher education (bachelor)   \n",
       "15866            Work experience 21 year               Higher education   \n",
       "\n",
       "                                                     uni  \n",
       "0      ['Государственный университет по землеустройст...  \n",
       "1      ['USEEFaculty of Legal and Business Studies Dr...  \n",
       "2      ['Московский государственный технический униве...  \n",
       "3      ['Тамбовский государственный технический униве...  \n",
       "4                                                      0  \n",
       "...                                                  ...  \n",
       "15862  ['Национальный технический университет Украины...  \n",
       "15863  ['Московский физико-технический институт (Госу...  \n",
       "15864  ['SRI MANAKULA VINAYAKAR ENGINEERING COLLEGEEL...  \n",
       "15865          ['INTEQMWD', 'Faculty of GeologyGeology']  \n",
       "15866                                          ['MIREA']  \n",
       "\n",
       "[15867 rows x 12 columns]"
      ]
     },
     "execution_count": 9,
     "metadata": {},
     "output_type": "execute_result"
    }
   ],
   "source": [
    "df_vc = pd.read_csv('res_prim_clean.csv')\n",
    "df_vc"
   ]
  },
  {
   "cell_type": "markdown",
   "id": "parallel-luther",
   "metadata": {},
   "source": [
    "## Сколько соискателей указывают желаемую зп? "
   ]
  },
  {
   "cell_type": "code",
   "execution_count": 18,
   "id": "nasty-ozone",
   "metadata": {},
   "outputs": [
    {
     "data": {
      "text/plain": [
       "Text(0.5, 0, 'Количество соискателей')"
      ]
     },
     "execution_count": 18,
     "metadata": {},
     "output_type": "execute_result"
    },
    {
     "data": {
      "image/png": "[encoded data removed]",
      "text/plain": [
       "<Figure size 720x576 with 1 Axes>"
      ]
     },
     "metadata": {
      "needs_background": "light"
     },
     "output_type": "display_data"
    }
   ],
   "source": [
    "df_vc['has_salary'] = np.where(df_vc['salary']>0, 'Has salary','No salary')\n",
    "\n",
    "report = df_vc[['has_salary', 'salary']].groupby('has_salary').agg('count')\n",
    "report.columns = ['N job seekers']\n",
    "report =report.reset_index()\n",
    "\n",
    "plt.figure(figsize=(10,8))\n",
    "ax= sns.barplot(y='N job seekers', x='has_salary',\n",
    "                data=report)\n",
    "ax.set_title('Количество соискателей по наличию желаемой з/п')\n",
    "ax.set_xlabel('Количество соискателей')\n"
   ]
  },
  {
   "cell_type": "markdown",
   "id": "educated-reputation",
   "metadata": {},
   "source": [
    "Большинство соискателей не указывают желаемую з/п. Возможно, они выигрывают от этого, так как работодатель первым называет з/п и кандидат может претендовать на большее вознаграждение. "
   ]
  },
  {
   "cell_type": "markdown",
   "id": "tender-fruit",
   "metadata": {},
   "source": [
    "## Как распределена зп?"
   ]
  },
  {
   "cell_type": "code",
   "execution_count": 24,
   "id": "characteristic-northeast",
   "metadata": {},
   "outputs": [
    {
     "data": {
      "text/plain": [
       "Text(0.5, 0, 'З/п в в руб.')"
      ]
     },
     "execution_count": 24,
     "metadata": {},
     "output_type": "execute_result"
    },
    {
     "data": {
      "image/png": "[encoded data removed]",
      "text/plain": [
       "<Figure size 720x576 with 1 Axes>"
      ]
     },
     "metadata": {
      "needs_background": "light"
     },
     "output_type": "display_data"
    }
   ],
   "source": [
    "plt.figure(figsize=(10,8))\n",
    "ax = sns.histplot(df_vc[df_vc['salary']>0]['salary'], bins=30)\n",
    "ax.set_title('Распределение желаемой з/п кандидатов hh.ru')\n",
    "ax.set_xlabel('З/п в в руб.')\n"
   ]
  },
  {
   "cell_type": "markdown",
   "id": "brilliant-phenomenon",
   "metadata": {},
   "source": [
    "Наблюдаем, что в данных присуствует аномалии с большим желаемым з/п, которые намного больше среднего значения - несколько миллионов рублей😱. "
   ]
  },
  {
   "cell_type": "markdown",
   "id": "liquid-consent",
   "metadata": {},
   "source": [
    "Попробуем почистить данные"
   ]
  },
  {
   "cell_type": "code",
   "execution_count": 32,
   "id": "fresh-agency",
   "metadata": {},
   "outputs": [],
   "source": [
    "perc99 = np.quantile(df_vc[df_vc['salary']>0]['salary'], 0.99)"
   ]
  },
  {
   "cell_type": "code",
   "execution_count": 33,
   "id": "willing-exemption",
   "metadata": {},
   "outputs": [
    {
     "data": {
      "text/plain": [
       "Text(0.5, 0, 'З/п в в руб.')"
      ]
     },
     "execution_count": 33,
     "metadata": {},
     "output_type": "execute_result"
    },
    {
     "data": {
      "image/png": "[encoded data removed]",
      "text/plain": [
       "<Figure size 720x576 with 1 Axes>"
      ]
     },
     "metadata": {
      "needs_background": "light"
     },
     "output_type": "display_data"
    }
   ],
   "source": [
    "plt.figure(figsize=(10,8))\n",
    "ax = sns.histplot(df_vc[(df_vc['salary']>0)\n",
    "                       &(df_vc['salary']<perc99)]['salary'], bins=30)\n",
    "ax.set_title('Распределение желаемой з/п кандидатов hh.ru')\n",
    "ax.set_xlabel('З/п в в руб.')\n"
   ]
  },
  {
   "cell_type": "markdown",
   "id": "built-estonia",
   "metadata": {},
   "source": [
    "Будем считать аномальными кандидатов, которые желают более 500к рублей. "
   ]
  },
  {
   "cell_type": "code",
   "execution_count": 34,
   "id": "valued-drill",
   "metadata": {},
   "outputs": [
    {
     "data": {
      "text/plain": [
       "Text(0.5, 0, 'З/п в в руб.')"
      ]
     },
     "execution_count": 34,
     "metadata": {},
     "output_type": "execute_result"
    },
    {
     "data": {
      "image/png": "[encoded data removed]",
      "text/plain": [
       "<Figure size 720x576 with 1 Axes>"
      ]
     },
     "metadata": {
      "needs_background": "light"
     },
     "output_type": "display_data"
    }
   ],
   "source": [
    "plt.figure(figsize=(10,8))\n",
    "ax = sns.histplot(np.log(df_vc[(df_vc['salary']>0)\n",
    "                       &(df_vc['salary']<perc99)]['salary']), bins=30)\n",
    "ax.set_title('Логарифм от  желаемой з/п кандидатов hh.ru')\n",
    "ax.set_xlabel('З/п в в руб.')\n"
   ]
  },
  {
   "cell_type": "markdown",
   "id": "postal-incentive",
   "metadata": {},
   "source": [
    "Наблюдаем смещеное распределение, уберем кандидатов, которые просят слишком мало. "
   ]
  },
  {
   "cell_type": "code",
   "execution_count": 38,
   "id": "centered-division",
   "metadata": {},
   "outputs": [
    {
     "data": {
      "text/plain": [
       "Text(0.5, 0, 'З/п в в руб.')"
      ]
     },
     "execution_count": 38,
     "metadata": {},
     "output_type": "execute_result"
    },
    {
     "data": {
      "image/png": "[encoded data removed]",
      "text/plain": [
       "<Figure size 720x576 with 1 Axes>"
      ]
     },
     "metadata": {
      "needs_background": "light"
     },
     "output_type": "display_data"
    }
   ],
   "source": [
    "plt.figure(figsize=(10,8))\n",
    "ax = sns.histplot(np.log(df_vc[(df_vc['salary']>10000)\n",
    "                       &(df_vc['salary']<perc99)]['salary']), bins=30)\n",
    "ax.set_title('Логарифм от  желаемой з/п кандидатов hh.ru')\n",
    "ax.set_xlabel('З/п в в руб.')\n"
   ]
  },
  {
   "cell_type": "markdown",
   "id": "senior-integration",
   "metadata": {},
   "source": [
    "В дальнешейм будем рассматривать только кандидатов с желаемой зп от 10 до 500к или тех, кто не указал свою зп."
   ]
  },
  {
   "cell_type": "markdown",
   "id": "short-spectrum",
   "metadata": {},
   "source": [
    "После сглаживания логарифмом наблюдаем распределение немного похожее на нормальное. Проверим нормальное ли оно?"
   ]
  },
  {
   "cell_type": "code",
   "execution_count": 41,
   "id": "premium-preservation",
   "metadata": {},
   "outputs": [
    {
     "data": {
      "text/plain": [
       "1.0373823341287943e-27"
      ]
     },
     "execution_count": 41,
     "metadata": {},
     "output_type": "execute_result"
    }
   ],
   "source": [
    "k2, p = stats.normaltest(np.log(df_vc[(df_vc['salary']>10000)\n",
    "                       &(df_vc['salary']<perc99)]['salary']))\n",
    "p"
   ]
  },
  {
   "cell_type": "markdown",
   "id": "legendary-offset",
   "metadata": {},
   "source": [
    "Р-value меньше 0.05, следовательно, нельзя принять нулевую гипотезу о нормальности распределения логарифмированной выборки зарплат."
   ]
  },
  {
   "cell_type": "code",
   "execution_count": 44,
   "id": "floppy-gateway",
   "metadata": {},
   "outputs": [],
   "source": [
    "df_clean = df_vc[(df_vc['salary']>10000)\n",
    "                       &(df_vc['salary']<perc99)]"
   ]
  },
  {
   "cell_type": "code",
   "execution_count": 52,
   "id": "ecological-graham",
   "metadata": {},
   "outputs": [],
   "source": [
    "df_clean = df_clean[df_clean['experience']!='Ключевые навыки']"
   ]
  },
  {
   "cell_type": "code",
   "execution_count": null,
   "id": "burning-fence",
   "metadata": {},
   "outputs": [],
   "source": [
    "def find_min_salary(text):\n",
    "    text = text.replace(u'\\xa0', '')\n",
    "    num = re.findall(\"от [0-9]*\", text)\n",
    "    try:\n",
    "        return num[0].replace('от ', '')\n",
    "    except:\n",
    "        return '"
   ]
  },
  {
   "cell_type": "code",
   "execution_count": null,
   "id": "ruled-pharmacy",
   "metadata": {},
   "outputs": [],
   "source": [
    "df['salary'].apply(lambda x: find_min_salary(x))"
   ]
  },
  {
   "cell_type": "code",
   "execution_count": 157,
   "id": "invisible-evidence",
   "metadata": {},
   "outputs": [
    {
     "name": "stderr",
     "output_type": "stream",
     "text": [
      "<ipython-input-156-7b4feff00620>:2: SettingWithCopyWarning: \n",
      "A value is trying to be set on a copy of a slice from a DataFrame.\n",
      "Try using .loc[row_indexer,col_indexer] = value instead\n",
      "\n",
      "See the caveats in the documentation: https://pandas.pydata.org/pandas-docs/stable/user_guide/indexing.html#returning-a-view-versus-a-copy\n",
      "  df['experience'] = df['experience'].str.replace(\"\\xa0\" , ' ')\n",
      "<ipython-input-156-7b4feff00620>:3: SettingWithCopyWarning: \n",
      "A value is trying to be set on a copy of a slice from a DataFrame.\n",
      "Try using .loc[row_indexer,col_indexer] = value instead\n",
      "\n",
      "See the caveats in the documentation: https://pandas.pydata.org/pandas-docs/stable/user_guide/indexing.html#returning-a-view-versus-a-copy\n",
      "  df['experience'] = df['experience'].str.replace('Опыт работы ', '')\n",
      "<ipython-input-156-7b4feff00620>:4: SettingWithCopyWarning: \n",
      "A value is trying to be set on a copy of a slice from a DataFrame.\n",
      "Try using .loc[row_indexer,col_indexer] = value instead\n",
      "\n",
      "See the caveats in the documentation: https://pandas.pydata.org/pandas-docs/stable/user_guide/indexing.html#returning-a-view-versus-a-copy\n",
      "  df['experience'] = df['experience'].str.replace('Work experience ', '')\n",
      "<ipython-input-156-7b4feff00620>:5: SettingWithCopyWarning: \n",
      "A value is trying to be set on a copy of a slice from a DataFrame.\n",
      "Try using .loc[row_indexer,col_indexer] = value instead\n",
      "\n",
      "See the caveats in the documentation: https://pandas.pydata.org/pandas-docs/stable/user_guide/indexing.html#returning-a-view-versus-a-copy\n",
      "  df['experience'] = df['experience'].str.replace('years', 'лет')\n",
      "<ipython-input-156-7b4feff00620>:6: SettingWithCopyWarning: \n",
      "A value is trying to be set on a copy of a slice from a DataFrame.\n",
      "Try using .loc[row_indexer,col_indexer] = value instead\n",
      "\n",
      "See the caveats in the documentation: https://pandas.pydata.org/pandas-docs/stable/user_guide/indexing.html#returning-a-view-versus-a-copy\n",
      "  df['experience'] = df['experience'].str.replace('year', 'лет')\n",
      "<ipython-input-156-7b4feff00620>:7: SettingWithCopyWarning: \n",
      "A value is trying to be set on a copy of a slice from a DataFrame.\n",
      "Try using .loc[row_indexer,col_indexer] = value instead\n",
      "\n",
      "See the caveats in the documentation: https://pandas.pydata.org/pandas-docs/stable/user_guide/indexing.html#returning-a-view-versus-a-copy\n",
      "  df['experience'] = df['experience'].str.replace('года', 'лет')\n",
      "<ipython-input-156-7b4feff00620>:8: SettingWithCopyWarning: \n",
      "A value is trying to be set on a copy of a slice from a DataFrame.\n",
      "Try using .loc[row_indexer,col_indexer] = value instead\n",
      "\n",
      "See the caveats in the documentation: https://pandas.pydata.org/pandas-docs/stable/user_guide/indexing.html#returning-a-view-versus-a-copy\n",
      "  df['experience'] = df['experience'].str.replace('год', 'лет')\n",
      "<ipython-input-156-7b4feff00620>:10: SettingWithCopyWarning: \n",
      "A value is trying to be set on a copy of a slice from a DataFrame.\n",
      "Try using .loc[row_indexer,col_indexer] = value instead\n",
      "\n",
      "See the caveats in the documentation: https://pandas.pydata.org/pandas-docs/stable/user_guide/indexing.html#returning-a-view-versus-a-copy\n",
      "  df['experience'] = df['experience'].str.replace('months', 'месяцев')\n",
      "<ipython-input-156-7b4feff00620>:11: SettingWithCopyWarning: \n",
      "A value is trying to be set on a copy of a slice from a DataFrame.\n",
      "Try using .loc[row_indexer,col_indexer] = value instead\n",
      "\n",
      "See the caveats in the documentation: https://pandas.pydata.org/pandas-docs/stable/user_guide/indexing.html#returning-a-view-versus-a-copy\n",
      "  df['experience'] = df['experience'].str.replace('month', 'месяцев')\n",
      "<ipython-input-156-7b4feff00620>:12: SettingWithCopyWarning: \n",
      "A value is trying to be set on a copy of a slice from a DataFrame.\n",
      "Try using .loc[row_indexer,col_indexer] = value instead\n",
      "\n",
      "See the caveats in the documentation: https://pandas.pydata.org/pandas-docs/stable/user_guide/indexing.html#returning-a-view-versus-a-copy\n",
      "  df['experience'] = df['experience'].str.replace('месяца', 'месяцев')\n",
      "<ipython-input-156-7b4feff00620>:13: SettingWithCopyWarning: \n",
      "A value is trying to be set on a copy of a slice from a DataFrame.\n",
      "Try using .loc[row_indexer,col_indexer] = value instead\n",
      "\n",
      "See the caveats in the documentation: https://pandas.pydata.org/pandas-docs/stable/user_guide/indexing.html#returning-a-view-versus-a-copy\n",
      "  df['experience'] = df['experience'].str.replace('месяц', 'месяцев')\n",
      "<ipython-input-156-7b4feff00620>:14: SettingWithCopyWarning: \n",
      "A value is trying to be set on a copy of a slice from a DataFrame.\n",
      "Try using .loc[row_indexer,col_indexer] = value instead\n",
      "\n",
      "See the caveats in the documentation: https://pandas.pydata.org/pandas-docs/stable/user_guide/indexing.html#returning-a-view-versus-a-copy\n",
      "  df['experience'] = df['experience'].str.replace('месяцевев', 'месяцев')\n",
      "<ipython-input-156-7b4feff00620>:17: SettingWithCopyWarning: \n",
      "A value is trying to be set on a copy of a slice from a DataFrame.\n",
      "Try using .loc[row_indexer,col_indexer] = value instead\n",
      "\n",
      "See the caveats in the documentation: https://pandas.pydata.org/pandas-docs/stable/user_guide/indexing.html#returning-a-view-versus-a-copy\n",
      "  df['exper_years'] = np.where(df['experience'].str.contains('лет'),\n",
      "<ipython-input-156-7b4feff00620>:20: SettingWithCopyWarning: \n",
      "A value is trying to be set on a copy of a slice from a DataFrame.\n",
      "Try using .loc[row_indexer,col_indexer] = value instead\n",
      "\n",
      "See the caveats in the documentation: https://pandas.pydata.org/pandas-docs/stable/user_guide/indexing.html#returning-a-view-versus-a-copy\n",
      "  df['exper_months'] = np.where(df['experience'].str.contains('лет'),\n",
      "<ipython-input-156-7b4feff00620>:24: SettingWithCopyWarning: \n",
      "A value is trying to be set on a copy of a slice from a DataFrame.\n",
      "Try using .loc[row_indexer,col_indexer] = value instead\n",
      "\n",
      "See the caveats in the documentation: https://pandas.pydata.org/pandas-docs/stable/user_guide/indexing.html#returning-a-view-versus-a-copy\n",
      "  df['exper_years'] = df['exper_years'].apply(str).apply(lambda x: find_number(x))\n",
      "<ipython-input-156-7b4feff00620>:25: SettingWithCopyWarning: \n",
      "A value is trying to be set on a copy of a slice from a DataFrame.\n",
      "Try using .loc[row_indexer,col_indexer] = value instead\n",
      "\n",
      "See the caveats in the documentation: https://pandas.pydata.org/pandas-docs/stable/user_guide/indexing.html#returning-a-view-versus-a-copy\n",
      "  df['exper_months'] = df['exper_months'].apply(str).apply(lambda x: find_number(x))\n",
      "<ipython-input-156-7b4feff00620>:28: SettingWithCopyWarning: \n",
      "A value is trying to be set on a copy of a slice from a DataFrame.\n",
      "Try using .loc[row_indexer,col_indexer] = value instead\n",
      "\n",
      "See the caveats in the documentation: https://pandas.pydata.org/pandas-docs/stable/user_guide/indexing.html#returning-a-view-versus-a-copy\n",
      "  df[col] = df[col].apply(str).apply(lambda x: find_number(x))\n",
      "<ipython-input-156-7b4feff00620>:29: SettingWithCopyWarning: \n",
      "A value is trying to be set on a copy of a slice from a DataFrame.\n",
      "Try using .loc[row_indexer,col_indexer] = value instead\n",
      "\n",
      "See the caveats in the documentation: https://pandas.pydata.org/pandas-docs/stable/user_guide/indexing.html#returning-a-view-versus-a-copy\n",
      "  df[col] = np.where(df[col]=='', 0, df[col])\n",
      "<ipython-input-156-7b4feff00620>:30: SettingWithCopyWarning: \n",
      "A value is trying to be set on a copy of a slice from a DataFrame.\n",
      "Try using .loc[row_indexer,col_indexer] = value instead\n",
      "\n",
      "See the caveats in the documentation: https://pandas.pydata.org/pandas-docs/stable/user_guide/indexing.html#returning-a-view-versus-a-copy\n",
      "  df[col] = df[col].astype(int)\n",
      "<ipython-input-156-7b4feff00620>:31: SettingWithCopyWarning: \n",
      "A value is trying to be set on a copy of a slice from a DataFrame.\n",
      "Try using .loc[row_indexer,col_indexer] = value instead\n",
      "\n",
      "See the caveats in the documentation: https://pandas.pydata.org/pandas-docs/stable/user_guide/indexing.html#returning-a-view-versus-a-copy\n",
      "  df['total_months'] = df['exper_years']*12 + df['exper_months']\n",
      "<ipython-input-156-7b4feff00620>:42: SettingWithCopyWarning: \n",
      "A value is trying to be set on a copy of a slice from a DataFrame.\n",
      "Try using .loc[row_indexer,col_indexer] = value instead\n",
      "\n",
      "See the caveats in the documentation: https://pandas.pydata.org/pandas-docs/stable/user_guide/indexing.html#returning-a-view-versus-a-copy\n",
      "  df['exper_groups'] = np.select(conds,choices)\n"
     ]
    }
   ],
   "source": [
    "df_clean = get_experience(df_clean)"
   ]
  },
  {
   "cell_type": "code",
   "execution_count": 145,
   "id": "blond-entity",
   "metadata": {},
   "outputs": [
    {
     "data": {
      "text/plain": [
       "1 лет 4 месяцев      61\n",
       "5 лет 2 месяцев      53\n",
       "4 месяцев            52\n",
       "1 лет 1 месяцев      50\n",
       "3 лет 4 месяцев      50\n",
       "                     ..\n",
       "23 лет 1 месяцев      1\n",
       "42 лет 8 месяцев      1\n",
       "30 лет 8 месяцев      1\n",
       "36 лет 5 месяцев      1\n",
       "34 лет 10 месяцев     1\n",
       "Name: experience, Length: 459, dtype: int64"
      ]
     },
     "execution_count": 145,
     "metadata": {},
     "output_type": "execute_result"
    }
   ],
   "source": [
    "df_clean2 = df_clean.copy()\n",
    "df_clean2 = get_experience(df_clean2)\n",
    "df_clean2['experience'].value_counts()"
   ]
  },
  {
   "cell_type": "code",
   "execution_count": 146,
   "id": "organizational-ability",
   "metadata": {},
   "outputs": [
    {
     "data": {
      "text/plain": [
       "10+    2995\n",
       "6-9    1426\n",
       "2-3    1001\n",
       "4-5     865\n",
       "1       537\n",
       "0        55\n",
       "Name: exper_groups, dtype: int64"
      ]
     },
     "execution_count": 146,
     "metadata": {},
     "output_type": "execute_result"
    }
   ],
   "source": [
    "df_clean2['exper_groups'].value_counts()"
   ]
  },
  {
   "cell_type": "code",
   "execution_count": 88,
   "id": "elect-inflation",
   "metadata": {
    "collapsed": true
   },
   "outputs": [
    {
     "data": {
      "text/plain": [
       "1          [1 ,  3 месяцев]\n",
       "3          [2 ,  4 месяцев]\n",
       "5         [1 ,  11 месяцев]\n",
       "7          [2 ,  6 месяцев]\n",
       "9         [3 ,  10 месяцев]\n",
       "                ...        \n",
       "15852     [11 ,  2 месяцев]\n",
       "15856      [2 ,  8 месяцев]\n",
       "15861    [11 ,  11 месяцев]\n",
       "15862     [16 ,  7 месяцев]\n",
       "15866               [21 , ]\n",
       "Name: experience, Length: 6879, dtype: object"
      ]
     },
     "execution_count": 88,
     "metadata": {},
     "output_type": "execute_result"
    }
   ],
   "source": [
    "df_clean2['experience'] = df_clean2['experience'].str.replace(' ', ' ')\n",
    "df_clean2['experience'].str.split('лет')"
   ]
  },
  {
   "cell_type": "code",
   "execution_count": 99,
   "id": "presidential-sperm",
   "metadata": {
    "collapsed": true
   },
   "outputs": [
    {
     "data": {
      "text/plain": [
       "33        [3 , ]\n",
       "61       [20 , ]\n",
       "62        [3 , ]\n",
       "63        [4 , ]\n",
       "70       [28 , ]\n",
       "          ...   \n",
       "15713     [5 , ]\n",
       "15733     [2 , ]\n",
       "15736    [19 , ]\n",
       "15840     [6 , ]\n",
       "15866    [21 , ]\n",
       "Name: experience, Length: 732, dtype: object"
      ]
     },
     "execution_count": 99,
     "metadata": {},
     "output_type": "execute_result"
    }
   ],
   "source": [
    "df_clean2[~df_clean2['experience'].str.contains('мес')]['experience'].str.split('лет')"
   ]
  },
  {
   "cell_type": "code",
   "execution_count": 110,
   "id": "finite-discount",
   "metadata": {
    "collapsed": true
   },
   "outputs": [
    {
     "data": {
      "text/plain": [
       "1          [1 ,  3 месяцев]\n",
       "3          [2 ,  4 месяцев]\n",
       "5         [1 ,  11 месяцев]\n",
       "7          [2 ,  6 месяцев]\n",
       "9         [3 ,  10 месяцев]\n",
       "                ...        \n",
       "15852     [11 ,  2 месяцев]\n",
       "15856      [2 ,  8 месяцев]\n",
       "15861    [11 ,  11 месяцев]\n",
       "15862     [16 ,  7 месяцев]\n",
       "15866               [21 , ]\n",
       "Name: experience, Length: 6879, dtype: object"
      ]
     },
     "execution_count": 110,
     "metadata": {},
     "output_type": "execute_result"
    }
   ],
   "source": [
    "df_clean2['experience'].str.split('лет')"
   ]
  },
  {
   "cell_type": "code",
   "execution_count": 128,
   "id": "graduate-daisy",
   "metadata": {},
   "outputs": [],
   "source": [
    "df_clean2['exper_years'] = df_clean2['experience'].str.split('лет').str[0]\n",
    "df_clean2['exper_months'] = df_clean2['experience'].str.split('лет').str[1]"
   ]
  },
  {
   "cell_type": "code",
   "execution_count": 129,
   "id": "eight-yorkshire",
   "metadata": {
    "scrolled": true
   },
   "outputs": [
    {
     "data": {
      "text/plain": [
       "1          3 месяцев\n",
       "3          4 месяцев\n",
       "5         11 месяцев\n",
       "7          6 месяцев\n",
       "9         10 месяцев\n",
       "            ...     \n",
       "15852      2 месяцев\n",
       "15856      8 месяцев\n",
       "15861     11 месяцев\n",
       "15862      7 месяцев\n",
       "15866               \n",
       "Name: exper_months, Length: 6879, dtype: object"
      ]
     },
     "execution_count": 129,
     "metadata": {},
     "output_type": "execute_result"
    }
   ],
   "source": [
    "df_clean2['exper_months']"
   ]
  },
  {
   "cell_type": "code",
   "execution_count": 121,
   "id": "neutral-africa",
   "metadata": {},
   "outputs": [
    {
     "data": {
      "text/plain": [
       "' 3\\xa0месяцев'"
      ]
     },
     "execution_count": 121,
     "metadata": {},
     "output_type": "execute_result"
    }
   ],
   "source": [
    "df_clean2['exper_months']"
   ]
  },
  {
   "cell_type": "code",
   "execution_count": 131,
   "id": "skilled-mapping",
   "metadata": {},
   "outputs": [
    {
     "data": {
      "text/plain": [
       "1         3\n",
       "3         4\n",
       "5        11\n",
       "7         6\n",
       "9        10\n",
       "         ..\n",
       "15852     2\n",
       "15856     8\n",
       "15861    11\n",
       "15862     7\n",
       "15866      \n",
       "Name: exper_months, Length: 6879, dtype: object"
      ]
     },
     "execution_count": 131,
     "metadata": {},
     "output_type": "execute_result"
    }
   ],
   "source": [
    "df_clean2['exper_months'].apply(str).apply(lambda x: find_number(x))\n"
   ]
  },
  {
   "cell_type": "code",
   "execution_count": 156,
   "id": "champion-navigator",
   "metadata": {},
   "outputs": [],
   "source": [
    "def get_experience(df):\n",
    "    df['experience'] = df['experience'].str.replace(\"\\xa0\" , ' ')\n",
    "    df['experience'] = df['experience'].str.replace('Опыт работы ', '')\n",
    "    df['experience'] = df['experience'].str.replace('Work experience ', '')\n",
    "    df['experience'] = df['experience'].str.replace('years', 'лет')\n",
    "    df['experience'] = df['experience'].str.replace('year', 'лет')\n",
    "    df['experience'] = df['experience'].str.replace('года', 'лет')\n",
    "    df['experience'] = df['experience'].str.replace('год', 'лет')\n",
    "    \n",
    "    df['experience'] = df['experience'].str.replace('months', 'месяцев')\n",
    "    df['experience'] = df['experience'].str.replace('month', 'месяцев')\n",
    "    df['experience'] = df['experience'].str.replace('месяца', 'месяцев')\n",
    "    df['experience'] = df['experience'].str.replace('месяц', 'месяцев')\n",
    "    df['experience'] = df['experience'].str.replace('месяцевев', 'месяцев')\n",
    "    \n",
    "    \n",
    "    df['exper_years'] = np.where(df['experience'].str.contains('лет'),\n",
    "                                 df['experience'].str.split('лет').str[0],\n",
    "                                 '')\n",
    "    df['exper_months'] = np.where(df['experience'].str.contains('лет'),\n",
    "                                df['experience'].str.split('лет').str[1],\n",
    "                                  df['experience'])\n",
    "    \n",
    "    df['exper_years'] = df['exper_years'].apply(str).apply(lambda x: find_number(x))\n",
    "    df['exper_months'] = df['exper_months'].apply(str).apply(lambda x: find_number(x))\n",
    "    \n",
    "    for col in ['exper_years', 'exper_months']:\n",
    "        df[col] = df[col].apply(str).apply(lambda x: find_number(x))\n",
    "        df[col] = np.where(df[col]=='', 0, df[col])\n",
    "        df[col] = df[col].astype(int)\n",
    "    df['total_months'] = df['exper_years']*12 + df['exper_months']\n",
    "    \n",
    "    conds = [\n",
    "        df['exper_years']==0,\n",
    "        df['exper_years']==1,\n",
    "        df['exper_years']<4,\n",
    "        df['exper_years']<6,\n",
    "        df['exper_years']<10,\n",
    "        df['exper_years']>=10,\n",
    "    ]\n",
    "    choices = ['до 1', 'от 1 до 2 лет', 'от 2 до 4 лет', 'от 4 до 5 лет','от 6 до 10 лет','10 лет и более' ]\n",
    "    df['exper_groups'] = np.select(conds,choices)\n",
    "    \n",
    "    \n",
    "    return df"
   ]
  },
  {
   "cell_type": "code",
   "execution_count": 159,
   "id": "negative-butterfly",
   "metadata": {
    "collapsed": true
   },
   "outputs": [
    {
     "data": {
      "text/html": [
       "<div>\n",
       "<style scoped>\n",
       "    .dataframe tbody tr th:only-of-type {\n",
       "        vertical-align: middle;\n",
       "    }\n",
       "\n",
       "    .dataframe tbody tr th {\n",
       "        vertical-align: top;\n",
       "    }\n",
       "\n",
       "    .dataframe thead th {\n",
       "        text-align: right;\n",
       "    }\n",
       "</style>\n",
       "<table border=\"1\" class=\"dataframe\">\n",
       "  <thead>\n",
       "    <tr style=\"text-align: right;\">\n",
       "      <th></th>\n",
       "      <th>link</th>\n",
       "      <th>name</th>\n",
       "      <th>gender</th>\n",
       "      <th>age</th>\n",
       "      <th>path1</th>\n",
       "      <th>path2</th>\n",
       "      <th>skills</th>\n",
       "      <th>languages</th>\n",
       "      <th>salary</th>\n",
       "      <th>experience</th>\n",
       "      <th>edu_degree</th>\n",
       "      <th>uni</th>\n",
       "      <th>has_salary</th>\n",
       "      <th>exper_years</th>\n",
       "      <th>exper_months</th>\n",
       "      <th>total_months</th>\n",
       "      <th>exper_groups</th>\n",
       "      <th>experience_ye</th>\n",
       "    </tr>\n",
       "  </thead>\n",
       "  <tbody>\n",
       "    <tr>\n",
       "      <th>41</th>\n",
       "      <td>https://hh.ru/resume/ca517e8d0008a40f7e0039ed1...</td>\n",
       "      <td>Аналитик</td>\n",
       "      <td>M</td>\n",
       "      <td>23</td>\n",
       "      <td>Информационные технологии, интернет, телеком</td>\n",
       "      <td>['Тестирование', 'CRM системы', 'Аналитик']</td>\n",
       "      <td>['Целеустремленность', 'Коммуникабельность', '...</td>\n",
       "      <td>['Русский — Родной', 'Английский — B1 — Средний']</td>\n",
       "      <td>140000.0</td>\n",
       "      <td>10 месяцев</td>\n",
       "      <td>Среднее специальное образование</td>\n",
       "      <td>['Российский государственный аграрный универси...</td>\n",
       "      <td>Has salary</td>\n",
       "      <td>0</td>\n",
       "      <td>10</td>\n",
       "      <td>10</td>\n",
       "      <td>до 1</td>\n",
       "      <td>10 месяцев</td>\n",
       "    </tr>\n",
       "    <tr>\n",
       "      <th>103</th>\n",
       "      <td>https://hh.ru/resume/bbe81fff00059ec8b90039ed1...</td>\n",
       "      <td>Аналитик</td>\n",
       "      <td>M</td>\n",
       "      <td>23</td>\n",
       "      <td>Начало карьеры, студенты</td>\n",
       "      <td>['Информационные технологии, Интернет, Мультим...</td>\n",
       "      <td>['MS Office', 'Visual Basic', '1С: Предприятие...</td>\n",
       "      <td>['Русский — Родной', 'Английский — C2 — В сове...</td>\n",
       "      <td>80000.0</td>\n",
       "      <td>11 месяцев</td>\n",
       "      <td>Высшее образование</td>\n",
       "      <td>['Национальный исследовательский университет \"...</td>\n",
       "      <td>Has salary</td>\n",
       "      <td>0</td>\n",
       "      <td>11</td>\n",
       "      <td>11</td>\n",
       "      <td>до 1</td>\n",
       "      <td>11 месяцев</td>\n",
       "    </tr>\n",
       "    <tr>\n",
       "      <th>158</th>\n",
       "      <td>https://hh.ru/resume/8b2d7d4700092277b60039ed1...</td>\n",
       "      <td>Product Analyst</td>\n",
       "      <td>M</td>\n",
       "      <td>24</td>\n",
       "      <td>Информационные технологии, интернет, телеком</td>\n",
       "      <td>['Игровое ПО', 'Управление проектами', 'Аналит...</td>\n",
       "      <td>['Работа в команде', 'Управление проектами', '...</td>\n",
       "      <td>['Русский — Родной', 'Английский — C1 — Продви...</td>\n",
       "      <td>80000.0</td>\n",
       "      <td>11 месяцев</td>\n",
       "      <td>Высшее образование (Бакалавр)</td>\n",
       "      <td>['Сибирский федеральный университет, Красноярс...</td>\n",
       "      <td>Has salary</td>\n",
       "      <td>0</td>\n",
       "      <td>11</td>\n",
       "      <td>11</td>\n",
       "      <td>до 1</td>\n",
       "      <td>11 месяцев</td>\n",
       "    </tr>\n",
       "    <tr>\n",
       "      <th>271</th>\n",
       "      <td>https://hh.ru/resume/927328160007e639420039ed1...</td>\n",
       "      <td>Аналитик</td>\n",
       "      <td>M</td>\n",
       "      <td>21</td>\n",
       "      <td>Информационные технологии, интернет, телеком</td>\n",
       "      <td>['Программирование, Разработка', 'Управление п...</td>\n",
       "      <td>['C++, Python, SQL, C, Bash', 'Django, Postgre...</td>\n",
       "      <td>['Русский — Родной', 'Английский — B1 — Средний']</td>\n",
       "      <td>150000.0</td>\n",
       "      <td>8 месяцев</td>\n",
       "      <td>Неоконченное высшее образование</td>\n",
       "      <td>['Московский физико-технический институт (Госу...</td>\n",
       "      <td>Has salary</td>\n",
       "      <td>0</td>\n",
       "      <td>8</td>\n",
       "      <td>8</td>\n",
       "      <td>до 1</td>\n",
       "      <td>8 месяцев</td>\n",
       "    </tr>\n",
       "    <tr>\n",
       "      <th>287</th>\n",
       "      <td>https://hh.ru/resume/f1336faf0006d8788b0039ed1...</td>\n",
       "      <td>Аналитик</td>\n",
       "      <td>M</td>\n",
       "      <td>26</td>\n",
       "      <td>Консультирование</td>\n",
       "      <td>['Исследования рынка', 'Начальный уровень, Мал...</td>\n",
       "      <td>['Уверенный пользователь MS Office', 'Стрессоу...</td>\n",
       "      <td>['Русский — Родной', 'Английский — C1 — Продви...</td>\n",
       "      <td>50000.0</td>\n",
       "      <td>10 месяцев</td>\n",
       "      <td>Высшее образование (Магистр)</td>\n",
       "      <td>['Московский государственный университет им. М...</td>\n",
       "      <td>Has salary</td>\n",
       "      <td>0</td>\n",
       "      <td>10</td>\n",
       "      <td>10</td>\n",
       "      <td>до 1</td>\n",
       "      <td>10 месяцев</td>\n",
       "    </tr>\n",
       "    <tr>\n",
       "      <th>...</th>\n",
       "      <td>...</td>\n",
       "      <td>...</td>\n",
       "      <td>...</td>\n",
       "      <td>...</td>\n",
       "      <td>...</td>\n",
       "      <td>...</td>\n",
       "      <td>...</td>\n",
       "      <td>...</td>\n",
       "      <td>...</td>\n",
       "      <td>...</td>\n",
       "      <td>...</td>\n",
       "      <td>...</td>\n",
       "      <td>...</td>\n",
       "      <td>...</td>\n",
       "      <td>...</td>\n",
       "      <td>...</td>\n",
       "      <td>...</td>\n",
       "      <td>...</td>\n",
       "    </tr>\n",
       "    <tr>\n",
       "      <th>15618</th>\n",
       "      <td>https://hh.ru/resume/e915c3330002a6aafd0039ed1...</td>\n",
       "      <td>Аналитик данных/ Data analyst</td>\n",
       "      <td>F</td>\n",
       "      <td>27</td>\n",
       "      <td>Банки, инвестиции, лизинг</td>\n",
       "      <td>['Аналитик']</td>\n",
       "      <td>['Маркетинговый анализ', 'Анализ данных', 'Про...</td>\n",
       "      <td>['Русский — Родной', 'Английский — C2 — В сове...</td>\n",
       "      <td>80000.0</td>\n",
       "      <td>3 месяцев</td>\n",
       "      <td>Высшее образование</td>\n",
       "      <td>['Национальный исследовательский университет \"...</td>\n",
       "      <td>Has salary</td>\n",
       "      <td>0</td>\n",
       "      <td>3</td>\n",
       "      <td>3</td>\n",
       "      <td>до 1</td>\n",
       "      <td>3 месяцев</td>\n",
       "    </tr>\n",
       "    <tr>\n",
       "      <th>15670</th>\n",
       "      <td>https://hh.ru/resume/cd1e7d8c0008fdeb170039ed1...</td>\n",
       "      <td>Аналитик данных / Data Analyst, потребительски...</td>\n",
       "      <td>M</td>\n",
       "      <td>24</td>\n",
       "      <td>Банки, инвестиции, лизинг</td>\n",
       "      <td>['Аналитик']</td>\n",
       "      <td>['Работоспособность', 'Python', 'SQL']</td>\n",
       "      <td>['Русский — Родной', 'Английский — B2 — Средне...</td>\n",
       "      <td>100000.0</td>\n",
       "      <td>2 месяцев</td>\n",
       "      <td>Высшее образование</td>\n",
       "      <td>['Московский физико-технический институт (Госу...</td>\n",
       "      <td>Has salary</td>\n",
       "      <td>0</td>\n",
       "      <td>2</td>\n",
       "      <td>2</td>\n",
       "      <td>до 1</td>\n",
       "      <td>2 месяцев</td>\n",
       "    </tr>\n",
       "    <tr>\n",
       "      <th>15751</th>\n",
       "      <td>https://hh.ru/resume/3c5eafdb00034bf86e0039ed1...</td>\n",
       "      <td>Marketing | PR | Ecommerce | Data Analyst</td>\n",
       "      <td>M</td>\n",
       "      <td>26</td>\n",
       "      <td>Маркетинг, реклама, PR</td>\n",
       "      <td>['Дизайнер', 'PR, Маркетинговые коммуникации',...</td>\n",
       "      <td>['Data Analysis', 'MS PowerPoint', 'Data Minin...</td>\n",
       "      <td>['Русский — Родной', 'Английский — C2 — В сове...</td>\n",
       "      <td>50000.0</td>\n",
       "      <td>9 месяцев</td>\n",
       "      <td>Высшее образование</td>\n",
       "      <td>['Modul University ViennaBachelor of Business ...</td>\n",
       "      <td>Has salary</td>\n",
       "      <td>0</td>\n",
       "      <td>9</td>\n",
       "      <td>9</td>\n",
       "      <td>до 1</td>\n",
       "      <td>9 месяцев</td>\n",
       "    </tr>\n",
       "    <tr>\n",
       "      <th>15803</th>\n",
       "      <td>https://hh.ru/resume/f655b4a90007fb24d80039ed1...</td>\n",
       "      <td>Python разработчик</td>\n",
       "      <td>M</td>\n",
       "      <td>30</td>\n",
       "      <td>Начало карьеры, студенты</td>\n",
       "      <td>['Информационные технологии, Интернет, Мультим...</td>\n",
       "      <td>['Python', 'Django Framework', 'Docker', 'dock...</td>\n",
       "      <td>['Русский — Родной', 'Английский — A2 — Элемен...</td>\n",
       "      <td>50000.0</td>\n",
       "      <td>4 месяцев</td>\n",
       "      <td>Высшее образование (Магистр)</td>\n",
       "      <td>['Национальный исследовательский ядерный униве...</td>\n",
       "      <td>Has salary</td>\n",
       "      <td>0</td>\n",
       "      <td>4</td>\n",
       "      <td>4</td>\n",
       "      <td>до 1</td>\n",
       "      <td>4 месяцев</td>\n",
       "    </tr>\n",
       "    <tr>\n",
       "      <th>15825</th>\n",
       "      <td>https://hh.ru/resume/8931f914000919b9a50039ed1...</td>\n",
       "      <td>SQL Аналитик</td>\n",
       "      <td>F</td>\n",
       "      <td>25</td>\n",
       "      <td>Информационные технологии, интернет, телеком</td>\n",
       "      <td>['Аналитик']</td>\n",
       "      <td>['Исполнительность', 'SQL', 'Английский язык',...</td>\n",
       "      <td>['Русский — Родной', 'Английский — C1 — Продви...</td>\n",
       "      <td>50000.0</td>\n",
       "      <td>7 месяцев</td>\n",
       "      <td>Высшее образование</td>\n",
       "      <td>['Московский государственный технический униве...</td>\n",
       "      <td>Has salary</td>\n",
       "      <td>0</td>\n",
       "      <td>7</td>\n",
       "      <td>7</td>\n",
       "      <td>до 1</td>\n",
       "      <td>7 месяцев</td>\n",
       "    </tr>\n",
       "  </tbody>\n",
       "</table>\n",
       "<p>432 rows × 18 columns</p>\n",
       "</div>"
      ],
      "text/plain": [
       "                                                    link  \\\n",
       "41     https://hh.ru/resume/ca517e8d0008a40f7e0039ed1...   \n",
       "103    https://hh.ru/resume/bbe81fff00059ec8b90039ed1...   \n",
       "158    https://hh.ru/resume/8b2d7d4700092277b60039ed1...   \n",
       "271    https://hh.ru/resume/927328160007e639420039ed1...   \n",
       "287    https://hh.ru/resume/f1336faf0006d8788b0039ed1...   \n",
       "...                                                  ...   \n",
       "15618  https://hh.ru/resume/e915c3330002a6aafd0039ed1...   \n",
       "15670  https://hh.ru/resume/cd1e7d8c0008fdeb170039ed1...   \n",
       "15751  https://hh.ru/resume/3c5eafdb00034bf86e0039ed1...   \n",
       "15803  https://hh.ru/resume/f655b4a90007fb24d80039ed1...   \n",
       "15825  https://hh.ru/resume/8931f914000919b9a50039ed1...   \n",
       "\n",
       "                                                    name gender  age  \\\n",
       "41                                              Аналитик      M   23   \n",
       "103                                             Аналитик      M   23   \n",
       "158                                      Product Analyst      M   24   \n",
       "271                                             Аналитик      M   21   \n",
       "287                                             Аналитик      M   26   \n",
       "...                                                  ...    ...  ...   \n",
       "15618                     Аналитик данных/ Data analyst       F   27   \n",
       "15670  Аналитик данных / Data Analyst, потребительски...      M   24   \n",
       "15751          Marketing | PR | Ecommerce | Data Analyst      M   26   \n",
       "15803                                 Python разработчик      M   30   \n",
       "15825                                       SQL Аналитик      F   25   \n",
       "\n",
       "                                              path1  \\\n",
       "41     Информационные технологии, интернет, телеком   \n",
       "103                        Начало карьеры, студенты   \n",
       "158    Информационные технологии, интернет, телеком   \n",
       "271    Информационные технологии, интернет, телеком   \n",
       "287                                Консультирование   \n",
       "...                                             ...   \n",
       "15618                     Банки, инвестиции, лизинг   \n",
       "15670                     Банки, инвестиции, лизинг   \n",
       "15751                        Маркетинг, реклама, PR   \n",
       "15803                      Начало карьеры, студенты   \n",
       "15825  Информационные технологии, интернет, телеком   \n",
       "\n",
       "                                                   path2  \\\n",
       "41           ['Тестирование', 'CRM системы', 'Аналитик']   \n",
       "103    ['Информационные технологии, Интернет, Мультим...   \n",
       "158    ['Игровое ПО', 'Управление проектами', 'Аналит...   \n",
       "271    ['Программирование, Разработка', 'Управление п...   \n",
       "287    ['Исследования рынка', 'Начальный уровень, Мал...   \n",
       "...                                                  ...   \n",
       "15618                                       ['Аналитик']   \n",
       "15670                                       ['Аналитик']   \n",
       "15751  ['Дизайнер', 'PR, Маркетинговые коммуникации',...   \n",
       "15803  ['Информационные технологии, Интернет, Мультим...   \n",
       "15825                                       ['Аналитик']   \n",
       "\n",
       "                                                  skills  \\\n",
       "41     ['Целеустремленность', 'Коммуникабельность', '...   \n",
       "103    ['MS Office', 'Visual Basic', '1С: Предприятие...   \n",
       "158    ['Работа в команде', 'Управление проектами', '...   \n",
       "271    ['C++, Python, SQL, C, Bash', 'Django, Postgre...   \n",
       "287    ['Уверенный пользователь MS Office', 'Стрессоу...   \n",
       "...                                                  ...   \n",
       "15618  ['Маркетинговый анализ', 'Анализ данных', 'Про...   \n",
       "15670             ['Работоспособность', 'Python', 'SQL']   \n",
       "15751  ['Data Analysis', 'MS PowerPoint', 'Data Minin...   \n",
       "15803  ['Python', 'Django Framework', 'Docker', 'dock...   \n",
       "15825  ['Исполнительность', 'SQL', 'Английский язык',...   \n",
       "\n",
       "                                               languages    salary  \\\n",
       "41     ['Русский — Родной', 'Английский — B1 — Средний']  140000.0   \n",
       "103    ['Русский — Родной', 'Английский — C2 — В сове...   80000.0   \n",
       "158    ['Русский — Родной', 'Английский — C1 — Продви...   80000.0   \n",
       "271    ['Русский — Родной', 'Английский — B1 — Средний']  150000.0   \n",
       "287    ['Русский — Родной', 'Английский — C1 — Продви...   50000.0   \n",
       "...                                                  ...       ...   \n",
       "15618  ['Русский — Родной', 'Английский — C2 — В сове...   80000.0   \n",
       "15670  ['Русский — Родной', 'Английский — B2 — Средне...  100000.0   \n",
       "15751  ['Русский — Родной', 'Английский — C2 — В сове...   50000.0   \n",
       "15803  ['Русский — Родной', 'Английский — A2 — Элемен...   50000.0   \n",
       "15825  ['Русский — Родной', 'Английский — C1 — Продви...   50000.0   \n",
       "\n",
       "       experience                       edu_degree  \\\n",
       "41     10 месяцев  Среднее специальное образование   \n",
       "103    11 месяцев               Высшее образование   \n",
       "158    11 месяцев    Высшее образование (Бакалавр)   \n",
       "271     8 месяцев  Неоконченное высшее образование   \n",
       "287    10 месяцев     Высшее образование (Магистр)   \n",
       "...           ...                              ...   \n",
       "15618   3 месяцев               Высшее образование   \n",
       "15670   2 месяцев               Высшее образование   \n",
       "15751   9 месяцев               Высшее образование   \n",
       "15803   4 месяцев     Высшее образование (Магистр)   \n",
       "15825   7 месяцев               Высшее образование   \n",
       "\n",
       "                                                     uni  has_salary  \\\n",
       "41     ['Российский государственный аграрный универси...  Has salary   \n",
       "103    ['Национальный исследовательский университет \"...  Has salary   \n",
       "158    ['Сибирский федеральный университет, Красноярс...  Has salary   \n",
       "271    ['Московский физико-технический институт (Госу...  Has salary   \n",
       "287    ['Московский государственный университет им. М...  Has salary   \n",
       "...                                                  ...         ...   \n",
       "15618  ['Национальный исследовательский университет \"...  Has salary   \n",
       "15670  ['Московский физико-технический институт (Госу...  Has salary   \n",
       "15751  ['Modul University ViennaBachelor of Business ...  Has salary   \n",
       "15803  ['Национальный исследовательский ядерный униве...  Has salary   \n",
       "15825  ['Московский государственный технический униве...  Has salary   \n",
       "\n",
       "       exper_years  exper_months  total_months exper_groups experience_ye  \n",
       "41               0            10            10         до 1    10 месяцев  \n",
       "103              0            11            11         до 1    11 месяцев  \n",
       "158              0            11            11         до 1    11 месяцев  \n",
       "271              0             8             8         до 1     8 месяцев  \n",
       "287              0            10            10         до 1    10 месяцев  \n",
       "...            ...           ...           ...          ...           ...  \n",
       "15618            0             3             3         до 1     3 месяцев  \n",
       "15670            0             2             2         до 1     2 месяцев  \n",
       "15751            0             9             9         до 1     9 месяцев  \n",
       "15803            0             4             4         до 1     4 месяцев  \n",
       "15825            0             7             7         до 1     7 месяцев  \n",
       "\n",
       "[432 rows x 18 columns]"
      ]
     },
     "execution_count": 159,
     "metadata": {},
     "output_type": "execute_result"
    }
   ],
   "source": [
    "df_clean[~df_clean['experience'].str.contains('лет')]"
   ]
  },
  {
   "cell_type": "markdown",
   "id": "vanilla-paste",
   "metadata": {},
   "source": [
    "## Как опыт влияет на з/п? с точки зрения кандидата"
   ]
  },
  {
   "cell_type": "code",
   "execution_count": 161,
   "id": "stuffed-envelope",
   "metadata": {
    "scrolled": true
   },
   "outputs": [
    {
     "data": {
      "text/plain": [
       "Text(0.5, 0, 'Опыт.')"
      ]
     },
     "execution_count": 161,
     "metadata": {},
     "output_type": "execute_result"
    },
    {
     "data": {
      "image/png": "[encoded data removed]",
      "text/plain": [
       "<Figure size 720x576 with 1 Axes>"
      ]
     },
     "metadata": {
      "needs_background": "light"
     },
     "output_type": "display_data"
    }
   ],
   "source": [
    "plt.figure(figsize=(10,8))\n",
    "ax = sns.boxplot(y='salary', x='exper_groups', data=df_clean.sort_values('salary'))\n",
    "ax.set_title('Влияние опыта на  з/п вакансий аналитиков на hh.ru')\n",
    "ax.set_xlabel('Опыт.')\n"
   ]
  },
  {
   "cell_type": "markdown",
   "id": "creative-finland",
   "metadata": {},
   "source": [
    "Наблюдаем ожидаемое повышение желаемого вознаграждения вместе с ростом количества лет опыта. "
   ]
  },
  {
   "cell_type": "markdown",
   "id": "geological-first",
   "metadata": {},
   "source": [
    "## Сколько много опытных кандидатов ищут работу? "
   ]
  },
  {
   "cell_type": "code",
   "execution_count": 160,
   "id": "returning-karaoke",
   "metadata": {},
   "outputs": [
    {
     "data": {
      "text/plain": [
       "Text(0.5, 0, 'Количество соискателей')"
      ]
     },
     "execution_count": 160,
     "metadata": {},
     "output_type": "execute_result"
    },
    {
     "data": {
      "image/png": "[encoded data removed]",
      "text/plain": [
       "<Figure size 720x576 with 1 Axes>"
      ]
     },
     "metadata": {
      "needs_background": "light"
     },
     "output_type": "display_data"
    }
   ],
   "source": [
    "report = df_clean[['exper_groups', 'salary']].groupby('exper_groups').agg('count')\n",
    "report.columns = ['N job seekers']\n",
    "report =report.reset_index()\n",
    "\n",
    "plt.figure(figsize=(10,8))\n",
    "ax= sns.barplot(y='N job seekers', x='exper_groups',\n",
    "                data=report)\n",
    "ax.set_title('Количество соискателей по количеству лет опыта')\n",
    "ax.set_xlabel('Количество соискателей')"
   ]
  },
  {
   "cell_type": "markdown",
   "id": "departmental-neighborhood",
   "metadata": {},
   "source": [
    "Наблюдаем, что большинство кандидатов имеют опыт более 10 лет. Но к сожалению, пока не знаем, какой % опыта релевантен тем вакансиям, на которые подается кандидат. "
   ]
  },
  {
   "cell_type": "markdown",
   "id": "trying-graduation",
   "metadata": {},
   "source": [
    "## Распределение соискателей по полу"
   ]
  },
  {
   "cell_type": "code",
   "execution_count": 167,
   "id": "baking-network",
   "metadata": {},
   "outputs": [
    {
     "data": {
      "text/plain": [
       "Text(0.5, 0, 'Количество соискателей')"
      ]
     },
     "execution_count": 167,
     "metadata": {},
     "output_type": "execute_result"
    },
    {
     "data": {
      "image/png": "[encoded data removed]",
      "text/plain": [
       "<Figure size 720x576 with 1 Axes>"
      ]
     },
     "metadata": {
      "needs_background": "light"
     },
     "output_type": "display_data"
    }
   ],
   "source": [
    "report = df_clean[['gender', 'salary']].groupby('gender').agg('count')\n",
    "report.columns = ['N job seekers']\n",
    "report =report.reset_index()\n",
    "\n",
    "plt.figure(figsize=(10,8))\n",
    "ax= sns.barplot(y='N job seekers', x='gender',\n",
    "                data=report)\n",
    "ax.set_title('Количество соискателей по полу')\n",
    "ax.set_xlabel('Количество соискателей')"
   ]
  },
  {
   "cell_type": "markdown",
   "id": "hired-laptop",
   "metadata": {},
   "source": [
    "Наблюдаем, что текущий IT-рынок среди соискателей в России характеризуется тем, что количество мужчин в несколько раз больше чем женщин"
   ]
  },
  {
   "cell_type": "markdown",
   "id": "hourly-booth",
   "metadata": {},
   "source": [
    "## Как пол влияет на ожидаемую з/п ? "
   ]
  },
  {
   "cell_type": "code",
   "execution_count": 169,
   "id": "accredited-phoenix",
   "metadata": {},
   "outputs": [
    {
     "data": {
      "text/plain": [
       "Text(0.5, 0, 'Пол')"
      ]
     },
     "execution_count": 169,
     "metadata": {},
     "output_type": "execute_result"
    },
    {
     "data": {
      "image/png": "[encoded data removed]",
      "text/plain": [
       "<Figure size 720x576 with 1 Axes>"
      ]
     },
     "metadata": {
      "needs_background": "light"
     },
     "output_type": "display_data"
    }
   ],
   "source": [
    "plt.figure(figsize=(10,8))\n",
    "ax = sns.boxplot(y='salary', x='gender', data=df_clean.sort_values('salary'))\n",
    "ax.set_title('Влияние пола на з/п желамую з/п на hh.ru')\n",
    "ax.set_xlabel('Пол')\n"
   ]
  },
  {
   "cell_type": "markdown",
   "id": "vocal-briefs",
   "metadata": {},
   "source": [
    "Заметим, что медиана желамой з/п немного больше среди мужчин. Более того, мужская Q3 квантиль превышает уже значительно женскую. "
   ]
  },
  {
   "cell_type": "markdown",
   "id": "regular-privacy",
   "metadata": {},
   "source": [
    "## Распределение соискателей по уровню образования"
   ]
  },
  {
   "cell_type": "code",
   "execution_count": 173,
   "id": "employed-invalid",
   "metadata": {
    "scrolled": true
   },
   "outputs": [
    {
     "data": {
      "text/html": [
       "<div>\n",
       "<style scoped>\n",
       "    .dataframe tbody tr th:only-of-type {\n",
       "        vertical-align: middle;\n",
       "    }\n",
       "\n",
       "    .dataframe tbody tr th {\n",
       "        vertical-align: top;\n",
       "    }\n",
       "\n",
       "    .dataframe thead th {\n",
       "        text-align: right;\n",
       "    }\n",
       "</style>\n",
       "<table border=\"1\" class=\"dataframe\">\n",
       "  <thead>\n",
       "    <tr style=\"text-align: right;\">\n",
       "      <th></th>\n",
       "      <th>edu_degree</th>\n",
       "      <th>N job seekers</th>\n",
       "    </tr>\n",
       "  </thead>\n",
       "  <tbody>\n",
       "    <tr>\n",
       "      <th>0</th>\n",
       "      <td>Education</td>\n",
       "      <td>1</td>\n",
       "    </tr>\n",
       "    <tr>\n",
       "      <th>1</th>\n",
       "      <td>Higher education</td>\n",
       "      <td>258</td>\n",
       "    </tr>\n",
       "    <tr>\n",
       "      <th>2</th>\n",
       "      <td>Higher education (Candidate of Science)</td>\n",
       "      <td>28</td>\n",
       "    </tr>\n",
       "    <tr>\n",
       "      <th>3</th>\n",
       "      <td>Higher education (Doctor of Science)</td>\n",
       "      <td>12</td>\n",
       "    </tr>\n",
       "    <tr>\n",
       "      <th>4</th>\n",
       "      <td>Higher education (bachelor)</td>\n",
       "      <td>70</td>\n",
       "    </tr>\n",
       "    <tr>\n",
       "      <th>5</th>\n",
       "      <td>Higher education (master)</td>\n",
       "      <td>77</td>\n",
       "    </tr>\n",
       "    <tr>\n",
       "      <th>6</th>\n",
       "      <td>Incomplete higher education</td>\n",
       "      <td>28</td>\n",
       "    </tr>\n",
       "    <tr>\n",
       "      <th>7</th>\n",
       "      <td>Secondary education</td>\n",
       "      <td>1</td>\n",
       "    </tr>\n",
       "    <tr>\n",
       "      <th>8</th>\n",
       "      <td>Secondary special education</td>\n",
       "      <td>9</td>\n",
       "    </tr>\n",
       "    <tr>\n",
       "      <th>9</th>\n",
       "      <td>Высшее образование</td>\n",
       "      <td>3637</td>\n",
       "    </tr>\n",
       "    <tr>\n",
       "      <th>10</th>\n",
       "      <td>Высшее образование (Бакалавр)</td>\n",
       "      <td>601</td>\n",
       "    </tr>\n",
       "    <tr>\n",
       "      <th>11</th>\n",
       "      <td>Высшее образование (Доктор наук)</td>\n",
       "      <td>4</td>\n",
       "    </tr>\n",
       "    <tr>\n",
       "      <th>12</th>\n",
       "      <td>Высшее образование (Кандидат наук)</td>\n",
       "      <td>116</td>\n",
       "    </tr>\n",
       "    <tr>\n",
       "      <th>13</th>\n",
       "      <td>Высшее образование (Магистр)</td>\n",
       "      <td>527</td>\n",
       "    </tr>\n",
       "    <tr>\n",
       "      <th>14</th>\n",
       "      <td>Неоконченное высшее образование</td>\n",
       "      <td>796</td>\n",
       "    </tr>\n",
       "    <tr>\n",
       "      <th>15</th>\n",
       "      <td>Образование</td>\n",
       "      <td>121</td>\n",
       "    </tr>\n",
       "    <tr>\n",
       "      <th>16</th>\n",
       "      <td>Среднее образование</td>\n",
       "      <td>68</td>\n",
       "    </tr>\n",
       "    <tr>\n",
       "      <th>17</th>\n",
       "      <td>Среднее специальное образование</td>\n",
       "      <td>525</td>\n",
       "    </tr>\n",
       "  </tbody>\n",
       "</table>\n",
       "</div>"
      ],
      "text/plain": [
       "                                 edu_degree  N job seekers\n",
       "0                                 Education              1\n",
       "1                          Higher education            258\n",
       "2   Higher education (Candidate of Science)             28\n",
       "3      Higher education (Doctor of Science)             12\n",
       "4               Higher education (bachelor)             70\n",
       "5                 Higher education (master)             77\n",
       "6               Incomplete higher education             28\n",
       "7                       Secondary education              1\n",
       "8               Secondary special education              9\n",
       "9                        Высшее образование           3637\n",
       "10            Высшее образование (Бакалавр)            601\n",
       "11         Высшее образование (Доктор наук)              4\n",
       "12       Высшее образование (Кандидат наук)            116\n",
       "13             Высшее образование (Магистр)            527\n",
       "14          Неоконченное высшее образование            796\n",
       "15                              Образование            121\n",
       "16                      Среднее образование             68\n",
       "17          Среднее специальное образование            525"
      ]
     },
     "execution_count": 173,
     "metadata": {},
     "output_type": "execute_result"
    }
   ],
   "source": [
    "report = df_clean[['edu_degree', 'salary']].groupby('edu_degree').agg('count')\n",
    "report.columns = ['N job seekers']\n",
    "report =report.reset_index()\n",
    "report"
   ]
  },
  {
   "cell_type": "markdown",
   "id": "current-plymouth",
   "metadata": {},
   "source": [
    "Так как большинство соискателей не указывают уровень высшего образования, сгруппируем бакалавров и магистров. "
   ]
  },
  {
   "cell_type": "code",
   "execution_count": 179,
   "id": "binding-march",
   "metadata": {},
   "outputs": [],
   "source": [
    "def get_education_degree(df):\n",
    "    df['edu_degree_clean'] = np.where(df['edu_degree'].isin(['Высшее образование (Доктор наук)',\n",
    "                                                      'Высшее образование (Кандидат наук)',\n",
    "                                                      'Higher education (Doctor of Science)',\n",
    "                                                      'Higher education (Candidate of Science)']),\n",
    "                                'Phd',\n",
    "                                df['edu_degree']\n",
    "                                                   )\n",
    "    df['edu_degree_clean'] = np.where(df['edu_degree_clean'].isin(['Higher education (bachelor)',\n",
    "                                                      'Higher education',\n",
    "                                                       'Higher education (master)',\n",
    "                                                      'Высшее образование',\n",
    "                                                      'Высшее образование (Бакалавр)',\n",
    "                                                      'Высшее образование (Магистр)']),\n",
    "                                      'Higher Education',\n",
    "                                      df['edu_degree_clean'])\n",
    "                                      \n",
    "    df['edu_degree_clean'] = np.where(df['edu_degree_clean'].isin(['Secondary education',\n",
    "                                                      'Education',\n",
    "                                                       'Secondary special education',\n",
    "                                                      'Образование',\n",
    "                                                      'Среднее специальное образование',\n",
    "                                                      'Среднее образование']),\n",
    "                                      'Secondary Education',\n",
    "                                      df['edu_degree_clean']\n",
    "                                                     )\n",
    "    df['edu_degree_clean'] = np.where(df['edu_degree_clean'].isin(['Incomplete higher education',\n",
    "                                                      'Неоконченное высшее образование']),\n",
    "                                      'Incomplete higher education',\n",
    "                                      df['edu_degree_clean']\n",
    "                                                     )\n",
    "    \n",
    "    return df"
   ]
  },
  {
   "cell_type": "code",
   "execution_count": 180,
   "id": "dried-falls",
   "metadata": {
    "collapsed": true
   },
   "outputs": [
    {
     "name": "stderr",
     "output_type": "stream",
     "text": [
      "<ipython-input-179-d162456e49ea>:2: SettingWithCopyWarning: \n",
      "A value is trying to be set on a copy of a slice from a DataFrame.\n",
      "Try using .loc[row_indexer,col_indexer] = value instead\n",
      "\n",
      "See the caveats in the documentation: https://pandas.pydata.org/pandas-docs/stable/user_guide/indexing.html#returning-a-view-versus-a-copy\n",
      "  df['edu_degree_clean'] = np.where(df['edu_degree'].isin(['Высшее образование (Доктор наук)',\n",
      "<ipython-input-179-d162456e49ea>:9: SettingWithCopyWarning: \n",
      "A value is trying to be set on a copy of a slice from a DataFrame.\n",
      "Try using .loc[row_indexer,col_indexer] = value instead\n",
      "\n",
      "See the caveats in the documentation: https://pandas.pydata.org/pandas-docs/stable/user_guide/indexing.html#returning-a-view-versus-a-copy\n",
      "  df['edu_degree_clean'] = np.where(df['edu_degree_clean'].isin(['Higher education (bachelor)',\n",
      "<ipython-input-179-d162456e49ea>:18: SettingWithCopyWarning: \n",
      "A value is trying to be set on a copy of a slice from a DataFrame.\n",
      "Try using .loc[row_indexer,col_indexer] = value instead\n",
      "\n",
      "See the caveats in the documentation: https://pandas.pydata.org/pandas-docs/stable/user_guide/indexing.html#returning-a-view-versus-a-copy\n",
      "  df['edu_degree_clean'] = np.where(df['edu_degree_clean'].isin(['Secondary education',\n",
      "<ipython-input-179-d162456e49ea>:27: SettingWithCopyWarning: \n",
      "A value is trying to be set on a copy of a slice from a DataFrame.\n",
      "Try using .loc[row_indexer,col_indexer] = value instead\n",
      "\n",
      "See the caveats in the documentation: https://pandas.pydata.org/pandas-docs/stable/user_guide/indexing.html#returning-a-view-versus-a-copy\n",
      "  df['edu_degree_clean'] = np.where(df['edu_degree_clean'].isin(['Incomplete higher education',\n"
     ]
    }
   ],
   "source": [
    "df_clean = get_education_degree(df_clean)"
   ]
  },
  {
   "cell_type": "code",
   "execution_count": 181,
   "id": "federal-mentor",
   "metadata": {},
   "outputs": [
    {
     "data": {
      "text/plain": [
       "Text(0.5, 0, 'Уроовень образования')"
      ]
     },
     "execution_count": 181,
     "metadata": {},
     "output_type": "execute_result"
    },
    {
     "data": {
      "image/png": "[encoded data removed]",
      "text/plain": [
       "<Figure size 720x576 with 1 Axes>"
      ]
     },
     "metadata": {
      "needs_background": "light"
     },
     "output_type": "display_data"
    }
   ],
   "source": [
    "plt.figure(figsize=(10,8))\n",
    "ax = sns.boxplot(y='salary', x='edu_degree_clean', data=df_clean.sort_values('edu_degree_clean'))\n",
    "ax.set_title('Влияние уровня образования на желамую з/п ')\n",
    "ax.set_xlabel('Уроовень образования')\n"
   ]
  },
  {
   "cell_type": "markdown",
   "id": "recovered-norman",
   "metadata": {},
   "source": [
    "Наблюдаем наибольшую желаемую з/п среди кандидатов, которые имеют ученую степень. Можно сказать, что есть положительная корреляция между уровнем образования и желаемым доходом"
   ]
  },
  {
   "cell_type": "code",
   "execution_count": 192,
   "id": "dying-recommendation",
   "metadata": {},
   "outputs": [
    {
     "data": {
      "text/plain": [
       "Программист С++                              10\n",
       "HTML-верстальщик                             10\n",
       "Инженер-программист АСУ ТП                   10\n",
       "Специалист технической поддержки             10\n",
       "Android developer                            10\n",
       "аналитик                                     10\n",
       "Технический директор                          9\n",
       "Младший финансовый аналитик                   9\n",
       "Frontend разработчик                          9\n",
       "Помощник руководителя                         9\n",
       "Python developer                              9\n",
       "программист                                   9\n",
       "Инженер-разработчик                           9\n",
       "Программист Delphi                            9\n",
       "Junior Frontend-разработчик                   9\n",
       "Разработчик                                   9\n",
       "Техник-программист                            9\n",
       "Программист Java                              9\n",
       "IT директор                                   9\n",
       "Трейдер-аналитик                              9\n",
       "Руководитель IT отдела                        8\n",
       "IT-менеджер                                   8\n",
       "Руководитель отдела ИТ                        8\n",
       "Юрист                                         8\n",
       "Руководитель IT-подразделения                 8\n",
       "Интернет-маркетолог                           8\n",
       "Начальник отдела IT                           8\n",
       "Бизнес аналитик                               8\n",
       "Специалист по информационной безопасности     7\n",
       "IT специалист                                 7\n",
       "Junior developer                              7\n",
       "Программист C#                                7\n",
       "Администратор                                 7\n",
       "Financial analyst                             7\n",
       "Junior Frontend разработчик                   7\n",
       "Project Manager                               7\n",
       "Маркетолог                                    7\n",
       "Product Owner                                 7\n",
       "Руководитель ИТ-подразделения                 7\n",
       "PHP-разработчик                               6\n",
       "Name: name, dtype: int64"
      ]
     },
     "execution_count": 192,
     "metadata": {},
     "output_type": "execute_result"
    }
   ],
   "source": [
    "df_clean['name'].value_counts()[60:100]"
   ]
  },
  {
   "cell_type": "code",
   "execution_count": 185,
   "id": "significant-yellow",
   "metadata": {},
   "outputs": [],
   "source": [
    "unique_skils = get_unique_skills(df)"
   ]
  },
  {
   "cell_type": "code",
   "execution_count": 184,
   "id": "accredited-ratio",
   "metadata": {},
   "outputs": [],
   "source": [
    "def get_unique_skills(df)->set:\n",
    "    \"\"\"\n",
    "    Extracts skils from df\n",
    "    \"\"\"\n",
    "    unique_skils = set()\n",
    "    for index, row in df.iterrows():\n",
    "\n",
    "        skills_str = row['skills'].replace('[', '')\n",
    "        skills_str = skills_str.replace(']', '')\n",
    "        skills_str = skills_str.replace(\"'\", '')\n",
    "        list_skils = skills_str.split(', ')\n",
    "\n",
    "        unique_skils.update(list_skils)\n",
    "        \n",
    "    return unique_skils\n",
    "\n",
    "\n",
    "def create_skills_columns(df, unique_skils)->df:\n",
    "    \"\"\"\n",
    "    Add indicator columns \n",
    "    \"\"\"\n",
    "    for skill in unique_skils:\n",
    "        try:\n",
    "            df[skill] = np.where(df['skills'].str.contains(skill), 1,0)\n",
    "        except Exception as e:\n",
    "            print(e)\n",
    "            print(f'Cant create column {skill}')\n",
    "        \n",
    "    return df"
   ]
  },
  {
   "cell_type": "code",
   "execution_count": 186,
   "id": "macro-removal",
   "metadata": {
    "collapsed": true
   },
   "outputs": [
    {
     "name": "stderr",
     "output_type": "stream",
     "text": [
      "<ipython-input-184-785a505aa41d>:24: UserWarning: This pattern has match groups. To actually get the groups, use str.extract.\n",
      "  df[skill] = np.where(df['skills'].str.contains(skill), 1,0)\n",
      "<ipython-input-184-785a505aa41d>:24: PerformanceWarning: DataFrame is highly fragmented.  This is usually the result of calling `frame.insert` many times, which has poor performance.  Consider joining all columns at once using pd.concat(axis=1) instead.  To get a de-fragmented frame, use `newframe = frame.copy()`\n",
      "  df[skill] = np.where(df['skills'].str.contains(skill), 1,0)\n"
     ]
    },
    {
     "name": "stdout",
     "output_type": "stream",
     "text": [
      "missing ), unterminated subpattern at position 3\n",
      "Cant create column AAA(Tacacs+\n",
      "multiple repeat at position 2\n",
      "Cant create column С++\n",
      "missing ), unterminated subpattern at position 4\n",
      "Cant create column CMS (Python Django\n",
      "multiple repeat at position 4\n",
      "Cant create column C/C++\n",
      "missing ), unterminated subpattern at position 26\n",
      "Cant create column Уверенный пользователь ПК (Word\n",
      "missing ), unterminated subpattern at position 43\n",
      "Cant create column Хорошее знание IT – рынка и IT – продуктов (серверы\n",
      "missing ), unterminated subpattern at position 24\n",
      "Cant create column Знание основ баз данных (Oracle SQL\n",
      "unbalanced parenthesis at position 6\n",
      "Cant create column Radius)\n",
      "unbalanced parenthesis at position 6\n",
      "Cant create column Drupal)\n",
      "multiple repeat at position 2\n",
      "Cant create column C++\n",
      "unbalanced parenthesis at position 5\n",
      "Cant create column Excel)\n",
      "unbalanced parenthesis at position 20\n",
      "Cant create column сетевое оборудование)\n"
     ]
    }
   ],
   "source": [
    "df = create_skills_columns(df, unique_skils)"
   ]
  },
  {
   "cell_type": "code",
   "execution_count": 187,
   "id": "behavioral-luxembourg",
   "metadata": {
    "collapsed": true
   },
   "outputs": [
    {
     "data": {
      "text/html": [
       "<div>\n",
       "<style scoped>\n",
       "    .dataframe tbody tr th:only-of-type {\n",
       "        vertical-align: middle;\n",
       "    }\n",
       "\n",
       "    .dataframe tbody tr th {\n",
       "        vertical-align: top;\n",
       "    }\n",
       "\n",
       "    .dataframe thead th {\n",
       "        text-align: right;\n",
       "    }\n",
       "</style>\n",
       "<table border=\"1\" class=\"dataframe\">\n",
       "  <thead>\n",
       "    <tr style=\"text-align: right;\">\n",
       "      <th></th>\n",
       "      <th>link</th>\n",
       "      <th>names</th>\n",
       "      <th>skills</th>\n",
       "      <th>salary</th>\n",
       "      <th>experience</th>\n",
       "      <th>name</th>\n",
       "      <th></th>\n",
       "      <th>MEAN</th>\n",
       "      <th>SIEM</th>\n",
       "      <th>Помощник руководителя</th>\n",
       "      <th>...</th>\n",
       "      <th>Корректура текстов</th>\n",
       "      <th>Анализ организационной структуры компании</th>\n",
       "      <th>Консультирование клиентов</th>\n",
       "      <th>SOLID</th>\n",
       "      <th>Ansible</th>\n",
       "      <th>Организация стажировок</th>\n",
       "      <th>Human Resources Management</th>\n",
       "      <th>Продажи юридическим лицам</th>\n",
       "      <th>Разработка и внедрение системы KPI</th>\n",
       "      <th>Python</th>\n",
       "    </tr>\n",
       "  </thead>\n",
       "  <tbody>\n",
       "    <tr>\n",
       "      <th>0</th>\n",
       "      <td>https://hh.ru/vacancy/50077086?from=vacancy_se...</td>\n",
       "      <td>0</td>\n",
       "      <td>['Agile Project Management', 'Работа в команде...</td>\n",
       "      <td>от 250 000 руб. до вычета налогов</td>\n",
       "      <td>3–6 лет</td>\n",
       "      <td>Руководитель IT-проектов</td>\n",
       "      <td>1</td>\n",
       "      <td>0</td>\n",
       "      <td>0</td>\n",
       "      <td>0</td>\n",
       "      <td>...</td>\n",
       "      <td>0</td>\n",
       "      <td>0</td>\n",
       "      <td>0</td>\n",
       "      <td>0</td>\n",
       "      <td>0</td>\n",
       "      <td>0</td>\n",
       "      <td>0</td>\n",
       "      <td>0</td>\n",
       "      <td>0</td>\n",
       "      <td>0</td>\n",
       "    </tr>\n",
       "    <tr>\n",
       "      <th>1</th>\n",
       "      <td>https://hh.ru/vacancy/50024086?from=vacancy_se...</td>\n",
       "      <td>0</td>\n",
       "      <td>['Администрирование сетевого оборудования', 'L...</td>\n",
       "      <td>от 90 000 до 120 000 руб. на руки</td>\n",
       "      <td>3–6 лет</td>\n",
       "      <td>Системный администратор в компанию разработки ПО</td>\n",
       "      <td>1</td>\n",
       "      <td>0</td>\n",
       "      <td>0</td>\n",
       "      <td>0</td>\n",
       "      <td>...</td>\n",
       "      <td>0</td>\n",
       "      <td>0</td>\n",
       "      <td>0</td>\n",
       "      <td>0</td>\n",
       "      <td>0</td>\n",
       "      <td>0</td>\n",
       "      <td>0</td>\n",
       "      <td>0</td>\n",
       "      <td>0</td>\n",
       "      <td>0</td>\n",
       "    </tr>\n",
       "    <tr>\n",
       "      <th>2</th>\n",
       "      <td>https://hh.ru/vacancy/49519390?from=vacancy_se...</td>\n",
       "      <td>0</td>\n",
       "      <td>['Сборка ПК', 'Настройка ПК', 'Информационная ...</td>\n",
       "      <td>от 100 000 до 100 000 руб. на руки</td>\n",
       "      <td>3–6 лет</td>\n",
       "      <td>Специалист по IT</td>\n",
       "      <td>1</td>\n",
       "      <td>0</td>\n",
       "      <td>0</td>\n",
       "      <td>0</td>\n",
       "      <td>...</td>\n",
       "      <td>0</td>\n",
       "      <td>0</td>\n",
       "      <td>0</td>\n",
       "      <td>0</td>\n",
       "      <td>0</td>\n",
       "      <td>0</td>\n",
       "      <td>0</td>\n",
       "      <td>0</td>\n",
       "      <td>0</td>\n",
       "      <td>0</td>\n",
       "    </tr>\n",
       "    <tr>\n",
       "      <th>3</th>\n",
       "      <td>https://hh.ru/vacancy/49916939?from=vacancy_se...</td>\n",
       "      <td>0</td>\n",
       "      <td>['Знание компьютера']</td>\n",
       "      <td>от 45 000 руб. на руки</td>\n",
       "      <td>не требуется</td>\n",
       "      <td>Специалист по IT</td>\n",
       "      <td>1</td>\n",
       "      <td>0</td>\n",
       "      <td>0</td>\n",
       "      <td>0</td>\n",
       "      <td>...</td>\n",
       "      <td>0</td>\n",
       "      <td>0</td>\n",
       "      <td>0</td>\n",
       "      <td>0</td>\n",
       "      <td>0</td>\n",
       "      <td>0</td>\n",
       "      <td>0</td>\n",
       "      <td>0</td>\n",
       "      <td>0</td>\n",
       "      <td>0</td>\n",
       "    </tr>\n",
       "    <tr>\n",
       "      <th>4</th>\n",
       "      <td>https://hh.ru/vacancy/50084251?from=vacancy_se...</td>\n",
       "      <td>0</td>\n",
       "      <td>['Мобильность', 'Многозадачность', 'SaaS', 'Уд...</td>\n",
       "      <td>от 130 000 до 180 000 руб. на руки</td>\n",
       "      <td>1–3 года</td>\n",
       "      <td>Middle System Administrator</td>\n",
       "      <td>1</td>\n",
       "      <td>0</td>\n",
       "      <td>0</td>\n",
       "      <td>0</td>\n",
       "      <td>...</td>\n",
       "      <td>0</td>\n",
       "      <td>0</td>\n",
       "      <td>0</td>\n",
       "      <td>0</td>\n",
       "      <td>0</td>\n",
       "      <td>0</td>\n",
       "      <td>0</td>\n",
       "      <td>0</td>\n",
       "      <td>0</td>\n",
       "      <td>0</td>\n",
       "    </tr>\n",
       "    <tr>\n",
       "      <th>...</th>\n",
       "      <td>...</td>\n",
       "      <td>...</td>\n",
       "      <td>...</td>\n",
       "      <td>...</td>\n",
       "      <td>...</td>\n",
       "      <td>...</td>\n",
       "      <td>...</td>\n",
       "      <td>...</td>\n",
       "      <td>...</td>\n",
       "      <td>...</td>\n",
       "      <td>...</td>\n",
       "      <td>...</td>\n",
       "      <td>...</td>\n",
       "      <td>...</td>\n",
       "      <td>...</td>\n",
       "      <td>...</td>\n",
       "      <td>...</td>\n",
       "      <td>...</td>\n",
       "      <td>...</td>\n",
       "      <td>...</td>\n",
       "      <td>...</td>\n",
       "    </tr>\n",
       "    <tr>\n",
       "      <th>1945</th>\n",
       "      <td>https://hh.ru/vacancy/50187180?from=vacancy_se...</td>\n",
       "      <td>0</td>\n",
       "      <td>['Работа с ТМЦ', 'Работа с поставщиками', 'Отв...</td>\n",
       "      <td>от 63 218 до 63 218 руб. до вычета налогов</td>\n",
       "      <td>1–3 года</td>\n",
       "      <td>Специалист по учету ТМЦ</td>\n",
       "      <td>1</td>\n",
       "      <td>0</td>\n",
       "      <td>0</td>\n",
       "      <td>0</td>\n",
       "      <td>...</td>\n",
       "      <td>0</td>\n",
       "      <td>0</td>\n",
       "      <td>0</td>\n",
       "      <td>0</td>\n",
       "      <td>0</td>\n",
       "      <td>0</td>\n",
       "      <td>0</td>\n",
       "      <td>0</td>\n",
       "      <td>0</td>\n",
       "      <td>0</td>\n",
       "    </tr>\n",
       "    <tr>\n",
       "      <th>1946</th>\n",
       "      <td>https://hh.ru/vacancy/50106182?from=vacancy_se...</td>\n",
       "      <td>0</td>\n",
       "      <td>['Складская логистика', 'Складской Учет', 'Инв...</td>\n",
       "      <td>от 60 000 руб. на руки</td>\n",
       "      <td>1–3 года</td>\n",
       "      <td>Кладовщик</td>\n",
       "      <td>1</td>\n",
       "      <td>0</td>\n",
       "      <td>0</td>\n",
       "      <td>0</td>\n",
       "      <td>...</td>\n",
       "      <td>0</td>\n",
       "      <td>0</td>\n",
       "      <td>0</td>\n",
       "      <td>0</td>\n",
       "      <td>0</td>\n",
       "      <td>0</td>\n",
       "      <td>0</td>\n",
       "      <td>0</td>\n",
       "      <td>0</td>\n",
       "      <td>0</td>\n",
       "    </tr>\n",
       "    <tr>\n",
       "      <th>1947</th>\n",
       "      <td>https://hh.ru/vacancy/45939762?from=vacancy_se...</td>\n",
       "      <td>0</td>\n",
       "      <td>[]</td>\n",
       "      <td>от 75 000 до 80 000 руб. на руки</td>\n",
       "      <td>более 6 лет</td>\n",
       "      <td>Главный бухгалтер</td>\n",
       "      <td>1</td>\n",
       "      <td>0</td>\n",
       "      <td>0</td>\n",
       "      <td>0</td>\n",
       "      <td>...</td>\n",
       "      <td>0</td>\n",
       "      <td>0</td>\n",
       "      <td>0</td>\n",
       "      <td>0</td>\n",
       "      <td>0</td>\n",
       "      <td>0</td>\n",
       "      <td>0</td>\n",
       "      <td>0</td>\n",
       "      <td>0</td>\n",
       "      <td>0</td>\n",
       "    </tr>\n",
       "    <tr>\n",
       "      <th>1948</th>\n",
       "      <td>https://hh.ru/vacancy/50172334?from=vacancy_se...</td>\n",
       "      <td>0</td>\n",
       "      <td>['Английский\\xa0— C1 — Продвинутый', 'Project ...</td>\n",
       "      <td>от 300 000 до 400 000 руб. на руки</td>\n",
       "      <td>3–6 лет</td>\n",
       "      <td>Project Manager</td>\n",
       "      <td>1</td>\n",
       "      <td>0</td>\n",
       "      <td>0</td>\n",
       "      <td>0</td>\n",
       "      <td>...</td>\n",
       "      <td>0</td>\n",
       "      <td>0</td>\n",
       "      <td>0</td>\n",
       "      <td>0</td>\n",
       "      <td>0</td>\n",
       "      <td>0</td>\n",
       "      <td>0</td>\n",
       "      <td>0</td>\n",
       "      <td>0</td>\n",
       "      <td>0</td>\n",
       "    </tr>\n",
       "    <tr>\n",
       "      <th>1949</th>\n",
       "      <td>https://hh.ru/vacancy/49345588?from=vacancy_se...</td>\n",
       "      <td>0</td>\n",
       "      <td>['Сопроввождение камеральных проверок', 'Сопро...</td>\n",
       "      <td>от 130 000 руб. на руки</td>\n",
       "      <td>3–6 лет</td>\n",
       "      <td>Специалист по налогам</td>\n",
       "      <td>1</td>\n",
       "      <td>0</td>\n",
       "      <td>0</td>\n",
       "      <td>0</td>\n",
       "      <td>...</td>\n",
       "      <td>0</td>\n",
       "      <td>0</td>\n",
       "      <td>0</td>\n",
       "      <td>0</td>\n",
       "      <td>0</td>\n",
       "      <td>0</td>\n",
       "      <td>0</td>\n",
       "      <td>0</td>\n",
       "      <td>0</td>\n",
       "      <td>0</td>\n",
       "    </tr>\n",
       "  </tbody>\n",
       "</table>\n",
       "<p>1950 rows × 2228 columns</p>\n",
       "</div>"
      ],
      "text/plain": [
       "                                                   link  names  \\\n",
       "0     https://hh.ru/vacancy/50077086?from=vacancy_se...      0   \n",
       "1     https://hh.ru/vacancy/50024086?from=vacancy_se...      0   \n",
       "2     https://hh.ru/vacancy/49519390?from=vacancy_se...      0   \n",
       "3     https://hh.ru/vacancy/49916939?from=vacancy_se...      0   \n",
       "4     https://hh.ru/vacancy/50084251?from=vacancy_se...      0   \n",
       "...                                                 ...    ...   \n",
       "1945  https://hh.ru/vacancy/50187180?from=vacancy_se...      0   \n",
       "1946  https://hh.ru/vacancy/50106182?from=vacancy_se...      0   \n",
       "1947  https://hh.ru/vacancy/45939762?from=vacancy_se...      0   \n",
       "1948  https://hh.ru/vacancy/50172334?from=vacancy_se...      0   \n",
       "1949  https://hh.ru/vacancy/49345588?from=vacancy_se...      0   \n",
       "\n",
       "                                                 skills  \\\n",
       "0     ['Agile Project Management', 'Работа в команде...   \n",
       "1     ['Администрирование сетевого оборудования', 'L...   \n",
       "2     ['Сборка ПК', 'Настройка ПК', 'Информационная ...   \n",
       "3                                 ['Знание компьютера']   \n",
       "4     ['Мобильность', 'Многозадачность', 'SaaS', 'Уд...   \n",
       "...                                                 ...   \n",
       "1945  ['Работа с ТМЦ', 'Работа с поставщиками', 'Отв...   \n",
       "1946  ['Складская логистика', 'Складской Учет', 'Инв...   \n",
       "1947                                                 []   \n",
       "1948  ['Английский\\xa0— C1 — Продвинутый', 'Project ...   \n",
       "1949  ['Сопроввождение камеральных проверок', 'Сопро...   \n",
       "\n",
       "                                          salary    experience  \\\n",
       "0              от 250 000 руб. до вычета налогов       3–6 лет   \n",
       "1              от 90 000 до 120 000 руб. на руки       3–6 лет   \n",
       "2             от 100 000 до 100 000 руб. на руки       3–6 лет   \n",
       "3                         от 45 000 руб. на руки  не требуется   \n",
       "4             от 130 000 до 180 000 руб. на руки      1–3 года   \n",
       "...                                          ...           ...   \n",
       "1945  от 63 218 до 63 218 руб. до вычета налогов      1–3 года   \n",
       "1946                      от 60 000 руб. на руки      1–3 года   \n",
       "1947            от 75 000 до 80 000 руб. на руки   более 6 лет   \n",
       "1948          от 300 000 до 400 000 руб. на руки       3–6 лет   \n",
       "1949                     от 130 000 руб. на руки       3–6 лет   \n",
       "\n",
       "                                                  name     MEAN  SIEM  \\\n",
       "0                             Руководитель IT-проектов  1     0     0   \n",
       "1     Системный администратор в компанию разработки ПО  1     0     0   \n",
       "2                                     Специалист по IT  1     0     0   \n",
       "3                                     Специалист по IT  1     0     0   \n",
       "4                          Middle System Administrator  1     0     0   \n",
       "...                                                ... ..   ...   ...   \n",
       "1945                           Специалист по учету ТМЦ  1     0     0   \n",
       "1946                                         Кладовщик  1     0     0   \n",
       "1947                                 Главный бухгалтер  1     0     0   \n",
       "1948                                   Project Manager  1     0     0   \n",
       "1949                             Специалист по налогам  1     0     0   \n",
       "\n",
       "      Помощник руководителя  ...  Корректура текстов  \\\n",
       "0                         0  ...                   0   \n",
       "1                         0  ...                   0   \n",
       "2                         0  ...                   0   \n",
       "3                         0  ...                   0   \n",
       "4                         0  ...                   0   \n",
       "...                     ...  ...                 ...   \n",
       "1945                      0  ...                   0   \n",
       "1946                      0  ...                   0   \n",
       "1947                      0  ...                   0   \n",
       "1948                      0  ...                   0   \n",
       "1949                      0  ...                   0   \n",
       "\n",
       "      Анализ организационной структуры компании  Консультирование клиентов  \\\n",
       "0                                             0                          0   \n",
       "1                                             0                          0   \n",
       "2                                             0                          0   \n",
       "3                                             0                          0   \n",
       "4                                             0                          0   \n",
       "...                                         ...                        ...   \n",
       "1945                                          0                          0   \n",
       "1946                                          0                          0   \n",
       "1947                                          0                          0   \n",
       "1948                                          0                          0   \n",
       "1949                                          0                          0   \n",
       "\n",
       "      SOLID  Ansible  Организация стажировок  Human Resources Management  \\\n",
       "0         0        0                       0                           0   \n",
       "1         0        0                       0                           0   \n",
       "2         0        0                       0                           0   \n",
       "3         0        0                       0                           0   \n",
       "4         0        0                       0                           0   \n",
       "...     ...      ...                     ...                         ...   \n",
       "1945      0        0                       0                           0   \n",
       "1946      0        0                       0                           0   \n",
       "1947      0        0                       0                           0   \n",
       "1948      0        0                       0                           0   \n",
       "1949      0        0                       0                           0   \n",
       "\n",
       "      Продажи юридическим лицам  Разработка и внедрение системы KPI  Python  \n",
       "0                             0                                   0       0  \n",
       "1                             0                                   0       0  \n",
       "2                             0                                   0       0  \n",
       "3                             0                                   0       0  \n",
       "4                             0                                   0       0  \n",
       "...                         ...                                 ...     ...  \n",
       "1945                          0                                   0       0  \n",
       "1946                          0                                   0       0  \n",
       "1947                          0                                   0       0  \n",
       "1948                          0                                   0       0  \n",
       "1949                          0                                   0       0  \n",
       "\n",
       "[1950 rows x 2228 columns]"
      ]
     },
     "execution_count": 187,
     "metadata": {},
     "output_type": "execute_result"
    }
   ],
   "source": [
    "df"
   ]
  },
  {
   "cell_type": "code",
   "execution_count": null,
   "id": "great-jason",
   "metadata": {},
   "outputs": [],
   "source": []
  }
 ],
 "metadata": {
  "kernelspec": {
   "display_name": "Python 3",
   "language": "python",
   "name": "python3"
  },
  "language_info": {
   "codemirror_mode": {
    "name": "ipython",
    "version": 3
   },
   "file_extension": ".py",
   "mimetype": "text/x-python",
   "name": "python",
   "nbconvert_exporter": "python",
   "pygments_lexer": "ipython3",
   "version": "3.9.1"
  }
 },
 "nbformat": 4,
 "nbformat_minor": 5
}
