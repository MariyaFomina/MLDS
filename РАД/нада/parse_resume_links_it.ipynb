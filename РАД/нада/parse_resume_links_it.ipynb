{
 "cells": [
  {
   "cell_type": "code",
   "execution_count": 1,
   "id": "3e85fe69",
   "metadata": {},
   "outputs": [
    {
     "name": "stdout",
     "output_type": "stream",
     "text": [
      "Requirement already satisfied: selenium in /Users/alena_zaozerskaia/opt/anaconda3/lib/python3.8/site-packages (4.0.0)\n",
      "Requirement already satisfied: trio~=0.17 in /Users/alena_zaozerskaia/opt/anaconda3/lib/python3.8/site-packages (from selenium) (0.19.0)\n",
      "Collecting urllib3[secure]~=1.26\n",
      "  Using cached urllib3-1.26.7-py2.py3-none-any.whl (138 kB)\n",
      "Requirement already satisfied: trio-websocket~=0.9 in /Users/alena_zaozerskaia/opt/anaconda3/lib/python3.8/site-packages (from selenium) (0.9.2)\n",
      "Requirement already satisfied: idna in /Users/alena_zaozerskaia/opt/anaconda3/lib/python3.8/site-packages (from trio~=0.17->selenium) (2.10)\n",
      "Requirement already satisfied: sniffio in /Users/alena_zaozerskaia/opt/anaconda3/lib/python3.8/site-packages (from trio~=0.17->selenium) (1.2.0)\n",
      "Requirement already satisfied: async-generator>=1.9 in /Users/alena_zaozerskaia/opt/anaconda3/lib/python3.8/site-packages (from trio~=0.17->selenium) (1.10)\n",
      "Requirement already satisfied: sortedcontainers in /Users/alena_zaozerskaia/opt/anaconda3/lib/python3.8/site-packages (from trio~=0.17->selenium) (2.3.0)\n",
      "Requirement already satisfied: attrs>=19.2.0 in /Users/alena_zaozerskaia/opt/anaconda3/lib/python3.8/site-packages (from trio~=0.17->selenium) (20.3.0)\n",
      "Requirement already satisfied: outcome in /Users/alena_zaozerskaia/opt/anaconda3/lib/python3.8/site-packages (from trio~=0.17->selenium) (1.1.0)\n",
      "Requirement already satisfied: wsproto>=0.14 in /Users/alena_zaozerskaia/opt/anaconda3/lib/python3.8/site-packages (from trio-websocket~=0.9->selenium) (1.0.0)\n",
      "Requirement already satisfied: pyOpenSSL>=0.14 in /Users/alena_zaozerskaia/opt/anaconda3/lib/python3.8/site-packages (from urllib3[secure]~=1.26->selenium) (20.0.1)\n",
      "Requirement already satisfied: cryptography>=1.3.4 in /Users/alena_zaozerskaia/opt/anaconda3/lib/python3.8/site-packages (from urllib3[secure]~=1.26->selenium) (3.4.7)\n",
      "Requirement already satisfied: certifi in /Users/alena_zaozerskaia/opt/anaconda3/lib/python3.8/site-packages (from urllib3[secure]~=1.26->selenium) (2020.12.5)\n",
      "Requirement already satisfied: cffi>=1.12 in /Users/alena_zaozerskaia/opt/anaconda3/lib/python3.8/site-packages (from cryptography>=1.3.4->urllib3[secure]~=1.26->selenium) (1.14.5)\n",
      "Requirement already satisfied: pycparser in /Users/alena_zaozerskaia/opt/anaconda3/lib/python3.8/site-packages (from cffi>=1.12->cryptography>=1.3.4->urllib3[secure]~=1.26->selenium) (2.20)\n",
      "Requirement already satisfied: six>=1.5.2 in /Users/alena_zaozerskaia/opt/anaconda3/lib/python3.8/site-packages (from pyOpenSSL>=0.14->urllib3[secure]~=1.26->selenium) (1.15.0)\n",
      "Requirement already satisfied: h11<1,>=0.9.0 in /Users/alena_zaozerskaia/opt/anaconda3/lib/python3.8/site-packages (from wsproto>=0.14->trio-websocket~=0.9->selenium) (0.12.0)\n",
      "Installing collected packages: urllib3\n",
      "  Attempting uninstall: urllib3\n",
      "    Found existing installation: urllib3 1.25.11\n",
      "    Uninstalling urllib3-1.25.11:\n",
      "      Successfully uninstalled urllib3-1.25.11\n",
      "\u001b[31mERROR: pip's dependency resolver does not currently take into account all the packages that are installed. This behaviour is the source of the following dependency conflicts.\n",
      "conda-repo-cli 1.0.4 requires pathlib, which is not installed.\n",
      "anaconda-project 0.9.1 requires ruamel-yaml, which is not installed.\n",
      "requests 2.23.0 requires urllib3!=1.25.0,!=1.25.1,<1.26,>=1.21.1, but you have urllib3 1.26.7 which is incompatible.\n",
      "parse-hh-data 0.1.14 requires urllib3==1.25.8, but you have urllib3 1.26.7 which is incompatible.\u001b[0m\n",
      "Successfully installed urllib3-1.26.7\n",
      "Requirement already satisfied: beautifulsoup4 in /Users/alena_zaozerskaia/opt/anaconda3/lib/python3.8/site-packages (4.8.2)\n",
      "Requirement already satisfied: soupsieve>=1.2 in /Users/alena_zaozerskaia/opt/anaconda3/lib/python3.8/site-packages (from beautifulsoup4) (2.2.1)\n"
     ]
    }
   ],
   "source": [
    "!pip install selenium\n",
    "!pip install beautifulsoup4"
   ]
  },
  {
   "cell_type": "code",
   "execution_count": 2,
   "id": "bce8750d",
   "metadata": {},
   "outputs": [
    {
     "name": "stdout",
     "output_type": "stream",
     "text": [
      "Requirement already satisfied: webdriver-manager in /Users/alena_zaozerskaia/opt/anaconda3/lib/python3.8/site-packages (3.5.2)\n",
      "Requirement already satisfied: crayons in /Users/alena_zaozerskaia/opt/anaconda3/lib/python3.8/site-packages (from webdriver-manager) (0.4.0)\n",
      "Requirement already satisfied: requests in /Users/alena_zaozerskaia/opt/anaconda3/lib/python3.8/site-packages (from webdriver-manager) (2.23.0)\n",
      "Requirement already satisfied: configparser in /Users/alena_zaozerskaia/opt/anaconda3/lib/python3.8/site-packages (from webdriver-manager) (5.1.0)\n",
      "Requirement already satisfied: colorama in /Users/alena_zaozerskaia/opt/anaconda3/lib/python3.8/site-packages (from crayons->webdriver-manager) (0.4.4)\n",
      "Requirement already satisfied: certifi>=2017.4.17 in /Users/alena_zaozerskaia/opt/anaconda3/lib/python3.8/site-packages (from requests->webdriver-manager) (2020.12.5)\n",
      "Requirement already satisfied: idna<3,>=2.5 in /Users/alena_zaozerskaia/opt/anaconda3/lib/python3.8/site-packages (from requests->webdriver-manager) (2.10)\n",
      "Collecting urllib3!=1.25.0,!=1.25.1,<1.26,>=1.21.1\n",
      "  Using cached urllib3-1.25.11-py2.py3-none-any.whl (127 kB)\n",
      "Requirement already satisfied: chardet<4,>=3.0.2 in /Users/alena_zaozerskaia/opt/anaconda3/lib/python3.8/site-packages (from requests->webdriver-manager) (3.0.4)\n",
      "Installing collected packages: urllib3\n",
      "  Attempting uninstall: urllib3\n",
      "    Found existing installation: urllib3 1.26.7\n",
      "    Uninstalling urllib3-1.26.7:\n",
      "      Successfully uninstalled urllib3-1.26.7\n",
      "\u001b[31mERROR: pip's dependency resolver does not currently take into account all the packages that are installed. This behaviour is the source of the following dependency conflicts.\n",
      "conda-repo-cli 1.0.4 requires pathlib, which is not installed.\n",
      "anaconda-project 0.9.1 requires ruamel-yaml, which is not installed.\n",
      "selenium 4.0.0 requires urllib3[secure]~=1.26, but you have urllib3 1.25.11 which is incompatible.\n",
      "parse-hh-data 0.1.14 requires urllib3==1.25.8, but you have urllib3 1.25.11 which is incompatible.\u001b[0m\n",
      "Successfully installed urllib3-1.25.11\n",
      "Requirement already satisfied: fake_useragent in /Users/alena_zaozerskaia/opt/anaconda3/lib/python3.8/site-packages (0.1.11)\n"
     ]
    }
   ],
   "source": [
    "!pip install webdriver-manager\n",
    "!pip install fake_useragent"
   ]
  },
  {
   "cell_type": "code",
   "execution_count": 3,
   "id": "fc8a1fd9",
   "metadata": {},
   "outputs": [],
   "source": [
    "from selenium import webdriver"
   ]
  },
  {
   "cell_type": "code",
   "execution_count": 4,
   "id": "04aa1f1a",
   "metadata": {},
   "outputs": [
    {
     "name": "stderr",
     "output_type": "stream",
     "text": [
      "\n",
      "\n",
      "====== WebDriver manager ======\n",
      "Current google-chrome version is 96.0.4664\n",
      "Get LATEST chromedriver version for 96.0.4664 google-chrome\n",
      "Driver [/Users/alena_zaozerskaia/.wdm/drivers/chromedriver/mac64/96.0.4664.45/chromedriver] found in cache\n",
      "<ipython-input-4-9d63c39cee0e>:3: DeprecationWarning: executable_path has been deprecated, please pass in a Service object\n",
      "  driver = webdriver.Chrome(ChromeDriverManager().install())\n"
     ]
    }
   ],
   "source": [
    "from selenium import webdriver\n",
    "from webdriver_manager.chrome import ChromeDriverManager\n",
    "driver = webdriver.Chrome(ChromeDriverManager().install())"
   ]
  },
  {
   "cell_type": "code",
   "execution_count": 5,
   "id": "99772d4c",
   "metadata": {},
   "outputs": [],
   "source": [
    "import requests     \n",
    "import numpy as np   \n",
    "import pandas as pd  \n",
    "import time \n",
    "from tqdm import tqdm_notebook\n",
    "from fake_useragent import UserAgent\n",
    "from bs4 import BeautifulSoup"
   ]
  },
  {
   "cell_type": "code",
   "execution_count": 6,
   "id": "62f6b4ab",
   "metadata": {},
   "outputs": [],
   "source": [
    "from tqdm.notebook import trange, tqdm"
   ]
  },
  {
   "cell_type": "code",
   "execution_count": 7,
   "id": "5df8a25b",
   "metadata": {},
   "outputs": [],
   "source": [
    "url = 'https://hh.ru/resumes/analitik?area=1&clusters=true&exp_period=all_time&logic=normal&no_magic=true&order_by=relevance&ored_clusters=true&pos=full_text&text=%D0%B0%D0%BD%D0%B0%D0%BB%D0%B8%D1%82%D0%B8%D0%BA&items_on_page=100'"
   ]
  },
  {
   "cell_type": "code",
   "execution_count": 8,
   "id": "c0b70d3c",
   "metadata": {},
   "outputs": [],
   "source": [
    "def parse_page(page): \n",
    "    # заходим на страницу с определённым номером\n",
    "    driver.get(url + '&page={}'.format(page))\n",
    "    soup = BeautifulSoup(driver.page_source)\n",
    "    \n",
    "    # ищем ссылки и собираем их\n",
    "    hrfs = soup.find_all('a', {'class': 'resume-search-item__name'})\n",
    "    vac = [i.get('href') for i in hrfs if '/resume/' in i.get('href')]\n",
    "    \n",
    "    return vac"
   ]
  },
  {
   "cell_type": "code",
   "execution_count": 9,
   "id": "e0f289d7",
   "metadata": {},
   "outputs": [
    {
     "data": {
      "application/vnd.jupyter.widget-view+json": {
       "model_id": "01ba002c67da4ed687e8b0c69cbf6a84",
       "version_major": 2,
       "version_minor": 0
      },
      "text/plain": [
       "HBox(children=(FloatProgress(value=0.0, max=50.0), HTML(value='')))"
      ]
     },
     "metadata": {},
     "output_type": "display_data"
    },
    {
     "name": "stdout",
     "output_type": "stream",
     "text": [
      "0 100\n",
      "1 200\n",
      "2 300\n",
      "3 400\n",
      "4 500\n",
      "5 600\n",
      "6 700\n",
      "7 800\n",
      "8 900\n",
      "9 1000\n",
      "10 1100\n",
      "11 1200\n",
      "12 1300\n",
      "13 1400\n",
      "14 1500\n",
      "15 1600\n",
      "16 1700\n",
      "17 1800\n",
      "18 1900\n",
      "19 2000\n",
      "20 2100\n",
      "21 2200\n",
      "22 2300\n",
      "23 2400\n",
      "24 2500\n",
      "25 2600\n",
      "26 2700\n",
      "27 2800\n",
      "28 2900\n",
      "29 3000\n",
      "30 3100\n",
      "31 3200\n",
      "32 3300\n",
      "33 3400\n",
      "34 3500\n",
      "35 3600\n",
      "36 3700\n",
      "37 3800\n",
      "38 3900\n",
      "39 4000\n",
      "40 4100\n",
      "41 4200\n",
      "42 4300\n",
      "43 4400\n",
      "44 4500\n",
      "45 4600\n",
      "46 4700\n",
      "47 4800\n",
      "48 4900\n",
      "49 5000\n",
      "\n"
     ]
    }
   ],
   "source": [
    "pages_list = []\n",
    "\n",
    "# перебираем в цикле номера страниц\n",
    "for i in tqdm(range(50)):\n",
    "    pages_list += parse_page(i)\n",
    "    print(i, len(pages_list))\n",
    "    time.sleep(3)"
   ]
  },
  {
   "cell_type": "code",
   "execution_count": 16,
   "id": "74429229",
   "metadata": {},
   "outputs": [
    {
     "name": "stdout",
     "output_type": "stream",
     "text": [
      "https://hh.ru/resume/f6343d3e000364b04e0039ed1f477762506c34?query=%D0%B0%D0%BD%D0%B0%D0%BB%D0%B8%D1%82%D0%B8%D0%BA&hhtmFrom=resumes_catalog&source=search\n"
     ]
    }
   ],
   "source": [
    "print('https://hh.ru'+pages_list[0])"
   ]
  },
  {
   "cell_type": "code",
   "execution_count": 17,
   "id": "6a912a8b",
   "metadata": {},
   "outputs": [],
   "source": [
    "pages_resume_list = [('https://hh.ru'+i) for i in pages_list]"
   ]
  },
  {
   "cell_type": "code",
   "execution_count": 19,
   "id": "0c7f9556",
   "metadata": {},
   "outputs": [],
   "source": [
    "links = pd.DataFrame(pages_resume_list, columns=['link'])"
   ]
  },
  {
   "cell_type": "code",
   "execution_count": 20,
   "id": "8fc5b78f",
   "metadata": {},
   "outputs": [],
   "source": [
    "links.to_csv('resume_links_it.csv', index=False)"
   ]
  },
  {
   "cell_type": "code",
   "execution_count": null,
   "id": "a24f28ea",
   "metadata": {},
   "outputs": [],
   "source": [
    "driver.close()"
   ]
  },
  {
   "cell_type": "code",
   "execution_count": null,
   "id": "08776848",
   "metadata": {},
   "outputs": [],
   "source": [
    "print('END Парсинг резюме IT')"
   ]
  },
  {
   "cell_type": "code",
   "execution_count": null,
   "id": "5a25b39f",
   "metadata": {},
   "outputs": [],
   "source": [
    "print('END Парсинг резюме IT')"
   ]
  },
  {
   "cell_type": "code",
   "execution_count": null,
   "id": "8ec6d1ca",
   "metadata": {},
   "outputs": [],
   "source": [
    "print('END Парсинг резюме IT')"
   ]
  },
  {
   "cell_type": "code",
   "execution_count": null,
   "id": "967449ab",
   "metadata": {},
   "outputs": [],
   "source": [
    "print('END Парсинг резюме IT')"
   ]
  },
  {
   "cell_type": "code",
   "execution_count": null,
   "id": "95aa096a",
   "metadata": {},
   "outputs": [],
   "source": [
    "print('END Парсинг резюме IT')"
   ]
  },
  {
   "cell_type": "code",
   "execution_count": null,
   "id": "ae3ee5f3",
   "metadata": {},
   "outputs": [],
   "source": [
    "print('END Парсинг резюме IT')"
   ]
  },
  {
   "cell_type": "code",
   "execution_count": null,
   "id": "3d999267",
   "metadata": {},
   "outputs": [],
   "source": [
    "print('END Парсинг резюме IT')"
   ]
  }
 ],
 "metadata": {
  "kernelspec": {
   "display_name": "Python 3 (ipykernel)",
   "language": "python",
   "name": "python3"
  },
  "language_info": {
   "codemirror_mode": {
    "name": "ipython",
    "version": 3
   },
   "file_extension": ".py",
   "mimetype": "text/x-python",
   "name": "python",
   "nbconvert_exporter": "python",
   "pygments_lexer": "ipython3",
   "version": "3.9.7"
  }
 },
 "nbformat": 4,
 "nbformat_minor": 5
}
