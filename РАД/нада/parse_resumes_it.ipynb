{
 "cells": [
  {
   "cell_type": "code",
   "execution_count": null,
   "id": "64d0da09",
   "metadata": {},
   "outputs": [],
   "source": [
    "print('Парсинг резюме IT')"
   ]
  },
  {
   "cell_type": "code",
   "execution_count": null,
   "id": "2a66cd9d",
   "metadata": {},
   "outputs": [],
   "source": [
    "print('Парсинг резюме IT')"
   ]
  },
  {
   "cell_type": "code",
   "execution_count": null,
   "id": "2e7e9b65",
   "metadata": {},
   "outputs": [],
   "source": [
    "print('Парсинг резюме IT')"
   ]
  },
  {
   "cell_type": "code",
   "execution_count": null,
   "id": "6a8a996e",
   "metadata": {},
   "outputs": [],
   "source": [
    "print('Парсинг резюме IT')"
   ]
  },
  {
   "cell_type": "code",
   "execution_count": null,
   "id": "e7cee599",
   "metadata": {},
   "outputs": [],
   "source": [
    "print('Парсинг резюме IT')"
   ]
  },
  {
   "cell_type": "code",
   "execution_count": null,
   "id": "a270dcf6",
   "metadata": {},
   "outputs": [],
   "source": [
    "print('Парсинг резюме IT')"
   ]
  },
  {
   "cell_type": "code",
   "execution_count": null,
   "id": "8be24e95",
   "metadata": {},
   "outputs": [],
   "source": [
    "print('Парсинг резюме IT')"
   ]
  },
  {
   "cell_type": "code",
   "execution_count": null,
   "id": "21ef70bd",
   "metadata": {},
   "outputs": [],
   "source": [
    "print('Парсинг резюме IT')"
   ]
  },
  {
   "cell_type": "code",
   "execution_count": 1,
   "id": "2f3d966d",
   "metadata": {},
   "outputs": [
    {
     "name": "stdout",
     "output_type": "stream",
     "text": [
      "Requirement already satisfied: selenium in /Users/mariyafomina/opt/anaconda3/lib/python3.9/site-packages (4.1.0)\n",
      "Requirement already satisfied: urllib3[secure]~=1.26 in /Users/mariyafomina/opt/anaconda3/lib/python3.9/site-packages (from selenium) (1.26.7)\n",
      "Requirement already satisfied: trio~=0.17 in /Users/mariyafomina/opt/anaconda3/lib/python3.9/site-packages (from selenium) (0.19.0)\n",
      "Requirement already satisfied: trio-websocket~=0.9 in /Users/mariyafomina/opt/anaconda3/lib/python3.9/site-packages (from selenium) (0.9.2)\n",
      "Requirement already satisfied: sniffio in /Users/mariyafomina/opt/anaconda3/lib/python3.9/site-packages (from trio~=0.17->selenium) (1.2.0)\n",
      "Requirement already satisfied: sortedcontainers in /Users/mariyafomina/opt/anaconda3/lib/python3.9/site-packages (from trio~=0.17->selenium) (2.4.0)\n",
      "Requirement already satisfied: outcome in /Users/mariyafomina/opt/anaconda3/lib/python3.9/site-packages (from trio~=0.17->selenium) (1.1.0)\n",
      "Requirement already satisfied: attrs>=19.2.0 in /Users/mariyafomina/opt/anaconda3/lib/python3.9/site-packages (from trio~=0.17->selenium) (21.2.0)\n",
      "Requirement already satisfied: idna in /Users/mariyafomina/opt/anaconda3/lib/python3.9/site-packages (from trio~=0.17->selenium) (3.2)\n",
      "Requirement already satisfied: async-generator>=1.9 in /Users/mariyafomina/opt/anaconda3/lib/python3.9/site-packages (from trio~=0.17->selenium) (1.10)\n",
      "Requirement already satisfied: wsproto>=0.14 in /Users/mariyafomina/opt/anaconda3/lib/python3.9/site-packages (from trio-websocket~=0.9->selenium) (1.0.0)\n",
      "Requirement already satisfied: pyOpenSSL>=0.14 in /Users/mariyafomina/opt/anaconda3/lib/python3.9/site-packages (from urllib3[secure]~=1.26->selenium) (21.0.0)\n",
      "Requirement already satisfied: cryptography>=1.3.4 in /Users/mariyafomina/opt/anaconda3/lib/python3.9/site-packages (from urllib3[secure]~=1.26->selenium) (3.4.8)\n",
      "Requirement already satisfied: certifi in /Users/mariyafomina/opt/anaconda3/lib/python3.9/site-packages (from urllib3[secure]~=1.26->selenium) (2021.10.8)\n",
      "Requirement already satisfied: cffi>=1.12 in /Users/mariyafomina/opt/anaconda3/lib/python3.9/site-packages (from cryptography>=1.3.4->urllib3[secure]~=1.26->selenium) (1.14.6)\n",
      "Requirement already satisfied: pycparser in /Users/mariyafomina/opt/anaconda3/lib/python3.9/site-packages (from cffi>=1.12->cryptography>=1.3.4->urllib3[secure]~=1.26->selenium) (2.20)\n",
      "Requirement already satisfied: six>=1.5.2 in /Users/mariyafomina/opt/anaconda3/lib/python3.9/site-packages (from pyOpenSSL>=0.14->urllib3[secure]~=1.26->selenium) (1.16.0)\n",
      "Requirement already satisfied: h11<1,>=0.9.0 in /Users/mariyafomina/opt/anaconda3/lib/python3.9/site-packages (from wsproto>=0.14->trio-websocket~=0.9->selenium) (0.12.0)\n",
      "Requirement already satisfied: beautifulsoup4 in /Users/mariyafomina/opt/anaconda3/lib/python3.9/site-packages (4.10.0)\n",
      "Requirement already satisfied: soupsieve>1.2 in /Users/mariyafomina/opt/anaconda3/lib/python3.9/site-packages (from beautifulsoup4) (2.2.1)\n"
     ]
    }
   ],
   "source": [
    "!pip install selenium\n",
    "!pip install beautifulsoup4"
   ]
  },
  {
   "cell_type": "code",
   "execution_count": 19,
   "id": "72a57bf2",
   "metadata": {},
   "outputs": [
    {
     "name": "stdout",
     "output_type": "stream",
     "text": [
      "Requirement already satisfied: webdriver-manager in /Users/alena_zaozerskaia/opt/anaconda3/lib/python3.8/site-packages (3.5.2)\n",
      "Requirement already satisfied: requests in /Users/alena_zaozerskaia/opt/anaconda3/lib/python3.8/site-packages (from webdriver-manager) (2.23.0)\n",
      "Requirement already satisfied: configparser in /Users/alena_zaozerskaia/opt/anaconda3/lib/python3.8/site-packages (from webdriver-manager) (5.1.0)\n",
      "Requirement already satisfied: crayons in /Users/alena_zaozerskaia/opt/anaconda3/lib/python3.8/site-packages (from webdriver-manager) (0.4.0)\n",
      "Requirement already satisfied: colorama in /Users/alena_zaozerskaia/opt/anaconda3/lib/python3.8/site-packages (from crayons->webdriver-manager) (0.4.4)\n",
      "Requirement already satisfied: certifi>=2017.4.17 in /Users/alena_zaozerskaia/opt/anaconda3/lib/python3.8/site-packages (from requests->webdriver-manager) (2020.12.5)\n",
      "Collecting urllib3!=1.25.0,!=1.25.1,<1.26,>=1.21.1\n",
      "  Using cached urllib3-1.25.11-py2.py3-none-any.whl (127 kB)\n",
      "Requirement already satisfied: idna<3,>=2.5 in /Users/alena_zaozerskaia/opt/anaconda3/lib/python3.8/site-packages (from requests->webdriver-manager) (2.10)\n",
      "Requirement already satisfied: chardet<4,>=3.0.2 in /Users/alena_zaozerskaia/opt/anaconda3/lib/python3.8/site-packages (from requests->webdriver-manager) (3.0.4)\n",
      "Installing collected packages: urllib3\n",
      "  Attempting uninstall: urllib3\n",
      "    Found existing installation: urllib3 1.26.7\n",
      "    Uninstalling urllib3-1.26.7:\n",
      "      Successfully uninstalled urllib3-1.26.7\n",
      "\u001b[31mERROR: pip's dependency resolver does not currently take into account all the packages that are installed. This behaviour is the source of the following dependency conflicts.\n",
      "conda-repo-cli 1.0.4 requires pathlib, which is not installed.\n",
      "anaconda-project 0.9.1 requires ruamel-yaml, which is not installed.\n",
      "selenium 4.0.0 requires urllib3[secure]~=1.26, but you have urllib3 1.25.11 which is incompatible.\n",
      "parse-hh-data 0.1.14 requires urllib3==1.25.8, but you have urllib3 1.25.11 which is incompatible.\u001b[0m\n",
      "Successfully installed urllib3-1.25.11\n",
      "Requirement already satisfied: fake_useragent in /Users/alena_zaozerskaia/opt/anaconda3/lib/python3.8/site-packages (0.1.11)\n"
     ]
    }
   ],
   "source": [
    "!pip install webdriver-manager\n",
    "!pip install fake_useragent"
   ]
  },
  {
   "cell_type": "code",
   "execution_count": 2,
   "id": "4d783fdf",
   "metadata": {},
   "outputs": [],
   "source": [
    "from selenium import webdriver"
   ]
  },
  {
   "cell_type": "code",
   "execution_count": 3,
   "id": "5a678ad4",
   "metadata": {},
   "outputs": [
    {
     "name": "stderr",
     "output_type": "stream",
     "text": [
      "\n",
      "\n",
      "====== WebDriver manager ======\n",
      "Current google-chrome version is 96.0.4664\n",
      "Get LATEST chromedriver version for 96.0.4664 google-chrome\n",
      "Trying to download new driver from https://chromedriver.storage.googleapis.com/96.0.4664.45/chromedriver_mac64.zip\n",
      "Driver has been saved in cache [/Users/mariyafomina/.wdm/drivers/chromedriver/mac64/96.0.4664.45]\n",
      "/var/folders/5q/j9q39fb16kb92xndpt7ksw280000gn/T/ipykernel_1568/3871533204.py:3: DeprecationWarning: executable_path has been deprecated, please pass in a Service object\n",
      "  driver = webdriver.Chrome(ChromeDriverManager().install())\n"
     ]
    }
   ],
   "source": [
    "from selenium import webdriver\n",
    "from webdriver_manager.chrome import ChromeDriverManager\n",
    "driver = webdriver.Chrome(ChromeDriverManager().install())"
   ]
  },
  {
   "cell_type": "code",
   "execution_count": 22,
   "id": "01a5482e",
   "metadata": {},
   "outputs": [],
   "source": [
    "from tqdm.notebook import trange, tqdm"
   ]
  },
  {
   "cell_type": "code",
   "execution_count": 23,
   "id": "f59465cb",
   "metadata": {},
   "outputs": [],
   "source": [
    "import requests     \n",
    "import numpy as np   \n",
    "import pandas as pd  \n",
    "import time \n",
    "\n",
    "from fake_useragent import UserAgent\n",
    "from bs4 import BeautifulSoup"
   ]
  },
  {
   "cell_type": "code",
   "execution_count": 24,
   "id": "0c284503",
   "metadata": {},
   "outputs": [],
   "source": [
    "links = pd.read_csv('resume_links_it.csv')"
   ]
  },
  {
   "cell_type": "code",
   "execution_count": 25,
   "id": "101789ea",
   "metadata": {},
   "outputs": [
    {
     "data": {
      "text/plain": [
       "5000"
      ]
     },
     "execution_count": 25,
     "metadata": {},
     "output_type": "execute_result"
    }
   ],
   "source": [
    "len(links)"
   ]
  },
  {
   "cell_type": "code",
   "execution_count": 26,
   "id": "a4f76397",
   "metadata": {},
   "outputs": [],
   "source": [
    "links['name'] = [0]*len(links)\n",
    "links['gender'] = [0]*len(links)\n",
    "links['age'] = [0]*len(links)\n",
    "links['path1'] = [0]*len(links)\n",
    "links['path2'] = [0]*len(links)\n",
    "links['skills'] = [0]*len(links)\n",
    "links['languages'] = [0]*len(links)\n",
    "links['salary'] = [0]*len(links)\n",
    "links['experience'] = [0]*len(links)\n",
    "links['edu_degree'] = [0]*len(links)\n",
    "links['uni'] = [0]*len(links)"
   ]
  },
  {
   "cell_type": "code",
   "execution_count": 27,
   "id": "9ff54c28",
   "metadata": {},
   "outputs": [],
   "source": [
    "links_arr = links['link']"
   ]
  },
  {
   "cell_type": "code",
   "execution_count": 28,
   "id": "1bdcf031",
   "metadata": {},
   "outputs": [
    {
     "data": {
      "application/vnd.jupyter.widget-view+json": {
       "model_id": "f165dd6236514fa59009ee241657ce51",
       "version_major": 2,
       "version_minor": 0
      },
      "text/plain": [
       "HBox(children=(FloatProgress(value=0.0, max=5000.0), HTML(value='')))"
      ]
     },
     "metadata": {},
     "output_type": "display_data"
    },
    {
     "name": "stdout",
     "output_type": "stream",
     "text": [
      "\n"
     ]
    }
   ],
   "source": [
    "for i in trange(len(links_arr)):\n",
    "    try:    \n",
    "        # переход по ссылке\n",
    "        driver.get(links_arr[i])\n",
    "        soup = BeautifulSoup(driver.page_source)\n",
    "        \n",
    "        # название желаемой должности\n",
    "        name = soup.find('h2', attrs={'data-qa':'bloko-header-2'}).text\n",
    "        links.loc[i, 'name'] = name\n",
    "         \n",
    "        # список навыков кандидата\n",
    "        skills = soup.find_all('span', attrs={'class':'bloko-tag__section bloko-tag__section_text'})\n",
    "        sk = [i.text for i in skills]\n",
    "        links.loc[i, 'skills'] = str(sk)  \n",
    "        \n",
    "        # опыт кандидата\n",
    "        exp = soup.find('span', attrs={'class':'resume-block__title-text resume-block__title-text_sub'}).text\n",
    "        links.loc[i, 'experience'] = exp\n",
    "        \n",
    "        # пол, возраст\n",
    "        try:\n",
    "            gender = soup.find('span', attrs={'data-qa':'resume-personal-gender'}).text\n",
    "            links.loc[i, 'gender'] = gender\n",
    "        except:\n",
    "            continue\n",
    "        try:\n",
    "            age = soup.find('span', attrs={'data-qa':'resume-personal-age'}).text\n",
    "            links.loc[i, 'age'] = age\n",
    "        except:\n",
    "            continue\n",
    "        \n",
    "        \n",
    "        # языки\n",
    "        languages = soup.find_all('p', attrs={'data-qa':'resume-block-language-item'})\n",
    "        lang = [i.text for i in languages]\n",
    "        links.loc[i, 'languages'] = str(lang)\n",
    "        \n",
    "        # сфера (2 пункта) - не везде указаны\n",
    "        try:\n",
    "            path1 = soup.find('span', attrs={'data-qa':'resume-block-specialization-category'}).text\n",
    "            links.loc[i, 'path1'] = path1\n",
    "        except:\n",
    "            continue\n",
    "        try:\n",
    "            paths2 = soup.find_all('li', attrs={'class':'resume-block__specialization'})\n",
    "            path2 = [i.text for i in paths2]\n",
    "            links.loc[i, 'path2'] = str(path2)\n",
    "        except:\n",
    "            continue\n",
    "        \n",
    "        # степень образования\n",
    "        try:\n",
    "            edu = soup.find('div', attrs={'data-qa':'resume-block-education'}).find('span', \n",
    "                       attrs={'class':'resume-block__title-text resume-block__title-text_sub'}).text\n",
    "            links.loc[i, 'edu_degree'] = edu\n",
    "        except:\n",
    "            continue\n",
    "        \n",
    "        # универы\n",
    "        try:\n",
    "            unis = soup.find('div', attrs={'data-qa':'resume-block-education'}).find_all('div', \n",
    "                 attrs={'class':'bloko-column bloko-column_xs-4 bloko-column_s-6 bloko-column_m-7 bloko-column_l-10'})\n",
    "            uni = [i.text for i in unis]\n",
    "            links.loc[i, 'uni'] = str(uni)\n",
    "        except:\n",
    "            continue\n",
    "        \n",
    "        # желаемая зарплата, если указана\n",
    "        salary = soup.find('span', attrs={'class':'resume-block__salary resume-block__title-text_salary'}).text\n",
    "        links.loc[i, 'salary'] = salary\n",
    "        \n",
    "        time.sleep(7)\n",
    "        \n",
    "    except:\n",
    "        continue"
   ]
  },
  {
   "cell_type": "code",
   "execution_count": null,
   "id": "206cbd3e",
   "metadata": {},
   "outputs": [],
   "source": [
    "links = pd.DataFrame(pages_resume_it)"
   ]
  },
  {
   "cell_type": "code",
   "execution_count": null,
   "id": "517e335a",
   "metadata": {},
   "outputs": [],
   "source": [
    "driver.close()"
   ]
  },
  {
   "cell_type": "code",
   "execution_count": 85,
   "id": "b1ffe176",
   "metadata": {},
   "outputs": [
    {
     "name": "stdout",
     "output_type": "stream",
     "text": [
      "https://hh.ru/resume/4d35080700081c87310039ed1f395730504a42?query=%D0%B0%D0%BD%D0%B0%D0%BB%D0%B8%D1%82%D0%B8%D0%BA&hhtmFrom=resumes_catalog&source=search\n"
     ]
    }
   ],
   "source": [
    "print('END Парсинг резюме IT')"
   ]
  },
  {
   "cell_type": "code",
   "execution_count": 85,
   "id": "59be25ba",
   "metadata": {},
   "outputs": [
    {
     "name": "stdout",
     "output_type": "stream",
     "text": [
      "https://hh.ru/resume/4d35080700081c87310039ed1f395730504a42?query=%D0%B0%D0%BD%D0%B0%D0%BB%D0%B8%D1%82%D0%B8%D0%BA&hhtmFrom=resumes_catalog&source=search\n"
     ]
    }
   ],
   "source": [
    "print('END Парсинг резюме IT')"
   ]
  },
  {
   "cell_type": "code",
   "execution_count": 85,
   "id": "b1ffe176",
   "metadata": {},
   "outputs": [
    {
     "name": "stdout",
     "output_type": "stream",
     "text": [
      "https://hh.ru/resume/4d35080700081c87310039ed1f395730504a42?query=%D0%B0%D0%BD%D0%B0%D0%BB%D0%B8%D1%82%D0%B8%D0%BA&hhtmFrom=resumes_catalog&source=search\n"
     ]
    }
   ],
   "source": [
    "print('END Парсинг резюме IT')"
   ]
  },
  {
   "cell_type": "code",
   "execution_count": 85,
   "id": "b1ffe176",
   "metadata": {},
   "outputs": [
    {
     "name": "stdout",
     "output_type": "stream",
     "text": [
      "https://hh.ru/resume/4d35080700081c87310039ed1f395730504a42?query=%D0%B0%D0%BD%D0%B0%D0%BB%D0%B8%D1%82%D0%B8%D0%BA&hhtmFrom=resumes_catalog&source=search\n"
     ]
    }
   ],
   "source": [
    "print('END Парсинг резюме IT')"
   ]
  },
  {
   "cell_type": "code",
   "execution_count": 85,
   "id": "b1ffe176",
   "metadata": {},
   "outputs": [
    {
     "name": "stdout",
     "output_type": "stream",
     "text": [
      "https://hh.ru/resume/4d35080700081c87310039ed1f395730504a42?query=%D0%B0%D0%BD%D0%B0%D0%BB%D0%B8%D1%82%D0%B8%D0%BA&hhtmFrom=resumes_catalog&source=search\n"
     ]
    }
   ],
   "source": [
    "print('END Парсинг резюме IT')"
   ]
  },
  {
   "cell_type": "code",
   "execution_count": 85,
   "id": "b1ffe176",
   "metadata": {},
   "outputs": [
    {
     "name": "stdout",
     "output_type": "stream",
     "text": [
      "https://hh.ru/resume/4d35080700081c87310039ed1f395730504a42?query=%D0%B0%D0%BD%D0%B0%D0%BB%D0%B8%D1%82%D0%B8%D0%BA&hhtmFrom=resumes_catalog&source=search\n"
     ]
    }
   ],
   "source": [
    "print('END Парсинг резюме IT')"
   ]
  },
  {
   "cell_type": "code",
   "execution_count": 85,
   "id": "b1ffe176",
   "metadata": {},
   "outputs": [
    {
     "name": "stdout",
     "output_type": "stream",
     "text": [
      "https://hh.ru/resume/4d35080700081c87310039ed1f395730504a42?query=%D0%B0%D0%BD%D0%B0%D0%BB%D0%B8%D1%82%D0%B8%D0%BA&hhtmFrom=resumes_catalog&source=search\n"
     ]
    }
   ],
   "source": [
    "print('END Парсинг резюме IT')"
   ]
  },
  {
   "cell_type": "code",
   "execution_count": null,
   "id": "532f800b",
   "metadata": {},
   "outputs": [],
   "source": []
  }
 ],
 "metadata": {
  "kernelspec": {
   "display_name": "Python 3 (ipykernel)",
   "language": "python",
   "name": "python3"
  },
  "language_info": {
   "codemirror_mode": {
    "name": "ipython",
    "version": 3
   },
   "file_extension": ".py",
   "mimetype": "text/x-python",
   "name": "python",
   "nbconvert_exporter": "python",
   "pygments_lexer": "ipython3",
   "version": "3.9.7"
  }
 },
 "nbformat": 4,
 "nbformat_minor": 5
}
