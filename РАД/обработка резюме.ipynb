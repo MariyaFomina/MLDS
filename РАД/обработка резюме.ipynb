{
 "cells": [
  {
   "cell_type": "code",
   "execution_count": 1,
   "id": "45496209",
   "metadata": {},
   "outputs": [],
   "source": [
    "import pandas as pd\n",
    "import re\n",
    "\n",
    "\n",
    "# pd.set_option(\"display.max_rows\", None, \"display.max_columns\", None)"
   ]
  },
  {
   "cell_type": "code",
   "execution_count": 2,
   "id": "1233cc83",
   "metadata": {},
   "outputs": [],
   "source": [
    "df = pd.read_csv('resumes_ttl.csv')"
   ]
  },
  {
   "cell_type": "markdown",
   "id": "ef1722a5",
   "metadata": {},
   "source": [
    "предварительно дубли почищены"
   ]
  },
  {
   "cell_type": "code",
   "execution_count": 3,
   "id": "9394da3a",
   "metadata": {},
   "outputs": [
    {
     "data": {
      "text/html": [
       "<div>\n",
       "<style scoped>\n",
       "    .dataframe tbody tr th:only-of-type {\n",
       "        vertical-align: middle;\n",
       "    }\n",
       "\n",
       "    .dataframe tbody tr th {\n",
       "        vertical-align: top;\n",
       "    }\n",
       "\n",
       "    .dataframe thead th {\n",
       "        text-align: right;\n",
       "    }\n",
       "</style>\n",
       "<table border=\"1\" class=\"dataframe\">\n",
       "  <thead>\n",
       "    <tr style=\"text-align: right;\">\n",
       "      <th></th>\n",
       "      <th>link</th>\n",
       "      <th>name</th>\n",
       "      <th>gender</th>\n",
       "      <th>age</th>\n",
       "      <th>path1</th>\n",
       "      <th>path2</th>\n",
       "      <th>skills</th>\n",
       "      <th>languages</th>\n",
       "      <th>salary</th>\n",
       "      <th>experience</th>\n",
       "      <th>edu_degree</th>\n",
       "      <th>uni</th>\n",
       "    </tr>\n",
       "  </thead>\n",
       "  <tbody>\n",
       "    <tr>\n",
       "      <th>0</th>\n",
       "      <td>https://hh.ru/resume/f6343d3e000364b04e0039ed1...</td>\n",
       "      <td>Аналитик</td>\n",
       "      <td>Мужчина</td>\n",
       "      <td>29 лет</td>\n",
       "      <td>Банки, инвестиции, лизинг</td>\n",
       "      <td>['Аналитик']</td>\n",
       "      <td>['Креативность', 'Работа в команде', 'Грамотна...</td>\n",
       "      <td>['Русский — Родной', 'Английский — C1 — Продви...</td>\n",
       "      <td>0</td>\n",
       "      <td>Опыт работы 9 лет 3 месяца</td>\n",
       "      <td>Высшее образование</td>\n",
       "      <td>['Государственный университет по землеустройст...</td>\n",
       "    </tr>\n",
       "    <tr>\n",
       "      <th>1</th>\n",
       "      <td>https://hh.ru/resume/a460bf600008813d1e0039ed1...</td>\n",
       "      <td>Аналитик-переводчик</td>\n",
       "      <td>Мужчина</td>\n",
       "      <td>26 лет</td>\n",
       "      <td>Информационные технологии, интернет, телеком</td>\n",
       "      <td>['Аналитик']</td>\n",
       "      <td>['Работоспособность', 'SWOT анализ', 'Перевод'...</td>\n",
       "      <td>['Русский — Родной', 'Английский — C2 — В сове...</td>\n",
       "      <td>70 000 руб.</td>\n",
       "      <td>Опыт работы 1 год 3 месяца</td>\n",
       "      <td>Высшее образование (Бакалавр)</td>\n",
       "      <td>['USEEFaculty of Legal and Business Studies Dr...</td>\n",
       "    </tr>\n",
       "    <tr>\n",
       "      <th>2</th>\n",
       "      <td>https://hh.ru/resume/1d5acdda0008d6a0580039ed1...</td>\n",
       "      <td>Аналитик</td>\n",
       "      <td>Мужчина</td>\n",
       "      <td>25 лет</td>\n",
       "      <td>Банки, инвестиции, лизинг</td>\n",
       "      <td>['Аналитик']</td>\n",
       "      <td>['SQL', 'DWH', 'Бизнес-анализ', 'Системный ана...</td>\n",
       "      <td>['Русский — Родной', 'Английский — B1 — Средний']</td>\n",
       "      <td>0</td>\n",
       "      <td>Опыт работы 2 года 3 месяца</td>\n",
       "      <td>Высшее образование (Магистр)</td>\n",
       "      <td>['Московский государственный технический униве...</td>\n",
       "    </tr>\n",
       "    <tr>\n",
       "      <th>3</th>\n",
       "      <td>https://hh.ru/resume/f068d4e200064239590039ed1...</td>\n",
       "      <td>Аналитик</td>\n",
       "      <td>Мужчина</td>\n",
       "      <td>26 лет</td>\n",
       "      <td>Информационные технологии, интернет, телеком</td>\n",
       "      <td>['Тестирование', 'Управление проектами', 'Анал...</td>\n",
       "      <td>['Аналитическое мышление', 'Работа в команде',...</td>\n",
       "      <td>['Русский — Родной', 'Английский — A1 — Началь...</td>\n",
       "      <td>180 000 руб.</td>\n",
       "      <td>Опыт работы 2 года 4 месяца</td>\n",
       "      <td>Высшее образование (Бакалавр)</td>\n",
       "      <td>['Тамбовский государственный технический униве...</td>\n",
       "    </tr>\n",
       "    <tr>\n",
       "      <th>4</th>\n",
       "      <td>https://hh.ru/resume/1ea9beb30009320c280039ed1...</td>\n",
       "      <td>Аналитик</td>\n",
       "      <td>Мужчина</td>\n",
       "      <td>0</td>\n",
       "      <td>0</td>\n",
       "      <td>0</td>\n",
       "      <td>['Бумажный документооборот', 'Документооборот'...</td>\n",
       "      <td>0</td>\n",
       "      <td>0</td>\n",
       "      <td>Опыт работы 5 лет 5 месяцев</td>\n",
       "      <td>0</td>\n",
       "      <td>0</td>\n",
       "    </tr>\n",
       "  </tbody>\n",
       "</table>\n",
       "</div>"
      ],
      "text/plain": [
       "                                                link                 name  \\\n",
       "0  https://hh.ru/resume/f6343d3e000364b04e0039ed1...             Аналитик   \n",
       "1  https://hh.ru/resume/a460bf600008813d1e0039ed1...  Аналитик-переводчик   \n",
       "2  https://hh.ru/resume/1d5acdda0008d6a0580039ed1...             Аналитик   \n",
       "3  https://hh.ru/resume/f068d4e200064239590039ed1...             Аналитик   \n",
       "4  https://hh.ru/resume/1ea9beb30009320c280039ed1...             Аналитик   \n",
       "\n",
       "    gender     age                                         path1  \\\n",
       "0  Мужчина  29 лет                     Банки, инвестиции, лизинг   \n",
       "1  Мужчина  26 лет  Информационные технологии, интернет, телеком   \n",
       "2  Мужчина  25 лет                     Банки, инвестиции, лизинг   \n",
       "3  Мужчина  26 лет  Информационные технологии, интернет, телеком   \n",
       "4  Мужчина       0                                             0   \n",
       "\n",
       "                                               path2  \\\n",
       "0                                       ['Аналитик']   \n",
       "1                                       ['Аналитик']   \n",
       "2                                       ['Аналитик']   \n",
       "3  ['Тестирование', 'Управление проектами', 'Анал...   \n",
       "4                                                  0   \n",
       "\n",
       "                                              skills  \\\n",
       "0  ['Креативность', 'Работа в команде', 'Грамотна...   \n",
       "1  ['Работоспособность', 'SWOT анализ', 'Перевод'...   \n",
       "2  ['SQL', 'DWH', 'Бизнес-анализ', 'Системный ана...   \n",
       "3  ['Аналитическое мышление', 'Работа в команде',...   \n",
       "4  ['Бумажный документооборот', 'Документооборот'...   \n",
       "\n",
       "                                           languages        salary  \\\n",
       "0  ['Русский — Родной', 'Английский — C1 — Продви...             0   \n",
       "1  ['Русский — Родной', 'Английский — C2 — В сове...   70 000 руб.   \n",
       "2  ['Русский — Родной', 'Английский — B1 — Средний']             0   \n",
       "3  ['Русский — Родной', 'Английский — A1 — Началь...  180 000 руб.   \n",
       "4                                                  0             0   \n",
       "\n",
       "                    experience                     edu_degree  \\\n",
       "0   Опыт работы 9 лет 3 месяца             Высшее образование   \n",
       "1   Опыт работы 1 год 3 месяца  Высшее образование (Бакалавр)   \n",
       "2  Опыт работы 2 года 3 месяца   Высшее образование (Магистр)   \n",
       "3  Опыт работы 2 года 4 месяца  Высшее образование (Бакалавр)   \n",
       "4  Опыт работы 5 лет 5 месяцев                              0   \n",
       "\n",
       "                                                 uni  \n",
       "0  ['Государственный университет по землеустройст...  \n",
       "1  ['USEEFaculty of Legal and Business Studies Dr...  \n",
       "2  ['Московский государственный технический униве...  \n",
       "3  ['Тамбовский государственный технический униве...  \n",
       "4                                                  0  "
      ]
     },
     "execution_count": 3,
     "metadata": {},
     "output_type": "execute_result"
    }
   ],
   "source": [
    "df.head()"
   ]
  },
  {
   "cell_type": "markdown",
   "id": "9cdadfc6",
   "metadata": {},
   "source": [
    "#### Возраст -> int"
   ]
  },
  {
   "cell_type": "code",
   "execution_count": 5,
   "id": "7e9c23d7",
   "metadata": {},
   "outputs": [
    {
     "data": {
      "text/plain": [
       "0    29 лет\n",
       "1    26 лет\n",
       "2    25 лет\n",
       "3    26 лет\n",
       "4         0\n",
       "Name: age, dtype: object"
      ]
     },
     "execution_count": 5,
     "metadata": {},
     "output_type": "execute_result"
    }
   ],
   "source": [
    "df['age'].head()"
   ]
  },
  {
   "cell_type": "code",
   "execution_count": 6,
   "id": "319c4ce9",
   "metadata": {},
   "outputs": [],
   "source": [
    "df['age'] = df['age'].apply(lambda x: int(re.search(r'\\d+', x)[0]))"
   ]
  },
  {
   "cell_type": "markdown",
   "id": "ac26c696",
   "metadata": {},
   "source": [
    "#### Пол -> 3 категории"
   ]
  },
  {
   "cell_type": "code",
   "execution_count": 7,
   "id": "436548b6",
   "metadata": {},
   "outputs": [
    {
     "data": {
      "text/plain": [
       "Мужчина           11485\n",
       "Женщина            2837\n",
       "Male               1191\n",
       "Female              346\n",
       "Пол не указан         5\n",
       "Gender unknown        2\n",
       "0                     1\n",
       "Name: gender, dtype: int64"
      ]
     },
     "execution_count": 7,
     "metadata": {},
     "output_type": "execute_result"
    }
   ],
   "source": [
    "df['gender'].value_counts()"
   ]
  },
  {
   "cell_type": "code",
   "execution_count": 8,
   "id": "6741d351",
   "metadata": {},
   "outputs": [],
   "source": [
    "df.loc[(df['gender'] == 'Мужчина') | (df['gender'] == 'Male'), 'gender'] = 'M'\n",
    "df.loc[(df['gender'] == 'Женщина') | (df['gender'] == 'Female'), 'gender'] = 'F'\n",
    "df.loc[(df['gender'] == 'Пол не указан') | (df['gender'] == 'Gender unknown') | (df['gender'] == '0'), 'gender'] = 'unknown'"
   ]
  },
  {
   "cell_type": "code",
   "execution_count": 9,
   "id": "86729fbd",
   "metadata": {},
   "outputs": [
    {
     "data": {
      "text/plain": [
       "M          12676\n",
       "F           3183\n",
       "unknown        8\n",
       "Name: gender, dtype: int64"
      ]
     },
     "execution_count": 9,
     "metadata": {},
     "output_type": "execute_result"
    }
   ],
   "source": [
    "df['gender'].value_counts()"
   ]
  },
  {
   "cell_type": "markdown",
   "id": "a998f375",
   "metadata": {},
   "source": [
    "#### ЗП -> int"
   ]
  },
  {
   "cell_type": "code",
   "execution_count": 10,
   "id": "9c5b799a",
   "metadata": {},
   "outputs": [
    {
     "data": {
      "text/plain": [
       "Index(['0', '50 000 руб.', '100 000 руб.', '80 000 руб.', '60 000 руб.',\n",
       "       '70 000 руб.', '40 000 руб.', '150 000 руб.', '120 000 руб.',\n",
       "       '30 000 руб.',\n",
       "       ...\n",
       "       '8 300 EUR', '370 000 RUB', '29 000 руб.', '3 200 USD', '10 руб.',\n",
       "       '2 700 USD', '211 000 руб.', '15 000 USD', '72 500 руб.', '800 EUR'],\n",
       "      dtype='object', length=352)"
      ]
     },
     "execution_count": 10,
     "metadata": {},
     "output_type": "execute_result"
    }
   ],
   "source": [
    "df['salary'].value_counts().index"
   ]
  },
  {
   "cell_type": "code",
   "execution_count": 12,
   "id": "02828c13",
   "metadata": {},
   "outputs": [],
   "source": [
    "def currency(i):\n",
    "    try:\n",
    "        if ('руб.' in i) or ('RUB' in i):\n",
    "            return int(i.replace('руб.', '').replace('RUB', '').replace('\\u2009', '').rsplit(\"\\xa0\", 1)[0])\n",
    "        elif ('EUR' in i):\n",
    "            return int(i.replace('EUR', '').replace('\\u2009', '').rsplit(\"\\xa0\", 1)[0]) * 82.5\n",
    "        elif ('USD' in i):\n",
    "            return int(i.replace('USD', '').replace('\\u2009', '').rsplit(\"\\xa0\", 1)[0]) * 73.5\n",
    "        elif ('AZN' in i) or ('KGS' in i):\n",
    "            return 0\n",
    "        else:\n",
    "            return i\n",
    "    except:\n",
    "        return i"
   ]
  },
  {
   "cell_type": "code",
   "execution_count": 13,
   "id": "dccb7ceb",
   "metadata": {},
   "outputs": [],
   "source": [
    "df['salary'] = df['salary'].apply(lambda x:  currency(x))"
   ]
  },
  {
   "cell_type": "markdown",
   "id": "12a936e8",
   "metadata": {},
   "source": [
    "for i in list(df['salary'].value_counts().index):\n",
    "    if type(i) != int:\n",
    "        print(i)"
   ]
  },
  {
   "cell_type": "code",
   "execution_count": 15,
   "id": "6e82a7a5",
   "metadata": {},
   "outputs": [],
   "source": [
    "df['salary'] = pd.to_numeric(df['salary'])"
   ]
  },
  {
   "cell_type": "code",
   "execution_count": null,
   "id": "20cc1cdf",
   "metadata": {},
   "outputs": [],
   "source": []
  },
  {
   "cell_type": "code",
   "execution_count": null,
   "id": "1a43366f",
   "metadata": {},
   "outputs": [],
   "source": []
  },
  {
   "cell_type": "code",
   "execution_count": 28,
   "id": "eb5b5e57",
   "metadata": {},
   "outputs": [],
   "source": [
    "df.to_csv('res_prim_clean.csv', index=False)"
   ]
  },
  {
   "cell_type": "code",
   "execution_count": null,
   "id": "3d33fa00",
   "metadata": {},
   "outputs": [],
   "source": []
  }
 ],
 "metadata": {
  "kernelspec": {
   "display_name": "Python 3",
   "language": "python",
   "name": "python3"
  },
  "language_info": {
   "codemirror_mode": {
    "name": "ipython",
    "version": 3
   },
   "file_extension": ".py",
   "mimetype": "text/x-python",
   "name": "python",
   "nbconvert_exporter": "python",
   "pygments_lexer": "ipython3",
   "version": "3.8.8"
  }
 },
 "nbformat": 4,
 "nbformat_minor": 5
}
