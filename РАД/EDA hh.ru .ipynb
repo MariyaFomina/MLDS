{
 "cells": [
  {
   "cell_type": "code",
   "execution_count": 1,
   "metadata": {},
   "outputs": [],
   "source": [
    "import pandas as pd\n",
    "import numpy as np\n",
    "import matplotlib.pyplot as plt \n",
    "import seaborn as sns \n",
    "import re\n",
    "\n",
    "from scipy import stats"
   ]
  },
  {
   "cell_type": "code",
   "execution_count": 2,
   "metadata": {},
   "outputs": [],
   "source": [
    "def find_number(text):\n",
    "    num = re.findall(r'[0-9]+', text)\n",
    "    return \" \".join(num)\n",
    "\n",
    "def has_cyrillic(text):\n",
    "    return bool(re.search('[а-яА-Я]', text))\n",
    "\n",
    "def find_min_salary(text):\n",
    "    text = text.replace(u'\\xa0', '')\n",
    "    num = re.findall(\"от [0-9]*\", text)\n",
    "    try:\n",
    "        return num[0].replace('от ', '')\n",
    "    except:\n",
    "        return ''\n",
    "\n",
    "    \n",
    "def get_salaries(df)->pd.DataFrame:\n",
    "    \"\"\"\n",
    "    Extracts min and max salaries\n",
    "    \"\"\"\n",
    "    df['max_salary'] = df['salary'].str.split('до').str[1]\n",
    "    \n",
    "    df['max_salary'] = np.where(df['max_salary'].isna(), '', df['max_salary'])\n",
    "    df['max_salary'] = df['max_salary'].apply(lambda x: find_number(x))\n",
    "    df['max_salary'] = df['max_salary'].str.replace(' ', '')\n",
    "    \n",
    "    df['min_salary'] = df['salary'].apply(lambda x: find_min_salary(x))\n",
    "    \n",
    "    for salary in ['max_salary', 'min_salary']:\n",
    "        df[salary] = pd.to_numeric(df[salary])\n",
    "        \n",
    "    conds = [(df['max_salary']>0)&(df['min_salary']>0),\n",
    "         (df['min_salary']>0),\n",
    "         (df['max_salary']>0),\n",
    "        ]\n",
    "    choises = [(df['min_salary'] + df['max_salary'])/2, df['min_salary'], df['max_salary']]\n",
    "    \n",
    "    df['avg_salary'] = np.select(conds, choises)\n",
    "    \n",
    "    \n",
    "    return df"
   ]
  },
  {
   "cell_type": "code",
   "execution_count": 16,
   "metadata": {},
   "outputs": [],
   "source": [
    "def get_unique_skills(df)->set:\n",
    "    \"\"\"\n",
    "    Extracts skils from df\n",
    "    \"\"\"\n",
    "    unique_skils = set()\n",
    "    for index, row in df.iterrows():\n",
    "\n",
    "        skills_str = row['skills'].replace('[', '')\n",
    "        skills_str = skills_str.replace(']', '')\n",
    "        skills_str = skills_str.replace(\"'\", '')\n",
    "        list_skils = skills_str.split(', ')\n",
    "\n",
    "        unique_skils.update(list_skils)\n",
    "        \n",
    "    return unique_skils\n",
    "\n",
    "\n",
    "def create_skills_columns(df, unique_skils):\n",
    "    \"\"\"\n",
    "    Add indicator columns \n",
    "    \"\"\"\n",
    "    for skill in unique_skils:\n",
    "        try:\n",
    "            df[skill] = np.where(df['skills'].str.contains(skill, regex=False), 1,0)\n",
    "        except Exception as e:\n",
    "            print(e)\n",
    "            print(f'Cant create column {skill}')\n",
    "        \n",
    "    return df\n",
    "    \n",
    "def adjust_taxes(df):\n",
    "    \"\"\"\n",
    "    Evaluates net salary \n",
    "    \n",
    "    \"\"\"\n",
    "    for col in ['max_salary', 'min_salary', 'avg_salary']:\n",
    "        df[col] = np.where(df['salary'].str.contains('до вычета налогов'),df[col]*0.87, df[col] )\n",
    "        \n",
    "    return df\n"
   ]
  },
  {
   "cell_type": "code",
   "execution_count": 17,
   "metadata": {},
   "outputs": [],
   "source": [
    "df = pd.read_csv('some_data.csv')"
   ]
  },
  {
   "cell_type": "code",
   "execution_count": 18,
   "metadata": {},
   "outputs": [],
   "source": [
    "df = get_salaries(df)\n",
    "unique_skils = get_unique_skills(df)"
   ]
  },
  {
   "cell_type": "code",
   "execution_count": 19,
   "metadata": {
    "scrolled": true
   },
   "outputs": [],
   "source": [
    "df = create_skills_columns(df, unique_skils)\n",
    "\n",
    "df = df[df['experience']!='0']\n",
    "df = df[df['salary'].str.contains('руб')]\n",
    "df = adjust_taxes(df)"
   ]
  },
  {
   "cell_type": "code",
   "execution_count": 20,
   "metadata": {},
   "outputs": [],
   "source": [
    "df[df['experience']!='0'].to_csv('eda_hh_data_final.csv', index=False)"
   ]
  },
  {
   "cell_type": "code",
   "execution_count": 21,
   "metadata": {},
   "outputs": [],
   "source": [
    "russian_skills = []\n",
    "eng_skills = []\n",
    "for skill in list(df.columns)[8:]:\n",
    "    if not has_cyrillic(skill):\n",
    "        eng_skills.append(skill)\n",
    "    else:\n",
    "        russian_skills.append(skill)\n"
   ]
  },
  {
   "cell_type": "code",
   "execution_count": 22,
   "metadata": {},
   "outputs": [],
   "source": [
    "report = df[['experience', 'salary']].groupby('experience').agg('count')\n",
    "report.columns = ['N vacancies']\n",
    "report =report.reset_index()"
   ]
  },
  {
   "cell_type": "markdown",
   "metadata": {},
   "source": [
    "## Наиболее востребованные специалисты по количеству лет опыта "
   ]
  },
  {
   "cell_type": "code",
   "execution_count": 23,
   "metadata": {
    "scrolled": false
   },
   "outputs": [
    {
     "data": {
      "text/plain": [
       "Text(0.5, 0, 'Количество ваканий')"
      ]
     },
     "execution_count": 23,
     "metadata": {},
     "output_type": "execute_result"
    },
    {
     "data": {
      "image/png": "[encoded data removed]",
      "text/plain": [
       "<Figure size 720x576 with 1 Axes>"
      ]
     },
     "metadata": {
      "needs_background": "light"
     },
     "output_type": "display_data"
    }
   ],
   "source": [
    "plt.figure(figsize=(10,8))\n",
    "ax= sns.barplot(y='N vacancies', x='experience',\n",
    "                data=report)\n",
    "ax.set_title('Количество ваканасий по количеству требуемого опыта')\n",
    "ax.set_xlabel('Количество ваканий')\n"
   ]
  },
  {
   "cell_type": "markdown",
   "metadata": {},
   "source": [
    "Наблюдается наибольшая нехватка специалистов начального и среднего звена"
   ]
  },
  {
   "cell_type": "markdown",
   "metadata": {},
   "source": [
    "## Как распределена зп? "
   ]
  },
  {
   "cell_type": "code",
   "execution_count": 24,
   "metadata": {},
   "outputs": [
    {
     "data": {
      "text/plain": [
       "Text(0.5, 0, 'З/п в после налогов в руб.')"
      ]
     },
     "execution_count": 24,
     "metadata": {},
     "output_type": "execute_result"
    },
    {
     "data": {
      "image/png": "[encoded data removed]",
      "text/plain": [
       "<Figure size 720x576 with 1 Axes>"
      ]
     },
     "metadata": {
      "needs_background": "light"
     },
     "output_type": "display_data"
    }
   ],
   "source": [
    "plt.figure(figsize=(10,8))\n",
    "ax = sns.histplot(df['avg_salary'], bins=30)\n",
    "ax.set_title('Распределение з/п вакансий аналитиков на hh.ru')\n",
    "ax.set_xlabel('З/п в после налогов в руб.')\n"
   ]
  },
  {
   "cell_type": "markdown",
   "metadata": {},
   "source": [
    "Наблюдаем не нормальное распределение с большим правым хвостом. Скорее всего, это вакансии опытных аналитиков или тимлидов."
   ]
  },
  {
   "cell_type": "code",
   "execution_count": 25,
   "metadata": {
    "scrolled": false
   },
   "outputs": [
    {
     "data": {
      "text/plain": [
       "Text(0.5, 0, 'З/п в после налогов в руб.')"
      ]
     },
     "execution_count": 25,
     "metadata": {},
     "output_type": "execute_result"
    },
    {
     "data": {
      "image/png": "[encoded data removed]",
      "text/plain": [
       "<Figure size 720x576 with 1 Axes>"
      ]
     },
     "metadata": {
      "needs_background": "light"
     },
     "output_type": "display_data"
    }
   ],
   "source": [
    "plt.figure(figsize=(10,8))\n",
    "ax = sns.histplot(np.log(df['avg_salary']), bins=30)\n",
    "ax.set_title('Распределение з/п вакансий аналитиков на hh.ru')\n",
    "ax.set_xlabel('З/п в после налогов в руб.')\n"
   ]
  },
  {
   "cell_type": "markdown",
   "metadata": {},
   "source": [
    "После сглаживания логарифмом наблюдаем распределение близкое к нормальному. Проверим нормальное ли оно? "
   ]
  },
  {
   "cell_type": "code",
   "execution_count": 26,
   "metadata": {},
   "outputs": [
    {
     "data": {
      "text/plain": [
       "0.8001884859183045"
      ]
     },
     "execution_count": 26,
     "metadata": {},
     "output_type": "execute_result"
    }
   ],
   "source": [
    "k2, p = stats.normaltest(np.log(df['avg_salary']))\n",
    "p"
   ]
  },
  {
   "cell_type": "markdown",
   "metadata": {},
   "source": [
    "Р-value больше 0.05, следовательно, нельзя отвергнуть гипотезу о нормальности распределения логарифмированной выборки зарплат."
   ]
  },
  {
   "cell_type": "markdown",
   "metadata": {},
   "source": [
    "## Как опыт влияет на з/п? "
   ]
  },
  {
   "cell_type": "code",
   "execution_count": 27,
   "metadata": {},
   "outputs": [
    {
     "data": {
      "text/plain": [
       "Text(0.5, 0, 'Опыт.')"
      ]
     },
     "execution_count": 27,
     "metadata": {},
     "output_type": "execute_result"
    },
    {
     "data": {
      "image/png": "[encoded data removed]",
      "text/plain": [
       "<Figure size 720x576 with 1 Axes>"
      ]
     },
     "metadata": {
      "needs_background": "light"
     },
     "output_type": "display_data"
    }
   ],
   "source": [
    "plt.figure(figsize=(10,8))\n",
    "ax = sns.boxplot(y='avg_salary', x='experience', data=df.sort_values('avg_salary'))\n",
    "ax.set_title('Влияние опыта на  з/п вакансий аналитиков на hh.ru')\n",
    "ax.set_xlabel('Опыт.')\n"
   ]
  },
  {
   "cell_type": "markdown",
   "metadata": {},
   "source": [
    "### Какие скилы необходимы для вакансий с требуемым опытом 6 лет +? "
   ]
  },
  {
   "cell_type": "code",
   "execution_count": 28,
   "metadata": {},
   "outputs": [],
   "source": [
    "six_years_skills = {\n",
    "    'Name': [],\n",
    "    'Count': []\n",
    "}\n",
    "for skill in russian_skills:\n",
    "    count = len(df[(df['experience'] =='более 6 лет')&(df[skill]>0)])\n",
    "    six_years_skills['Name'].append(skill)\n",
    "    six_years_skills['Count'].append(count)\n",
    "six_years_skills = pd.DataFrame(six_years_skills)\n"
   ]
  },
  {
   "cell_type": "code",
   "execution_count": 29,
   "metadata": {},
   "outputs": [
    {
     "data": {
      "text/html": [
       "<div>\n",
       "<style scoped>\n",
       "    .dataframe tbody tr th:only-of-type {\n",
       "        vertical-align: middle;\n",
       "    }\n",
       "\n",
       "    .dataframe tbody tr th {\n",
       "        vertical-align: top;\n",
       "    }\n",
       "\n",
       "    .dataframe thead th {\n",
       "        text-align: right;\n",
       "    }\n",
       "</style>\n",
       "<table border=\"1\" class=\"dataframe\">\n",
       "  <thead>\n",
       "    <tr style=\"text-align: right;\">\n",
       "      <th></th>\n",
       "      <th>Name</th>\n",
       "      <th>Count</th>\n",
       "    </tr>\n",
       "  </thead>\n",
       "  <tbody>\n",
       "    <tr>\n",
       "      <th>512</th>\n",
       "      <td>1С</td>\n",
       "      <td>4</td>\n",
       "    </tr>\n",
       "    <tr>\n",
       "      <th>507</th>\n",
       "      <td>аналитик</td>\n",
       "      <td>4</td>\n",
       "    </tr>\n",
       "    <tr>\n",
       "      <th>494</th>\n",
       "      <td>Управление проектами</td>\n",
       "      <td>4</td>\n",
       "    </tr>\n",
       "    <tr>\n",
       "      <th>416</th>\n",
       "      <td>Работа с большим объемом информации</td>\n",
       "      <td>3</td>\n",
       "    </tr>\n",
       "    <tr>\n",
       "      <th>100</th>\n",
       "      <td>1С: Управление предприятием</td>\n",
       "      <td>3</td>\n",
       "    </tr>\n",
       "    <tr>\n",
       "      <th>872</th>\n",
       "      <td>1С: Документооборот</td>\n",
       "      <td>3</td>\n",
       "    </tr>\n",
       "    <tr>\n",
       "      <th>484</th>\n",
       "      <td>Организаторские навыки</td>\n",
       "      <td>3</td>\n",
       "    </tr>\n",
       "    <tr>\n",
       "      <th>301</th>\n",
       "      <td>аналитика</td>\n",
       "      <td>3</td>\n",
       "    </tr>\n",
       "    <tr>\n",
       "      <th>126</th>\n",
       "      <td>Разработка технических заданий</td>\n",
       "      <td>3</td>\n",
       "    </tr>\n",
       "    <tr>\n",
       "      <th>898</th>\n",
       "      <td>Документооборот</td>\n",
       "      <td>3</td>\n",
       "    </tr>\n",
       "    <tr>\n",
       "      <th>24</th>\n",
       "      <td>Интернет-реклама</td>\n",
       "      <td>2</td>\n",
       "    </tr>\n",
       "    <tr>\n",
       "      <th>745</th>\n",
       "      <td>1С: Предприятие 8</td>\n",
       "      <td>2</td>\n",
       "    </tr>\n",
       "    <tr>\n",
       "      <th>535</th>\n",
       "      <td>SEO оптимизация</td>\n",
       "      <td>2</td>\n",
       "    </tr>\n",
       "    <tr>\n",
       "      <th>458</th>\n",
       "      <td>Автоматизация</td>\n",
       "      <td>2</td>\n",
       "    </tr>\n",
       "    <tr>\n",
       "      <th>574</th>\n",
       "      <td>1С: Управление Торговлей</td>\n",
       "      <td>2</td>\n",
       "    </tr>\n",
       "    <tr>\n",
       "      <th>348</th>\n",
       "      <td>1С: Предприятие</td>\n",
       "      <td>2</td>\n",
       "    </tr>\n",
       "    <tr>\n",
       "      <th>29</th>\n",
       "      <td>Контекстная реклама</td>\n",
       "      <td>2</td>\n",
       "    </tr>\n",
       "    <tr>\n",
       "      <th>291</th>\n",
       "      <td>Английский язык</td>\n",
       "      <td>2</td>\n",
       "    </tr>\n",
       "    <tr>\n",
       "      <th>285</th>\n",
       "      <td>Продвижение бренда</td>\n",
       "      <td>2</td>\n",
       "    </tr>\n",
       "    <tr>\n",
       "      <th>259</th>\n",
       "      <td>Маркетинг</td>\n",
       "      <td>2</td>\n",
       "    </tr>\n",
       "    <tr>\n",
       "      <th>14</th>\n",
       "      <td>Пользователь ПК</td>\n",
       "      <td>2</td>\n",
       "    </tr>\n",
       "    <tr>\n",
       "      <th>89</th>\n",
       "      <td>WEB аналитика</td>\n",
       "      <td>2</td>\n",
       "    </tr>\n",
       "    <tr>\n",
       "      <th>79</th>\n",
       "      <td>Продвижение</td>\n",
       "      <td>2</td>\n",
       "    </tr>\n",
       "    <tr>\n",
       "      <th>879</th>\n",
       "      <td>Email маркетинг</td>\n",
       "      <td>2</td>\n",
       "    </tr>\n",
       "    <tr>\n",
       "      <th>644</th>\n",
       "      <td>Интегратор 1С:CRM</td>\n",
       "      <td>1</td>\n",
       "    </tr>\n",
       "    <tr>\n",
       "      <th>609</th>\n",
       "      <td>консультант 1С ут</td>\n",
       "      <td>1</td>\n",
       "    </tr>\n",
       "    <tr>\n",
       "      <th>584</th>\n",
       "      <td>1С: Зарплата и управление персоналом</td>\n",
       "      <td>1</td>\n",
       "    </tr>\n",
       "    <tr>\n",
       "      <th>894</th>\n",
       "      <td>1C: Бухгалтерия</td>\n",
       "      <td>1</td>\n",
       "    </tr>\n",
       "    <tr>\n",
       "      <th>582</th>\n",
       "      <td>• Высокие коммуникативные навыки</td>\n",
       "      <td>1</td>\n",
       "    </tr>\n",
       "    <tr>\n",
       "      <th>578</th>\n",
       "      <td>Внешний аудит контекстной рекламы</td>\n",
       "      <td>1</td>\n",
       "    </tr>\n",
       "  </tbody>\n",
       "</table>\n",
       "</div>"
      ],
      "text/plain": [
       "                                     Name  Count\n",
       "512                                    1С      4\n",
       "507                              аналитик      4\n",
       "494                  Управление проектами      4\n",
       "416   Работа с большим объемом информации      3\n",
       "100           1С: Управление предприятием      3\n",
       "872                   1С: Документооборот      3\n",
       "484                Организаторские навыки      3\n",
       "301                             аналитика      3\n",
       "126        Разработка технических заданий      3\n",
       "898                       Документооборот      3\n",
       "24                       Интернет-реклама      2\n",
       "745                     1С: Предприятие 8      2\n",
       "535                       SEO оптимизация      2\n",
       "458                         Автоматизация      2\n",
       "574              1С: Управление Торговлей      2\n",
       "348                       1С: Предприятие      2\n",
       "29                    Контекстная реклама      2\n",
       "291                       Английский язык      2\n",
       "285                    Продвижение бренда      2\n",
       "259                             Маркетинг      2\n",
       "14                        Пользователь ПК      2\n",
       "89                          WEB аналитика      2\n",
       "79                            Продвижение      2\n",
       "879                       Email маркетинг      2\n",
       "644                     Интегратор 1С:CRM      1\n",
       "609                     консультант 1С ут      1\n",
       "584  1С: Зарплата и управление персоналом      1\n",
       "894                       1C: Бухгалтерия      1\n",
       "582      • Высокие коммуникативные навыки      1\n",
       "578     Внешний аудит контекстной рекламы      1"
      ]
     },
     "execution_count": 29,
     "metadata": {},
     "output_type": "execute_result"
    }
   ],
   "source": [
    "six_years_skills[six_years_skills['Count']>0].sort_values('Count', ascending=False).head(30)"
   ]
  },
  {
   "cell_type": "code",
   "execution_count": 30,
   "metadata": {},
   "outputs": [
    {
     "data": {
      "text/plain": [
       "Text(0.5, 0, 'Количество ваканий')"
      ]
     },
     "execution_count": 30,
     "metadata": {},
     "output_type": "execute_result"
    },
    {
     "data": {
      "image/png": "[encoded data removed]",
      "text/plain": [
       "<Figure size 720x576 with 1 Axes>"
      ]
     },
     "metadata": {
      "needs_background": "light"
     },
     "output_type": "display_data"
    }
   ],
   "source": [
    "plt.figure(figsize=(10,8))\n",
    "ax= sns.barplot(y='Name', x='Count',\n",
    "                data=six_years_skills[six_years_skills['Count']>0].sort_values('Count', ascending=False).head(10))\n",
    "ax.set_title('Востребованность навыков среди вакансий с требуемым опытом 6+ лет')\n",
    "ax.set_xlabel('Количество ваканий')\n"
   ]
  },
  {
   "cell_type": "markdown",
   "metadata": {},
   "source": [
    "Среди вакансий, которые требуют 6+ лет опыта, наблюдаем, что знания 1С- являются наиболее востребованными."
   ]
  },
  {
   "cell_type": "markdown",
   "metadata": {},
   "source": [
    "### Какие навыки/технологии более высокооплачиваемы: на русском или английском языках? "
   ]
  },
  {
   "cell_type": "code",
   "execution_count": 31,
   "metadata": {},
   "outputs": [],
   "source": [
    "report = {\n",
    "    'skill':[],\n",
    "    'type':[],\n",
    "    'sum': []\n",
    "}"
   ]
  },
  {
   "cell_type": "code",
   "execution_count": 32,
   "metadata": {},
   "outputs": [
    {
     "data": {
      "text/html": [
       "<div>\n",
       "<style scoped>\n",
       "    .dataframe tbody tr th:only-of-type {\n",
       "        vertical-align: middle;\n",
       "    }\n",
       "\n",
       "    .dataframe tbody tr th {\n",
       "        vertical-align: top;\n",
       "    }\n",
       "\n",
       "    .dataframe thead th {\n",
       "        text-align: right;\n",
       "    }\n",
       "</style>\n",
       "<table border=\"1\" class=\"dataframe\">\n",
       "  <thead>\n",
       "    <tr style=\"text-align: right;\">\n",
       "      <th></th>\n",
       "      <th>skill</th>\n",
       "      <th>type</th>\n",
       "      <th>sum</th>\n",
       "    </tr>\n",
       "  </thead>\n",
       "  <tbody>\n",
       "    <tr>\n",
       "      <th>0</th>\n",
       "      <td>MS Power Builder</td>\n",
       "      <td>ENG</td>\n",
       "      <td>60017.500000</td>\n",
       "    </tr>\n",
       "    <tr>\n",
       "      <th>1</th>\n",
       "      <td>Яндекс.Маркет</td>\n",
       "      <td>RUS</td>\n",
       "      <td>100000.000000</td>\n",
       "    </tr>\n",
       "    <tr>\n",
       "      <th>2</th>\n",
       "      <td>Организация промо акций</td>\n",
       "      <td>RUS</td>\n",
       "      <td>95700.000000</td>\n",
       "    </tr>\n",
       "    <tr>\n",
       "      <th>3</th>\n",
       "      <td>MS Access</td>\n",
       "      <td>ENG</td>\n",
       "      <td>103018.888889</td>\n",
       "    </tr>\n",
       "    <tr>\n",
       "      <th>4</th>\n",
       "      <td>Технические средства информационной защиты</td>\n",
       "      <td>RUS</td>\n",
       "      <td>120000.000000</td>\n",
       "    </tr>\n",
       "    <tr>\n",
       "      <th>...</th>\n",
       "      <td>...</td>\n",
       "      <td>...</td>\n",
       "      <td>...</td>\n",
       "    </tr>\n",
       "    <tr>\n",
       "      <th>1236</th>\n",
       "      <td>Структурирование информации</td>\n",
       "      <td>RUS</td>\n",
       "      <td>60000.000000</td>\n",
       "    </tr>\n",
       "    <tr>\n",
       "      <th>1237</th>\n",
       "      <td>Управление ассортиментом</td>\n",
       "      <td>RUS</td>\n",
       "      <td>100000.000000</td>\n",
       "    </tr>\n",
       "    <tr>\n",
       "      <th>1238</th>\n",
       "      <td>Документооборот</td>\n",
       "      <td>RUS</td>\n",
       "      <td>121353.991250</td>\n",
       "    </tr>\n",
       "    <tr>\n",
       "      <th>1239</th>\n",
       "      <td>Учет остатков</td>\n",
       "      <td>RUS</td>\n",
       "      <td>109375.000000</td>\n",
       "    </tr>\n",
       "    <tr>\n",
       "      <th>1240</th>\n",
       "      <td>Экономика</td>\n",
       "      <td>RUS</td>\n",
       "      <td>52200.000000</td>\n",
       "    </tr>\n",
       "  </tbody>\n",
       "</table>\n",
       "<p>1241 rows × 3 columns</p>\n",
       "</div>"
      ],
      "text/plain": [
       "                                           skill type            sum\n",
       "0                               MS Power Builder  ENG   60017.500000\n",
       "1                                  Яндекс.Маркет  RUS  100000.000000\n",
       "2                        Организация промо акций  RUS   95700.000000\n",
       "3                                      MS Access  ENG  103018.888889\n",
       "4     Технические средства информационной защиты  RUS  120000.000000\n",
       "...                                          ...  ...            ...\n",
       "1236                 Структурирование информации  RUS   60000.000000\n",
       "1237                    Управление ассортиментом  RUS  100000.000000\n",
       "1238                             Документооборот  RUS  121353.991250\n",
       "1239                               Учет остатков  RUS  109375.000000\n",
       "1240                                   Экономика  RUS   52200.000000\n",
       "\n",
       "[1241 rows x 3 columns]"
      ]
     },
     "execution_count": 32,
     "metadata": {},
     "output_type": "execute_result"
    }
   ],
   "source": [
    "for skill in list(df.columns)[8:]:\n",
    "    report['skill'].append(skill)\n",
    "    if not has_cyrillic(skill):\n",
    "        report['type'].append('ENG')\n",
    "    else:\n",
    "        report['type'].append('RUS')\n",
    "    report['sum'].append(df[df[skill]>0]['avg_salary'].mean())\n",
    "report = pd.DataFrame(report)\n",
    "report"
   ]
  },
  {
   "cell_type": "code",
   "execution_count": 33,
   "metadata": {
    "scrolled": false
   },
   "outputs": [
    {
     "data": {
      "text/plain": [
       "Text(0.5, 0, 'Язык')"
      ]
     },
     "execution_count": 33,
     "metadata": {},
     "output_type": "execute_result"
    },
    {
     "data": {
      "image/png": "[encoded data removed]",
      "text/plain": [
       "<Figure size 720x576 with 1 Axes>"
      ]
     },
     "metadata": {
      "needs_background": "light"
     },
     "output_type": "display_data"
    }
   ],
   "source": [
    "plt.figure(figsize=(10,8))\n",
    "ax = sns.boxplot(y='sum', x='type', data=report)\n",
    "ax.set_title('Влияние язык навыка/технологии на з/п')\n",
    "ax.set_xlabel('Язык')"
   ]
  },
  {
   "cell_type": "markdown",
   "metadata": {},
   "source": [
    "Наблюдаем, что медианное значение з/п с англоязычными навыками выше чем с русскоязычными, возможно потому что большинство технологий на английском языке. В то же время, среди русскоязычных вакансий наблюдается много выбросов с высокой з/п."
   ]
  },
  {
   "cell_type": "markdown",
   "metadata": {},
   "source": [
    "## Как количество навыков в вакансии влияют на з/п в вакансии? "
   ]
  },
  {
   "cell_type": "code",
   "execution_count": 34,
   "metadata": {},
   "outputs": [],
   "source": [
    "df['n_skills'] = df['skills'].str.count(',')+1"
   ]
  },
  {
   "cell_type": "code",
   "execution_count": 35,
   "metadata": {},
   "outputs": [
    {
     "data": {
      "text/plain": [
       "Text(0.5, 0, 'Количество навыков')"
      ]
     },
     "execution_count": 35,
     "metadata": {},
     "output_type": "execute_result"
    },
    {
     "data": {
      "image/png": "[encoded data removed]",
      "text/plain": [
       "<Figure size 720x576 with 1 Axes>"
      ]
     },
     "metadata": {
      "needs_background": "light"
     },
     "output_type": "display_data"
    }
   ],
   "source": [
    "plt.figure(figsize=(10,8))\n",
    "ax = sns.regplot(x = 'n_skills', y = 'avg_salary', data=df)\n",
    "ax.set_title('Влияния количества навыков/технологий в описании вакансии на з/п')\n",
    "ax.set_xlabel('Количество навыков')"
   ]
  },
  {
   "cell_type": "markdown",
   "metadata": {},
   "source": [
    "Не наблюдаем влияния количества навыков в описании. "
   ]
  },
  {
   "cell_type": "markdown",
   "metadata": {},
   "source": [
    "## Как количество необходимых лет влияет на разброс в вилке з/п? "
   ]
  },
  {
   "cell_type": "code",
   "execution_count": 36,
   "metadata": {},
   "outputs": [],
   "source": [
    "df['range_salary'] = df['max_salary']-df['min_salary']"
   ]
  },
  {
   "cell_type": "code",
   "execution_count": 37,
   "metadata": {},
   "outputs": [
    {
     "data": {
      "text/plain": [
       "Text(0.5, 0, 'Опыт, лет')"
      ]
     },
     "execution_count": 37,
     "metadata": {},
     "output_type": "execute_result"
    },
    {
     "data": {
      "image/png": "[encoded data removed]",
      "text/plain": [
       "<Figure size 720x576 with 1 Axes>"
      ]
     },
     "metadata": {
      "needs_background": "light"
     },
     "output_type": "display_data"
    }
   ],
   "source": [
    "plt.figure(figsize=(10,8))\n",
    "ax = sns.boxplot(y='avg_salary', x='experience', data=df[(df['max_salary']>0)\n",
    "                                                         &(df['min_salary']>0)].sort_values('range_salary'))\n",
    "ax.set_title('Влияние количества необходимых лет на разброс в з/п')\n",
    "ax.set_xlabel('Опыт, лет')\n"
   ]
  },
  {
   "cell_type": "markdown",
   "metadata": {},
   "source": [
    "В среднем медианный разброс по з/п минимальный в группе вакансий, где не требуется"
   ]
  },
  {
   "cell_type": "code",
   "execution_count": 51,
   "metadata": {},
   "outputs": [
    {
     "data": {
      "text/html": [
       "<div>\n",
       "<style scoped>\n",
       "    .dataframe tbody tr th:only-of-type {\n",
       "        vertical-align: middle;\n",
       "    }\n",
       "\n",
       "    .dataframe tbody tr th {\n",
       "        vertical-align: top;\n",
       "    }\n",
       "\n",
       "    .dataframe thead th {\n",
       "        text-align: right;\n",
       "    }\n",
       "</style>\n",
       "<table border=\"1\" class=\"dataframe\">\n",
       "  <thead>\n",
       "    <tr style=\"text-align: right;\">\n",
       "      <th></th>\n",
       "      <th>MS Power Builder</th>\n",
       "      <th>MS Access</th>\n",
       "      <th>Machine Learning</th>\n",
       "      <th>mpstat</th>\n",
       "      <th>ITSM</th>\n",
       "      <th>IDEF0</th>\n",
       "      <th>TikTok</th>\n",
       "      <th>Youtube</th>\n",
       "      <th>ARIS</th>\n",
       "      <th>CMS Wordpress</th>\n",
       "      <th>...</th>\n",
       "      <th>ESG</th>\n",
       "      <th>Asana</th>\n",
       "      <th>E-Commerce</th>\n",
       "      <th>DFD</th>\n",
       "      <th>Atlassian Jira</th>\n",
       "      <th>Transact-SQL</th>\n",
       "      <th>Facebook Ads</th>\n",
       "      <th>OpenAPI</th>\n",
       "      <th>LM7</th>\n",
       "      <th>Oracle SQL Developer</th>\n",
       "    </tr>\n",
       "  </thead>\n",
       "  <tbody>\n",
       "    <tr>\n",
       "      <th>0</th>\n",
       "      <td>0</td>\n",
       "      <td>0</td>\n",
       "      <td>0</td>\n",
       "      <td>0</td>\n",
       "      <td>0</td>\n",
       "      <td>0</td>\n",
       "      <td>0</td>\n",
       "      <td>0</td>\n",
       "      <td>0</td>\n",
       "      <td>0</td>\n",
       "      <td>...</td>\n",
       "      <td>0</td>\n",
       "      <td>0</td>\n",
       "      <td>0</td>\n",
       "      <td>0</td>\n",
       "      <td>0</td>\n",
       "      <td>0</td>\n",
       "      <td>0</td>\n",
       "      <td>0</td>\n",
       "      <td>0</td>\n",
       "      <td>0</td>\n",
       "    </tr>\n",
       "    <tr>\n",
       "      <th>1</th>\n",
       "      <td>0</td>\n",
       "      <td>0</td>\n",
       "      <td>0</td>\n",
       "      <td>0</td>\n",
       "      <td>0</td>\n",
       "      <td>0</td>\n",
       "      <td>0</td>\n",
       "      <td>0</td>\n",
       "      <td>0</td>\n",
       "      <td>0</td>\n",
       "      <td>...</td>\n",
       "      <td>0</td>\n",
       "      <td>0</td>\n",
       "      <td>0</td>\n",
       "      <td>0</td>\n",
       "      <td>0</td>\n",
       "      <td>0</td>\n",
       "      <td>0</td>\n",
       "      <td>0</td>\n",
       "      <td>0</td>\n",
       "      <td>0</td>\n",
       "    </tr>\n",
       "    <tr>\n",
       "      <th>2</th>\n",
       "      <td>0</td>\n",
       "      <td>0</td>\n",
       "      <td>0</td>\n",
       "      <td>0</td>\n",
       "      <td>0</td>\n",
       "      <td>0</td>\n",
       "      <td>0</td>\n",
       "      <td>0</td>\n",
       "      <td>0</td>\n",
       "      <td>0</td>\n",
       "      <td>...</td>\n",
       "      <td>0</td>\n",
       "      <td>0</td>\n",
       "      <td>0</td>\n",
       "      <td>0</td>\n",
       "      <td>0</td>\n",
       "      <td>0</td>\n",
       "      <td>0</td>\n",
       "      <td>0</td>\n",
       "      <td>0</td>\n",
       "      <td>0</td>\n",
       "    </tr>\n",
       "    <tr>\n",
       "      <th>3</th>\n",
       "      <td>0</td>\n",
       "      <td>0</td>\n",
       "      <td>0</td>\n",
       "      <td>0</td>\n",
       "      <td>0</td>\n",
       "      <td>0</td>\n",
       "      <td>0</td>\n",
       "      <td>0</td>\n",
       "      <td>0</td>\n",
       "      <td>0</td>\n",
       "      <td>...</td>\n",
       "      <td>0</td>\n",
       "      <td>0</td>\n",
       "      <td>0</td>\n",
       "      <td>0</td>\n",
       "      <td>0</td>\n",
       "      <td>0</td>\n",
       "      <td>0</td>\n",
       "      <td>0</td>\n",
       "      <td>0</td>\n",
       "      <td>0</td>\n",
       "    </tr>\n",
       "    <tr>\n",
       "      <th>4</th>\n",
       "      <td>0</td>\n",
       "      <td>0</td>\n",
       "      <td>0</td>\n",
       "      <td>0</td>\n",
       "      <td>0</td>\n",
       "      <td>0</td>\n",
       "      <td>0</td>\n",
       "      <td>0</td>\n",
       "      <td>0</td>\n",
       "      <td>0</td>\n",
       "      <td>...</td>\n",
       "      <td>0</td>\n",
       "      <td>0</td>\n",
       "      <td>0</td>\n",
       "      <td>0</td>\n",
       "      <td>0</td>\n",
       "      <td>0</td>\n",
       "      <td>0</td>\n",
       "      <td>0</td>\n",
       "      <td>0</td>\n",
       "      <td>0</td>\n",
       "    </tr>\n",
       "    <tr>\n",
       "      <th>...</th>\n",
       "      <td>...</td>\n",
       "      <td>...</td>\n",
       "      <td>...</td>\n",
       "      <td>...</td>\n",
       "      <td>...</td>\n",
       "      <td>...</td>\n",
       "      <td>...</td>\n",
       "      <td>...</td>\n",
       "      <td>...</td>\n",
       "      <td>...</td>\n",
       "      <td>...</td>\n",
       "      <td>...</td>\n",
       "      <td>...</td>\n",
       "      <td>...</td>\n",
       "      <td>...</td>\n",
       "      <td>...</td>\n",
       "      <td>...</td>\n",
       "      <td>...</td>\n",
       "      <td>...</td>\n",
       "      <td>...</td>\n",
       "      <td>...</td>\n",
       "    </tr>\n",
       "    <tr>\n",
       "      <th>992</th>\n",
       "      <td>0</td>\n",
       "      <td>0</td>\n",
       "      <td>0</td>\n",
       "      <td>0</td>\n",
       "      <td>0</td>\n",
       "      <td>0</td>\n",
       "      <td>0</td>\n",
       "      <td>0</td>\n",
       "      <td>0</td>\n",
       "      <td>0</td>\n",
       "      <td>...</td>\n",
       "      <td>0</td>\n",
       "      <td>0</td>\n",
       "      <td>0</td>\n",
       "      <td>0</td>\n",
       "      <td>0</td>\n",
       "      <td>0</td>\n",
       "      <td>0</td>\n",
       "      <td>0</td>\n",
       "      <td>0</td>\n",
       "      <td>0</td>\n",
       "    </tr>\n",
       "    <tr>\n",
       "      <th>993</th>\n",
       "      <td>0</td>\n",
       "      <td>0</td>\n",
       "      <td>1</td>\n",
       "      <td>0</td>\n",
       "      <td>0</td>\n",
       "      <td>0</td>\n",
       "      <td>0</td>\n",
       "      <td>0</td>\n",
       "      <td>0</td>\n",
       "      <td>0</td>\n",
       "      <td>...</td>\n",
       "      <td>0</td>\n",
       "      <td>0</td>\n",
       "      <td>0</td>\n",
       "      <td>0</td>\n",
       "      <td>0</td>\n",
       "      <td>0</td>\n",
       "      <td>0</td>\n",
       "      <td>0</td>\n",
       "      <td>0</td>\n",
       "      <td>0</td>\n",
       "    </tr>\n",
       "    <tr>\n",
       "      <th>994</th>\n",
       "      <td>0</td>\n",
       "      <td>0</td>\n",
       "      <td>0</td>\n",
       "      <td>0</td>\n",
       "      <td>0</td>\n",
       "      <td>0</td>\n",
       "      <td>0</td>\n",
       "      <td>0</td>\n",
       "      <td>0</td>\n",
       "      <td>0</td>\n",
       "      <td>...</td>\n",
       "      <td>0</td>\n",
       "      <td>0</td>\n",
       "      <td>0</td>\n",
       "      <td>0</td>\n",
       "      <td>0</td>\n",
       "      <td>0</td>\n",
       "      <td>0</td>\n",
       "      <td>0</td>\n",
       "      <td>0</td>\n",
       "      <td>0</td>\n",
       "    </tr>\n",
       "    <tr>\n",
       "      <th>995</th>\n",
       "      <td>0</td>\n",
       "      <td>0</td>\n",
       "      <td>0</td>\n",
       "      <td>0</td>\n",
       "      <td>0</td>\n",
       "      <td>0</td>\n",
       "      <td>0</td>\n",
       "      <td>0</td>\n",
       "      <td>0</td>\n",
       "      <td>0</td>\n",
       "      <td>...</td>\n",
       "      <td>0</td>\n",
       "      <td>0</td>\n",
       "      <td>0</td>\n",
       "      <td>0</td>\n",
       "      <td>0</td>\n",
       "      <td>0</td>\n",
       "      <td>0</td>\n",
       "      <td>0</td>\n",
       "      <td>0</td>\n",
       "      <td>0</td>\n",
       "    </tr>\n",
       "    <tr>\n",
       "      <th>996</th>\n",
       "      <td>0</td>\n",
       "      <td>0</td>\n",
       "      <td>0</td>\n",
       "      <td>0</td>\n",
       "      <td>0</td>\n",
       "      <td>0</td>\n",
       "      <td>0</td>\n",
       "      <td>0</td>\n",
       "      <td>0</td>\n",
       "      <td>0</td>\n",
       "      <td>...</td>\n",
       "      <td>0</td>\n",
       "      <td>0</td>\n",
       "      <td>0</td>\n",
       "      <td>0</td>\n",
       "      <td>0</td>\n",
       "      <td>0</td>\n",
       "      <td>0</td>\n",
       "      <td>0</td>\n",
       "      <td>0</td>\n",
       "      <td>0</td>\n",
       "    </tr>\n",
       "  </tbody>\n",
       "</table>\n",
       "<p>979 rows × 339 columns</p>\n",
       "</div>"
      ],
      "text/plain": [
       "     MS Power Builder  MS Access  Machine Learning  mpstat  ITSM  IDEF0  \\\n",
       "0                   0          0                 0       0     0      0   \n",
       "1                   0          0                 0       0     0      0   \n",
       "2                   0          0                 0       0     0      0   \n",
       "3                   0          0                 0       0     0      0   \n",
       "4                   0          0                 0       0     0      0   \n",
       "..                ...        ...               ...     ...   ...    ...   \n",
       "992                 0          0                 0       0     0      0   \n",
       "993                 0          0                 1       0     0      0   \n",
       "994                 0          0                 0       0     0      0   \n",
       "995                 0          0                 0       0     0      0   \n",
       "996                 0          0                 0       0     0      0   \n",
       "\n",
       "     TikTok  Youtube  ARIS  CMS Wordpress  ...  ESG  Asana  E-Commerce  DFD  \\\n",
       "0         0        0     0              0  ...    0      0           0    0   \n",
       "1         0        0     0              0  ...    0      0           0    0   \n",
       "2         0        0     0              0  ...    0      0           0    0   \n",
       "3         0        0     0              0  ...    0      0           0    0   \n",
       "4         0        0     0              0  ...    0      0           0    0   \n",
       "..      ...      ...   ...            ...  ...  ...    ...         ...  ...   \n",
       "992       0        0     0              0  ...    0      0           0    0   \n",
       "993       0        0     0              0  ...    0      0           0    0   \n",
       "994       0        0     0              0  ...    0      0           0    0   \n",
       "995       0        0     0              0  ...    0      0           0    0   \n",
       "996       0        0     0              0  ...    0      0           0    0   \n",
       "\n",
       "     Atlassian Jira  Transact-SQL  Facebook Ads  OpenAPI  LM7  \\\n",
       "0                 0             0             0        0    0   \n",
       "1                 0             0             0        0    0   \n",
       "2                 0             0             0        0    0   \n",
       "3                 0             0             0        0    0   \n",
       "4                 0             0             0        0    0   \n",
       "..              ...           ...           ...      ...  ...   \n",
       "992               0             0             0        0    0   \n",
       "993               0             0             0        0    0   \n",
       "994               0             0             0        0    0   \n",
       "995               0             0             0        0    0   \n",
       "996               0             0             0        0    0   \n",
       "\n",
       "     Oracle SQL Developer  \n",
       "0                       0  \n",
       "1                       0  \n",
       "2                       0  \n",
       "3                       0  \n",
       "4                       0  \n",
       "..                    ...  \n",
       "992                     0  \n",
       "993                     0  \n",
       "994                     0  \n",
       "995                     0  \n",
       "996                     0  \n",
       "\n",
       "[979 rows x 339 columns]"
      ]
     },
     "execution_count": 51,
     "metadata": {},
     "output_type": "execute_result"
    }
   ],
   "source": [
    "df[eng_skills]"
   ]
  },
  {
   "cell_type": "code",
   "execution_count": 52,
   "metadata": {},
   "outputs": [
    {
     "data": {
      "text/plain": [
       "['1C',\n",
       " '1C ERP',\n",
       " '1C: ERP',\n",
       " 'ABC analysis',\n",
       " 'AI',\n",
       " 'API',\n",
       " 'ARIS',\n",
       " 'ARPU',\n",
       " 'ASO',\n",
       " 'ATL',\n",
       " 'Access',\n",
       " 'Accounting',\n",
       " 'Ad Hoc Analysis',\n",
       " 'AdWords Editor',\n",
       " 'Adobe',\n",
       " 'Adobe Illustrator',\n",
       " 'Adobe Lightroom',\n",
       " 'Adobe Photoshop',\n",
       " 'Agile',\n",
       " 'Agile Project Management',\n",
       " 'Airflow',\n",
       " 'Amplitude',\n",
       " 'Analysis',\n",
       " 'Analytical Skills',\n",
       " 'Analytical skills',\n",
       " 'Anaplan',\n",
       " 'Android',\n",
       " 'Appsflyer',\n",
       " 'ArcGIS',\n",
       " 'ArchiMate',\n",
       " 'Architecture',\n",
       " 'Artificial Intelligence',\n",
       " 'Asana',\n",
       " 'Atlassian Confluence',\n",
       " 'Atlassian Jira',\n",
       " 'Axelot',\n",
       " 'Axure RP',\n",
       " 'Azure DevOps',\n",
       " 'B2B Marketing',\n",
       " 'BABOK',\n",
       " 'BI',\n",
       " 'BPMN',\n",
       " 'BPMN 2.0',\n",
       " 'BTL',\n",
       " 'Balsamiq',\n",
       " 'Best use',\n",
       " 'Big Data',\n",
       " 'BigQuery',\n",
       " 'Bitrix',\n",
       " 'Bitrix24',\n",
       " 'Blockchain',\n",
       " 'Bloomberg',\n",
       " 'Bug Reporting',\n",
       " 'Business Analysis',\n",
       " 'Business Development',\n",
       " 'Business English',\n",
       " 'Business Intelligence Systems',\n",
       " 'Business Planning',\n",
       " 'Business Process improvement',\n",
       " 'Business Studio',\n",
       " 'Business intelligence',\n",
       " 'C#',\n",
       " 'C++',\n",
       " 'C/C++',\n",
       " 'C4 Model',\n",
       " 'CJM',\n",
       " 'CMS Wordpress',\n",
       " 'CPA',\n",
       " 'CPI',\n",
       " 'CPO',\n",
       " 'CRM',\n",
       " 'CRM Bitrix24',\n",
       " 'CSS',\n",
       " 'Canva',\n",
       " 'Category Management',\n",
       " 'ClickHouse',\n",
       " 'Clickhouse',\n",
       " 'Confluence',\n",
       " 'Copyrighting',\n",
       " 'CorelDRAW',\n",
       " 'Corporate Finance',\n",
       " 'Cronos',\n",
       " 'Crypto',\n",
       " 'CustDev',\n",
       " 'DAX',\n",
       " 'DBT',\n",
       " 'DCF',\n",
       " 'DFD',\n",
       " 'DWH',\n",
       " 'Dashboards',\n",
       " 'Data Analysis',\n",
       " 'Data Analyst',\n",
       " 'Data Lake',\n",
       " 'Data Mining',\n",
       " 'Data Mining: Business Analytica',\n",
       " 'Data Mining: SPSS',\n",
       " 'Data Science',\n",
       " 'Data Studio',\n",
       " 'Data Transfomrations',\n",
       " 'Deductor',\n",
       " 'Digital Marketing',\n",
       " 'Docker',\n",
       " 'E-Commerce',\n",
       " 'E-Mail Marketing',\n",
       " 'EPC',\n",
       " 'ERP',\n",
       " 'ERP Systems',\n",
       " 'ESG',\n",
       " 'ETL',\n",
       " 'EViews',\n",
       " 'English',\n",
       " 'English C1',\n",
       " 'Excel',\n",
       " 'FMCG',\n",
       " 'Facebook',\n",
       " 'Facebook Ads',\n",
       " 'Figma',\n",
       " 'Financial Analysis',\n",
       " 'Financial Controlling',\n",
       " 'Financial Modelling',\n",
       " 'Firebase',\n",
       " 'Flask',\n",
       " 'Fluent English',\n",
       " 'Forex',\n",
       " 'GTM',\n",
       " 'GWT',\n",
       " 'Git',\n",
       " 'Go',\n",
       " 'Google AdWords',\n",
       " 'Google Ads',\n",
       " 'Google Ads Editor',\n",
       " 'Google Analytics',\n",
       " 'Google BigQuery',\n",
       " 'Google Cloud Platform',\n",
       " 'Google Data Studio',\n",
       " 'Google DataStudio',\n",
       " 'Google Docs',\n",
       " 'Google Sheets',\n",
       " 'Google Tag Manager',\n",
       " 'HTML',\n",
       " 'HTML/CSS',\n",
       " 'HTTP',\n",
       " 'Hadoop',\n",
       " 'Helpdesk',\n",
       " 'IDEF',\n",
       " 'IDEF0',\n",
       " 'IFRS',\n",
       " 'IMS',\n",
       " 'IT',\n",
       " 'IT Recruitment',\n",
       " 'ITIL',\n",
       " 'ITSM',\n",
       " 'Instagram',\n",
       " 'Internet',\n",
       " 'Internet Marketing',\n",
       " 'Investment Banking',\n",
       " 'JSON',\n",
       " 'JSON API',\n",
       " 'Java',\n",
       " 'JavaScript',\n",
       " 'Jira',\n",
       " 'Jupyter/Anaconda; BI – Tableau',\n",
       " 'KPMG',\n",
       " 'Kanban',\n",
       " 'LM7',\n",
       " 'Laravel',\n",
       " 'Linux',\n",
       " 'Loyalty Marketing',\n",
       " 'MATLAB',\n",
       " 'ML',\n",
       " 'MQ',\n",
       " 'MS Access',\n",
       " 'MS Axapta',\n",
       " 'MS CRM',\n",
       " 'MS Dynamics',\n",
       " 'MS Dynamics CRM',\n",
       " 'MS Excel',\n",
       " 'MS Internet',\n",
       " 'MS Office',\n",
       " 'MS Outlook',\n",
       " 'MS Power BI',\n",
       " 'MS Power Builder',\n",
       " 'MS PowerPoint',\n",
       " 'MS Project',\n",
       " 'MS Project Expert',\n",
       " 'MS SQL',\n",
       " 'MS SQL Server',\n",
       " 'MS SQLServer',\n",
       " 'MS Visio',\n",
       " 'MS Visual C++',\n",
       " 'MS Visual Studio',\n",
       " 'MS Word',\n",
       " 'MSF',\n",
       " 'MSSQL',\n",
       " 'Machine Learning',\n",
       " 'Management Reporting',\n",
       " 'Market Research',\n",
       " 'Marketing',\n",
       " 'Marketing Analysis',\n",
       " 'Marketing Communication']"
      ]
     },
     "execution_count": 52,
     "metadata": {},
     "output_type": "execute_result"
    }
   ],
   "source": [
    "sorted(eng_skills)[:200]"
   ]
  },
  {
   "cell_type": "code",
   "execution_count": 54,
   "metadata": {},
   "outputs": [
    {
     "data": {
      "text/plain": [
       "MS Power Builder         2\n",
       "MS Access               27\n",
       "Machine Learning         2\n",
       "mpstat                   2\n",
       "ITSM                     2\n",
       "                        ..\n",
       "Transact-SQL             3\n",
       "Facebook Ads             6\n",
       "OpenAPI                  1\n",
       "LM7                      1\n",
       "Oracle SQL Developer     1\n",
       "Length: 339, dtype: int64"
      ]
     },
     "execution_count": 54,
     "metadata": {},
     "output_type": "execute_result"
    }
   ],
   "source": [
    "#df = df.drop('0', axis=1)\n",
    "#eng_skills.remove('0')\n",
    "df[eng_skills].sum()"
   ]
  },
  {
   "cell_type": "code",
   "execution_count": 55,
   "metadata": {},
   "outputs": [
    {
     "data": {
      "image/png": "[encoded data removed]",
      "text/plain": [
       "<Figure size 360x360 with 1 Axes>"
      ]
     },
     "metadata": {},
     "output_type": "display_data"
    }
   ],
   "source": [
    "mf_skills = df[eng_skills].sum().sort_values(ascending=False)[:20]\n",
    "mf_skills.plot.pie(figsize=(5, 5));"
   ]
  },
  {
   "cell_type": "markdown",
   "metadata": {},
   "source": [
    "Рассмотрим самый популярный навык:"
   ]
  },
  {
   "cell_type": "code",
   "execution_count": 82,
   "metadata": {},
   "outputs": [
    {
     "data": {
      "image/png": "[encoded data removed]",
      "text/plain": [
       "<Figure size 1080x504 with 1 Axes>"
      ]
     },
     "metadata": {
      "needs_background": "light"
     },
     "output_type": "display_data"
    }
   ],
   "source": [
    "plt.figure(figsize=(15, 7))\n",
    "\n",
    "sns.boxplot(x='SQL', y='avg_salary', data=df)\n",
    "\n",
    "plt.title('SQL-Salary', fontsize=20)\n",
    "plt.ylabel('salary', fontsize=14)\n",
    "plt.xlabel('SQL skill', fontsize=14)\n",
    "\n",
    "plt.xticks(fontsize=14)\n",
    "plt.yticks(fontsize=14);"
   ]
  },
  {
   "cell_type": "code",
   "execution_count": 56,
   "metadata": {},
   "outputs": [
    {
     "data": {
      "image/png": "[encoded data removed]",
      "text/plain": [
       "<Figure size 360x360 with 1 Axes>"
      ]
     },
     "metadata": {},
     "output_type": "display_data"
    }
   ],
   "source": [
    "lf_skills = df[eng_skills].sum().sort_values(ascending=True)[:20]\n",
    "lf_skills.plot.pie(figsize=(5, 5));"
   ]
  },
  {
   "cell_type": "code",
   "execution_count": 57,
   "metadata": {},
   "outputs": [
    {
     "data": {
      "text/html": [
       "<div>\n",
       "<style scoped>\n",
       "    .dataframe tbody tr th:only-of-type {\n",
       "        vertical-align: middle;\n",
       "    }\n",
       "\n",
       "    .dataframe tbody tr th {\n",
       "        vertical-align: top;\n",
       "    }\n",
       "\n",
       "    .dataframe thead th {\n",
       "        text-align: right;\n",
       "    }\n",
       "</style>\n",
       "<table border=\"1\" class=\"dataframe\">\n",
       "  <thead>\n",
       "    <tr style=\"text-align: right;\">\n",
       "      <th></th>\n",
       "      <th>Skill</th>\n",
       "      <th>Min</th>\n",
       "      <th>Max</th>\n",
       "      <th>Avg</th>\n",
       "    </tr>\n",
       "  </thead>\n",
       "  <tbody>\n",
       "    <tr>\n",
       "      <th>0</th>\n",
       "      <td>SQL</td>\n",
       "      <td>140756</td>\n",
       "      <td>189336</td>\n",
       "      <td>165046.0</td>\n",
       "    </tr>\n",
       "    <tr>\n",
       "      <th>1</th>\n",
       "      <td>MS PowerPoint</td>\n",
       "      <td>92208</td>\n",
       "      <td>118300</td>\n",
       "      <td>105254.0</td>\n",
       "    </tr>\n",
       "    <tr>\n",
       "      <th>2</th>\n",
       "      <td>Go</td>\n",
       "      <td>91839</td>\n",
       "      <td>141146</td>\n",
       "      <td>116492.5</td>\n",
       "    </tr>\n",
       "    <tr>\n",
       "      <th>3</th>\n",
       "      <td>R</td>\n",
       "      <td>113227</td>\n",
       "      <td>167367</td>\n",
       "      <td>140297.0</td>\n",
       "    </tr>\n",
       "    <tr>\n",
       "      <th>4</th>\n",
       "      <td>Excel</td>\n",
       "      <td>92482</td>\n",
       "      <td>109295</td>\n",
       "      <td>100888.5</td>\n",
       "    </tr>\n",
       "    <tr>\n",
       "      <th>5</th>\n",
       "      <td>ML</td>\n",
       "      <td>141097</td>\n",
       "      <td>198283</td>\n",
       "      <td>169690.0</td>\n",
       "    </tr>\n",
       "    <tr>\n",
       "      <th>6</th>\n",
       "      <td>Google Analytics</td>\n",
       "      <td>94206</td>\n",
       "      <td>133197</td>\n",
       "      <td>113701.5</td>\n",
       "    </tr>\n",
       "    <tr>\n",
       "      <th>7</th>\n",
       "      <td>Marketing</td>\n",
       "      <td>86621</td>\n",
       "      <td>132496</td>\n",
       "      <td>109558.5</td>\n",
       "    </tr>\n",
       "    <tr>\n",
       "      <th>8</th>\n",
       "      <td>BPMN</td>\n",
       "      <td>138176</td>\n",
       "      <td>198205</td>\n",
       "      <td>168190.5</td>\n",
       "    </tr>\n",
       "    <tr>\n",
       "      <th>9</th>\n",
       "      <td>MS Excel</td>\n",
       "      <td>93158</td>\n",
       "      <td>106678</td>\n",
       "      <td>99918.0</td>\n",
       "    </tr>\n",
       "    <tr>\n",
       "      <th>10</th>\n",
       "      <td>Python</td>\n",
       "      <td>143918</td>\n",
       "      <td>199543</td>\n",
       "      <td>171730.5</td>\n",
       "    </tr>\n",
       "    <tr>\n",
       "      <th>11</th>\n",
       "      <td>UML</td>\n",
       "      <td>151102</td>\n",
       "      <td>213235</td>\n",
       "      <td>182168.5</td>\n",
       "    </tr>\n",
       "    <tr>\n",
       "      <th>12</th>\n",
       "      <td>Internet</td>\n",
       "      <td>81596</td>\n",
       "      <td>119966</td>\n",
       "      <td>100781.0</td>\n",
       "    </tr>\n",
       "    <tr>\n",
       "      <th>13</th>\n",
       "      <td>Jira</td>\n",
       "      <td>136560</td>\n",
       "      <td>202578</td>\n",
       "      <td>169569.0</td>\n",
       "    </tr>\n",
       "    <tr>\n",
       "      <th>14</th>\n",
       "      <td>Internet Marketing</td>\n",
       "      <td>83042</td>\n",
       "      <td>123379</td>\n",
       "      <td>103210.5</td>\n",
       "    </tr>\n",
       "    <tr>\n",
       "      <th>15</th>\n",
       "      <td>BI</td>\n",
       "      <td>118998</td>\n",
       "      <td>152026</td>\n",
       "      <td>135512.0</td>\n",
       "    </tr>\n",
       "    <tr>\n",
       "      <th>16</th>\n",
       "      <td>Atlassian Jira</td>\n",
       "      <td>133652</td>\n",
       "      <td>191802</td>\n",
       "      <td>162727.0</td>\n",
       "    </tr>\n",
       "    <tr>\n",
       "      <th>17</th>\n",
       "      <td>Power BI</td>\n",
       "      <td>118619</td>\n",
       "      <td>151367</td>\n",
       "      <td>134993.0</td>\n",
       "    </tr>\n",
       "    <tr>\n",
       "      <th>18</th>\n",
       "      <td>Google AdWords</td>\n",
       "      <td>79947</td>\n",
       "      <td>122610</td>\n",
       "      <td>101278.5</td>\n",
       "    </tr>\n",
       "    <tr>\n",
       "      <th>19</th>\n",
       "      <td>Visio</td>\n",
       "      <td>111972</td>\n",
       "      <td>138766</td>\n",
       "      <td>125369.0</td>\n",
       "    </tr>\n",
       "  </tbody>\n",
       "</table>\n",
       "</div>"
      ],
      "text/plain": [
       "                 Skill     Min     Max       Avg\n",
       "0                  SQL  140756  189336  165046.0\n",
       "1        MS PowerPoint   92208  118300  105254.0\n",
       "2                   Go   91839  141146  116492.5\n",
       "3                    R  113227  167367  140297.0\n",
       "4                Excel   92482  109295  100888.5\n",
       "5                   ML  141097  198283  169690.0\n",
       "6     Google Analytics   94206  133197  113701.5\n",
       "7            Marketing   86621  132496  109558.5\n",
       "8                 BPMN  138176  198205  168190.5\n",
       "9             MS Excel   93158  106678   99918.0\n",
       "10              Python  143918  199543  171730.5\n",
       "11                 UML  151102  213235  182168.5\n",
       "12            Internet   81596  119966  100781.0\n",
       "13                Jira  136560  202578  169569.0\n",
       "14  Internet Marketing   83042  123379  103210.5\n",
       "15                  BI  118998  152026  135512.0\n",
       "16      Atlassian Jira  133652  191802  162727.0\n",
       "17            Power BI  118619  151367  134993.0\n",
       "18      Google AdWords   79947  122610  101278.5\n",
       "19               Visio  111972  138766  125369.0"
      ]
     },
     "execution_count": 57,
     "metadata": {},
     "output_type": "execute_result"
    }
   ],
   "source": [
    "salaries_by_skills = {\n",
    "    'Skill':[],\n",
    "    'Min':[],\n",
    "    'Max':[]\n",
    "}\n",
    "for skill in mf_skills.index:\n",
    "    salaries_by_skills['Skill'].append(skill)\n",
    "    salaries_by_skills['Min'].append(round(df[(df[skill] == 1)]['min_salary'].mean()))\n",
    "    salaries_by_skills['Max'].append(round(df[(df[skill] == 1)]['max_salary'].mean()))\n",
    "\n",
    "salaries_by_skills = pd.DataFrame(salaries_by_skills)\n",
    "salaries_by_skills['Avg'] = salaries_by_skills[['Min', 'Max']].mean(axis=1)\n",
    "salaries_by_skills"
   ]
  },
  {
   "cell_type": "code",
   "execution_count": 58,
   "metadata": {},
   "outputs": [
    {
     "data": {
      "text/plain": [
       "Text(0.5, 0, 'Средняя зарплата')"
      ]
     },
     "execution_count": 58,
     "metadata": {},
     "output_type": "execute_result"
    },
    {
     "data": {
      "image/png": "[encoded data removed]",
      "text/plain": [
       "<Figure size 720x576 with 1 Axes>"
      ]
     },
     "metadata": {
      "needs_background": "light"
     },
     "output_type": "display_data"
    }
   ],
   "source": [
    "plt.figure(figsize=(10,8))\n",
    "ax= sns.barplot(y='Skill', x='Avg',\n",
    "                data=salaries_by_skills.sort_values('Avg'))\n",
    "ax.set_xlabel('Средняя зарплата')"
   ]
  },
  {
   "cell_type": "markdown",
   "metadata": {},
   "source": [
    "Выдвигаемые гипотезы:\n",
    "- Количество лет опыта отрицательно  влияет на размер вилки з/п\n",
    "- Количество лет опыта положительно на размер з/п\n",
    "- Наиболее высокооплачиваемые специалисты те, которые владеют языками программирования.\n",
    "- Количество навыков в зп увеличивает размер з/п\n",
    "- Среди аналитиков с опытом 6+ больше будут востребованы менеджерские навыки"
   ]
  },
  {
   "cell_type": "markdown",
   "metadata": {},
   "source": [
    "**попробуем позаниматься шаманской фигней**"
   ]
  },
  {
   "cell_type": "code",
   "execution_count": 59,
   "metadata": {},
   "outputs": [],
   "source": [
    "from sklearn.model_selection import train_test_split, StratifiedKFold, GridSearchCV\n",
    "from sklearn.linear_model import LogisticRegression\n",
    "from sklearn.metrics import precision_score, recall_score, auc, accuracy_score, roc_auc_score,f1_score,log_loss,\\\n",
    "classification_report, roc_curve\n",
    "\n",
    "import warnings\n",
    "warnings.filterwarnings(\"ignore\");\n",
    "\n",
    "RAND = 10"
   ]
  },
  {
   "cell_type": "code",
   "execution_count": 60,
   "metadata": {},
   "outputs": [
    {
     "name": "stdout",
     "output_type": "stream",
     "text": [
      "Train size = (979, 1250)\n"
     ]
    }
   ],
   "source": [
    "print(f'Train size = {df.shape}')"
   ]
  },
  {
   "cell_type": "code",
   "execution_count": 61,
   "metadata": {},
   "outputs": [
    {
     "name": "stdout",
     "output_type": "stream",
     "text": [
      "<class 'pandas.core.frame.DataFrame'>\n",
      "Int64Index: 979 entries, 0 to 996\n",
      "Columns: 1250 entries, link to range_salary\n",
      "dtypes: float64(4), int64(1242), object(4)\n",
      "memory usage: 9.3+ MB\n"
     ]
    }
   ],
   "source": [
    "df.info()"
   ]
  },
  {
   "cell_type": "code",
   "execution_count": 62,
   "metadata": {},
   "outputs": [
    {
     "data": {
      "text/html": [
       "<div>\n",
       "<style scoped>\n",
       "    .dataframe tbody tr th:only-of-type {\n",
       "        vertical-align: middle;\n",
       "    }\n",
       "\n",
       "    .dataframe tbody tr th {\n",
       "        vertical-align: top;\n",
       "    }\n",
       "\n",
       "    .dataframe thead th {\n",
       "        text-align: right;\n",
       "    }\n",
       "</style>\n",
       "<table border=\"1\" class=\"dataframe\">\n",
       "  <thead>\n",
       "    <tr style=\"text-align: right;\">\n",
       "      <th></th>\n",
       "      <th>link</th>\n",
       "      <th>skills</th>\n",
       "      <th>salary</th>\n",
       "      <th>experience</th>\n",
       "      <th>max_salary</th>\n",
       "      <th>min_salary</th>\n",
       "      <th>avg_salary</th>\n",
       "      <th></th>\n",
       "      <th>MS Power Builder</th>\n",
       "      <th>Яндекс.Маркет</th>\n",
       "      <th>...</th>\n",
       "      <th>Общение</th>\n",
       "      <th>1C: Бухгалтерия</th>\n",
       "      <th>Контроль внедрения</th>\n",
       "      <th>Структурирование информации</th>\n",
       "      <th>Управление ассортиментом</th>\n",
       "      <th>Документооборот</th>\n",
       "      <th>Учет остатков</th>\n",
       "      <th>Экономика</th>\n",
       "      <th>n_skills</th>\n",
       "      <th>range_salary</th>\n",
       "    </tr>\n",
       "  </thead>\n",
       "  <tbody>\n",
       "    <tr>\n",
       "      <th>0</th>\n",
       "      <td>https://hh.ru/vacancy/48176685?from=vacancy_se...</td>\n",
       "      <td>['Scrum', 'Умение принимать решения', 'Ориента...</td>\n",
       "      <td>от 150 000 до 200 000 руб. на руки</td>\n",
       "      <td>1–3 года</td>\n",
       "      <td>200000.0</td>\n",
       "      <td>150000.0</td>\n",
       "      <td>175000.0</td>\n",
       "      <td>1</td>\n",
       "      <td>0</td>\n",
       "      <td>0</td>\n",
       "      <td>...</td>\n",
       "      <td>0</td>\n",
       "      <td>0</td>\n",
       "      <td>0</td>\n",
       "      <td>0</td>\n",
       "      <td>0</td>\n",
       "      <td>0</td>\n",
       "      <td>0</td>\n",
       "      <td>0</td>\n",
       "      <td>8</td>\n",
       "      <td>50000.0</td>\n",
       "    </tr>\n",
       "    <tr>\n",
       "      <th>1</th>\n",
       "      <td>https://hh.ru/vacancy/50056103?from=vacancy_se...</td>\n",
       "      <td>['Power BI', 'Подготовка отчетов', 'MS Power B...</td>\n",
       "      <td>от 60 000 руб. на руки</td>\n",
       "      <td>1–3 года</td>\n",
       "      <td>NaN</td>\n",
       "      <td>60000.0</td>\n",
       "      <td>60000.0</td>\n",
       "      <td>1</td>\n",
       "      <td>0</td>\n",
       "      <td>0</td>\n",
       "      <td>...</td>\n",
       "      <td>0</td>\n",
       "      <td>0</td>\n",
       "      <td>0</td>\n",
       "      <td>0</td>\n",
       "      <td>0</td>\n",
       "      <td>0</td>\n",
       "      <td>0</td>\n",
       "      <td>0</td>\n",
       "      <td>5</td>\n",
       "      <td>NaN</td>\n",
       "    </tr>\n",
       "    <tr>\n",
       "      <th>2</th>\n",
       "      <td>https://hh.ru/vacancy/49881796?from=vacancy_se...</td>\n",
       "      <td>['Английский\\xa0— B1 — Средний', 'SQL', 'Англи...</td>\n",
       "      <td>от 170 000 до 210 000 руб. на руки</td>\n",
       "      <td>1–3 года</td>\n",
       "      <td>210000.0</td>\n",
       "      <td>170000.0</td>\n",
       "      <td>190000.0</td>\n",
       "      <td>1</td>\n",
       "      <td>0</td>\n",
       "      <td>0</td>\n",
       "      <td>...</td>\n",
       "      <td>0</td>\n",
       "      <td>0</td>\n",
       "      <td>0</td>\n",
       "      <td>0</td>\n",
       "      <td>0</td>\n",
       "      <td>0</td>\n",
       "      <td>0</td>\n",
       "      <td>0</td>\n",
       "      <td>12</td>\n",
       "      <td>40000.0</td>\n",
       "    </tr>\n",
       "    <tr>\n",
       "      <th>3</th>\n",
       "      <td>https://hh.ru/vacancy/49828501?from=vacancy_se...</td>\n",
       "      <td>['Английский\\xa0— B2 — Средне-продвинутый', 'S...</td>\n",
       "      <td>от 120 000 до 150 000 руб. на руки</td>\n",
       "      <td>1–3 года</td>\n",
       "      <td>150000.0</td>\n",
       "      <td>120000.0</td>\n",
       "      <td>135000.0</td>\n",
       "      <td>1</td>\n",
       "      <td>0</td>\n",
       "      <td>0</td>\n",
       "      <td>...</td>\n",
       "      <td>0</td>\n",
       "      <td>0</td>\n",
       "      <td>0</td>\n",
       "      <td>0</td>\n",
       "      <td>0</td>\n",
       "      <td>0</td>\n",
       "      <td>0</td>\n",
       "      <td>0</td>\n",
       "      <td>7</td>\n",
       "      <td>30000.0</td>\n",
       "    </tr>\n",
       "    <tr>\n",
       "      <th>4</th>\n",
       "      <td>https://hh.ru/vacancy/49893238?from=vacancy_se...</td>\n",
       "      <td>['Английский\\xa0— C1 — Продвинутый', 'SQL', 'B...</td>\n",
       "      <td>от 250 000 до 300 000 руб. до вычета налогов</td>\n",
       "      <td>3–6 лет</td>\n",
       "      <td>261000.0</td>\n",
       "      <td>217500.0</td>\n",
       "      <td>239250.0</td>\n",
       "      <td>1</td>\n",
       "      <td>0</td>\n",
       "      <td>0</td>\n",
       "      <td>...</td>\n",
       "      <td>0</td>\n",
       "      <td>0</td>\n",
       "      <td>0</td>\n",
       "      <td>0</td>\n",
       "      <td>0</td>\n",
       "      <td>0</td>\n",
       "      <td>0</td>\n",
       "      <td>0</td>\n",
       "      <td>4</td>\n",
       "      <td>43500.0</td>\n",
       "    </tr>\n",
       "    <tr>\n",
       "      <th>...</th>\n",
       "      <td>...</td>\n",
       "      <td>...</td>\n",
       "      <td>...</td>\n",
       "      <td>...</td>\n",
       "      <td>...</td>\n",
       "      <td>...</td>\n",
       "      <td>...</td>\n",
       "      <td>...</td>\n",
       "      <td>...</td>\n",
       "      <td>...</td>\n",
       "      <td>...</td>\n",
       "      <td>...</td>\n",
       "      <td>...</td>\n",
       "      <td>...</td>\n",
       "      <td>...</td>\n",
       "      <td>...</td>\n",
       "      <td>...</td>\n",
       "      <td>...</td>\n",
       "      <td>...</td>\n",
       "      <td>...</td>\n",
       "      <td>...</td>\n",
       "    </tr>\n",
       "    <tr>\n",
       "      <th>992</th>\n",
       "      <td>https://hh.ru/vacancy/47394932?from=vacancy_se...</td>\n",
       "      <td>['Google Analytics Яндекс.Метрика Яндекс.Дирек...</td>\n",
       "      <td>от 110 000 до 140 000 руб. до вычета налогов</td>\n",
       "      <td>1–3 года</td>\n",
       "      <td>121800.0</td>\n",
       "      <td>95700.0</td>\n",
       "      <td>108750.0</td>\n",
       "      <td>1</td>\n",
       "      <td>0</td>\n",
       "      <td>0</td>\n",
       "      <td>...</td>\n",
       "      <td>0</td>\n",
       "      <td>0</td>\n",
       "      <td>0</td>\n",
       "      <td>0</td>\n",
       "      <td>0</td>\n",
       "      <td>0</td>\n",
       "      <td>0</td>\n",
       "      <td>0</td>\n",
       "      <td>1</td>\n",
       "      <td>26100.0</td>\n",
       "    </tr>\n",
       "    <tr>\n",
       "      <th>993</th>\n",
       "      <td>https://hh.ru/vacancy/49806538?from=vacancy_se...</td>\n",
       "      <td>['Python', 'ООП', 'C++', 'Анализ данных', 'Mac...</td>\n",
       "      <td>от 250 000 до 250 000 руб. на руки</td>\n",
       "      <td>не требуется</td>\n",
       "      <td>250000.0</td>\n",
       "      <td>250000.0</td>\n",
       "      <td>250000.0</td>\n",
       "      <td>1</td>\n",
       "      <td>0</td>\n",
       "      <td>0</td>\n",
       "      <td>...</td>\n",
       "      <td>0</td>\n",
       "      <td>0</td>\n",
       "      <td>0</td>\n",
       "      <td>0</td>\n",
       "      <td>0</td>\n",
       "      <td>0</td>\n",
       "      <td>0</td>\n",
       "      <td>0</td>\n",
       "      <td>5</td>\n",
       "      <td>0.0</td>\n",
       "    </tr>\n",
       "    <tr>\n",
       "      <th>994</th>\n",
       "      <td>https://hh.ru/vacancy/49901475?from=vacancy_se...</td>\n",
       "      <td>['Английский\\xa0— A1 — Начальный', 'Грамотная ...</td>\n",
       "      <td>от 120 000 до 135 000 руб. на руки</td>\n",
       "      <td>3–6 лет</td>\n",
       "      <td>135000.0</td>\n",
       "      <td>120000.0</td>\n",
       "      <td>127500.0</td>\n",
       "      <td>1</td>\n",
       "      <td>0</td>\n",
       "      <td>0</td>\n",
       "      <td>...</td>\n",
       "      <td>0</td>\n",
       "      <td>0</td>\n",
       "      <td>0</td>\n",
       "      <td>0</td>\n",
       "      <td>0</td>\n",
       "      <td>0</td>\n",
       "      <td>0</td>\n",
       "      <td>0</td>\n",
       "      <td>7</td>\n",
       "      <td>15000.0</td>\n",
       "    </tr>\n",
       "    <tr>\n",
       "      <th>995</th>\n",
       "      <td>https://hh.ru/vacancy/49946451?from=vacancy_se...</td>\n",
       "      <td>['Python', 'SQL', 'Power BI', 'Big Data', 'Ана...</td>\n",
       "      <td>от 160 000 руб. на руки</td>\n",
       "      <td>1–3 года</td>\n",
       "      <td>NaN</td>\n",
       "      <td>160000.0</td>\n",
       "      <td>160000.0</td>\n",
       "      <td>1</td>\n",
       "      <td>0</td>\n",
       "      <td>0</td>\n",
       "      <td>...</td>\n",
       "      <td>0</td>\n",
       "      <td>0</td>\n",
       "      <td>0</td>\n",
       "      <td>0</td>\n",
       "      <td>0</td>\n",
       "      <td>0</td>\n",
       "      <td>0</td>\n",
       "      <td>0</td>\n",
       "      <td>5</td>\n",
       "      <td>NaN</td>\n",
       "    </tr>\n",
       "    <tr>\n",
       "      <th>996</th>\n",
       "      <td>https://hh.ru/vacancy/49628048?from=vacancy_se...</td>\n",
       "      <td>['Контекстная реклама', 'SMM', 'Email маркетин...</td>\n",
       "      <td>от 70 000 руб. до вычета налогов</td>\n",
       "      <td>1–3 года</td>\n",
       "      <td>NaN</td>\n",
       "      <td>60900.0</td>\n",
       "      <td>60900.0</td>\n",
       "      <td>1</td>\n",
       "      <td>0</td>\n",
       "      <td>0</td>\n",
       "      <td>...</td>\n",
       "      <td>0</td>\n",
       "      <td>0</td>\n",
       "      <td>0</td>\n",
       "      <td>0</td>\n",
       "      <td>0</td>\n",
       "      <td>0</td>\n",
       "      <td>0</td>\n",
       "      <td>0</td>\n",
       "      <td>5</td>\n",
       "      <td>NaN</td>\n",
       "    </tr>\n",
       "  </tbody>\n",
       "</table>\n",
       "<p>979 rows × 1250 columns</p>\n",
       "</div>"
      ],
      "text/plain": [
       "                                                  link  \\\n",
       "0    https://hh.ru/vacancy/48176685?from=vacancy_se...   \n",
       "1    https://hh.ru/vacancy/50056103?from=vacancy_se...   \n",
       "2    https://hh.ru/vacancy/49881796?from=vacancy_se...   \n",
       "3    https://hh.ru/vacancy/49828501?from=vacancy_se...   \n",
       "4    https://hh.ru/vacancy/49893238?from=vacancy_se...   \n",
       "..                                                 ...   \n",
       "992  https://hh.ru/vacancy/47394932?from=vacancy_se...   \n",
       "993  https://hh.ru/vacancy/49806538?from=vacancy_se...   \n",
       "994  https://hh.ru/vacancy/49901475?from=vacancy_se...   \n",
       "995  https://hh.ru/vacancy/49946451?from=vacancy_se...   \n",
       "996  https://hh.ru/vacancy/49628048?from=vacancy_se...   \n",
       "\n",
       "                                                skills  \\\n",
       "0    ['Scrum', 'Умение принимать решения', 'Ориента...   \n",
       "1    ['Power BI', 'Подготовка отчетов', 'MS Power B...   \n",
       "2    ['Английский\\xa0— B1 — Средний', 'SQL', 'Англи...   \n",
       "3    ['Английский\\xa0— B2 — Средне-продвинутый', 'S...   \n",
       "4    ['Английский\\xa0— C1 — Продвинутый', 'SQL', 'B...   \n",
       "..                                                 ...   \n",
       "992  ['Google Analytics Яндекс.Метрика Яндекс.Дирек...   \n",
       "993  ['Python', 'ООП', 'C++', 'Анализ данных', 'Mac...   \n",
       "994  ['Английский\\xa0— A1 — Начальный', 'Грамотная ...   \n",
       "995  ['Python', 'SQL', 'Power BI', 'Big Data', 'Ана...   \n",
       "996  ['Контекстная реклама', 'SMM', 'Email маркетин...   \n",
       "\n",
       "                                           salary    experience  max_salary  \\\n",
       "0              от 150 000 до 200 000 руб. на руки      1–3 года    200000.0   \n",
       "1                          от 60 000 руб. на руки      1–3 года         NaN   \n",
       "2              от 170 000 до 210 000 руб. на руки      1–3 года    210000.0   \n",
       "3              от 120 000 до 150 000 руб. на руки      1–3 года    150000.0   \n",
       "4    от 250 000 до 300 000 руб. до вычета налогов       3–6 лет    261000.0   \n",
       "..                                            ...           ...         ...   \n",
       "992  от 110 000 до 140 000 руб. до вычета налогов      1–3 года    121800.0   \n",
       "993            от 250 000 до 250 000 руб. на руки  не требуется    250000.0   \n",
       "994            от 120 000 до 135 000 руб. на руки       3–6 лет    135000.0   \n",
       "995                       от 160 000 руб. на руки      1–3 года         NaN   \n",
       "996              от 70 000 руб. до вычета налогов      1–3 года         NaN   \n",
       "\n",
       "     min_salary  avg_salary     MS Power Builder  Яндекс.Маркет  ...  Общение  \\\n",
       "0      150000.0    175000.0  1                 0              0  ...        0   \n",
       "1       60000.0     60000.0  1                 0              0  ...        0   \n",
       "2      170000.0    190000.0  1                 0              0  ...        0   \n",
       "3      120000.0    135000.0  1                 0              0  ...        0   \n",
       "4      217500.0    239250.0  1                 0              0  ...        0   \n",
       "..          ...         ... ..               ...            ...  ...      ...   \n",
       "992     95700.0    108750.0  1                 0              0  ...        0   \n",
       "993    250000.0    250000.0  1                 0              0  ...        0   \n",
       "994    120000.0    127500.0  1                 0              0  ...        0   \n",
       "995    160000.0    160000.0  1                 0              0  ...        0   \n",
       "996     60900.0     60900.0  1                 0              0  ...        0   \n",
       "\n",
       "     1C: Бухгалтерия  Контроль внедрения  Структурирование информации  \\\n",
       "0                  0                   0                            0   \n",
       "1                  0                   0                            0   \n",
       "2                  0                   0                            0   \n",
       "3                  0                   0                            0   \n",
       "4                  0                   0                            0   \n",
       "..               ...                 ...                          ...   \n",
       "992                0                   0                            0   \n",
       "993                0                   0                            0   \n",
       "994                0                   0                            0   \n",
       "995                0                   0                            0   \n",
       "996                0                   0                            0   \n",
       "\n",
       "     Управление ассортиментом  Документооборот  Учет остатков  Экономика  \\\n",
       "0                           0                0              0          0   \n",
       "1                           0                0              0          0   \n",
       "2                           0                0              0          0   \n",
       "3                           0                0              0          0   \n",
       "4                           0                0              0          0   \n",
       "..                        ...              ...            ...        ...   \n",
       "992                         0                0              0          0   \n",
       "993                         0                0              0          0   \n",
       "994                         0                0              0          0   \n",
       "995                         0                0              0          0   \n",
       "996                         0                0              0          0   \n",
       "\n",
       "     n_skills  range_salary  \n",
       "0           8       50000.0  \n",
       "1           5           NaN  \n",
       "2          12       40000.0  \n",
       "3           7       30000.0  \n",
       "4           4       43500.0  \n",
       "..        ...           ...  \n",
       "992         1       26100.0  \n",
       "993         5           0.0  \n",
       "994         7       15000.0  \n",
       "995         5           NaN  \n",
       "996         5           NaN  \n",
       "\n",
       "[979 rows x 1250 columns]"
      ]
     },
     "execution_count": 62,
     "metadata": {},
     "output_type": "execute_result"
    }
   ],
   "source": [
    "df"
   ]
  },
  {
   "cell_type": "code",
   "execution_count": 63,
   "metadata": {},
   "outputs": [
    {
     "data": {
      "text/plain": [
       "0.0"
      ]
     },
     "execution_count": 63,
     "metadata": {},
     "output_type": "execute_result"
    }
   ],
   "source": [
    "df.avg_salary.isna().sum() / df.shape[0]*100"
   ]
  },
  {
   "cell_type": "code",
   "execution_count": 64,
   "metadata": {},
   "outputs": [
    {
     "data": {
      "text/plain": [
       "link               979\n",
       "skills             870\n",
       "salary             336\n",
       "experience           4\n",
       "max_salary          95\n",
       "                  ... \n",
       "Документооборот      2\n",
       "Учет остатков        2\n",
       "Экономика            2\n",
       "n_skills            26\n",
       "range_salary        62\n",
       "Length: 1250, dtype: int64"
      ]
     },
     "execution_count": 64,
     "metadata": {},
     "output_type": "execute_result"
    }
   ],
   "source": [
    "df.nunique()"
   ]
  },
  {
   "cell_type": "code",
   "execution_count": 66,
   "metadata": {},
   "outputs": [
    {
     "data": {
      "text/plain": [
       "array([175000.  ,  60000.  , 190000.  , 135000.  , 239250.  , 125000.  ,\n",
       "       130000.  , 200000.  , 220000.  , 156600.  , 250000.  , 225000.  ,\n",
       "       300000.  , 100000.  , 104400.  ,  80000.  ,  87000.  , 150000.  ,\n",
       "       215000.  , 345000.  , 130500.  ,  70000.  , 252300.  , 121800.  ,\n",
       "       174000.  , 115000.  ,  95000.  , 165000.  , 160950.  , 182700.  ,\n",
       "       110000.  , 180000.  , 120000.  ,  40000.  , 213150.  , 160000.  ,\n",
       "       108750.  , 217500.  ,  95700.  ,  75000.  , 200100.  , 140000.  ,\n",
       "        50000.  ,  37500.  ,  41500.  ,  79170.  , 104000.  , 260000.  ,\n",
       "       185000.  ,  60900.  ,  65000.  , 155000.  ,  65250.  ,  34800.  ,\n",
       "       147900.  ,  45000.  , 300150.  ,  90001.5 , 117450.  ,  90000.  ,\n",
       "        85000.  ,  69600.  ,  70035.  ,  71775.  , 435000.  ,  78300.  ,\n",
       "       191400.  , 113100.  ,  77500.  , 187050.  , 100050.  ,  66500.  ,\n",
       "       111360.  , 195750.  , 170000.  ,  82650.  , 139200.  , 210000.  ,\n",
       "       167475.  ,  91350.  , 100000.41, 152250.  ,  73950.  ,  78000.  ,\n",
       "       348000.  , 108000.  , 120060.  ,  59160.  ,  53940.  ,  42503.85,\n",
       "       145000.  ,  47850.  , 543750.  , 117500.  , 525000.  , 261000.  ,\n",
       "       104835.  ,  55245.  ,  52200.  , 112500.  ,  52500.  ,  30450.  ,\n",
       "        57500.  ,  26100.  ,  45675.  , 240000.  , 105000.  , 162500.  ,\n",
       "        64000.  ,  60030.  ,  35000.  , 169650.  , 258825.  , 450000.  ,\n",
       "        99073.86,  55000.  ,  42500.  , 143550.  ,  25000.  , 255000.  ,\n",
       "       237510.  ,  47500.  , 280000.  , 119625.  , 212500.  ,  58072.5 ,\n",
       "       205000.  ,  82500.  ,  93525.  , 375000.  , 350000.  ,  80040.  ,\n",
       "        30000.  , 235000.  ,  62500.  ,  43500.  ,  87500.  , 400000.  ,\n",
       "        92500.  , 475000.  ,  40020.  , 127500.  ])"
      ]
     },
     "execution_count": 66,
     "metadata": {},
     "output_type": "execute_result"
    }
   ],
   "source": [
    "df.avg_salary.unique()"
   ]
  },
  {
   "cell_type": "code",
   "execution_count": 67,
   "metadata": {},
   "outputs": [
    {
     "data": {
      "text/html": [
       "<div>\n",
       "<style scoped>\n",
       "    .dataframe tbody tr th:only-of-type {\n",
       "        vertical-align: middle;\n",
       "    }\n",
       "\n",
       "    .dataframe tbody tr th {\n",
       "        vertical-align: top;\n",
       "    }\n",
       "\n",
       "    .dataframe thead th {\n",
       "        text-align: right;\n",
       "    }\n",
       "</style>\n",
       "<table border=\"1\" class=\"dataframe\">\n",
       "  <thead>\n",
       "    <tr style=\"text-align: right;\">\n",
       "      <th></th>\n",
       "      <th>link</th>\n",
       "      <th>skills</th>\n",
       "      <th>salary</th>\n",
       "      <th>experience</th>\n",
       "    </tr>\n",
       "  </thead>\n",
       "  <tbody>\n",
       "    <tr>\n",
       "      <th>count</th>\n",
       "      <td>979</td>\n",
       "      <td>979</td>\n",
       "      <td>979</td>\n",
       "      <td>979</td>\n",
       "    </tr>\n",
       "    <tr>\n",
       "      <th>unique</th>\n",
       "      <td>979</td>\n",
       "      <td>870</td>\n",
       "      <td>336</td>\n",
       "      <td>4</td>\n",
       "    </tr>\n",
       "    <tr>\n",
       "      <th>top</th>\n",
       "      <td>https://hh.ru/vacancy/49843566?from=vacancy_se...</td>\n",
       "      <td>[]</td>\n",
       "      <td>от 100 000 руб. на руки</td>\n",
       "      <td>1–3 года</td>\n",
       "    </tr>\n",
       "    <tr>\n",
       "      <th>freq</th>\n",
       "      <td>1</td>\n",
       "      <td>95</td>\n",
       "      <td>49</td>\n",
       "      <td>567</td>\n",
       "    </tr>\n",
       "  </tbody>\n",
       "</table>\n",
       "</div>"
      ],
      "text/plain": [
       "                                                     link skills  \\\n",
       "count                                                 979    979   \n",
       "unique                                                979    870   \n",
       "top     https://hh.ru/vacancy/49843566?from=vacancy_se...     []   \n",
       "freq                                                    1     95   \n",
       "\n",
       "                         salary experience  \n",
       "count                       979        979  \n",
       "unique                      336          4  \n",
       "top     от 100 000 руб. на руки   1–3 года  \n",
       "freq                         49        567  "
      ]
     },
     "execution_count": 67,
     "metadata": {},
     "output_type": "execute_result"
    }
   ],
   "source": [
    "df.describe(include=object)"
   ]
  },
  {
   "cell_type": "code",
   "execution_count": 86,
   "metadata": {},
   "outputs": [
    {
     "data": {
      "text/plain": [
       "Index(['link', 'skills', 'salary', 'experience', 'max_salary', 'min_salary',\n",
       "       'avg_salary', '', 'MS Power Builder', 'Яндекс.Маркет',\n",
       "       ...\n",
       "       'Общение', '1C: Бухгалтерия', 'Контроль внедрения',\n",
       "       'Структурирование информации', 'Управление ассортиментом',\n",
       "       'Документооборот', 'Учет остатков', 'Экономика', 'n_skills',\n",
       "       'range_salary'],\n",
       "      dtype='object', length=1250)"
      ]
     },
     "execution_count": 86,
     "metadata": {},
     "output_type": "execute_result"
    }
   ],
   "source": [
    "df.columns"
   ]
  },
  {
   "cell_type": "code",
   "execution_count": 92,
   "metadata": {},
   "outputs": [
    {
     "data": {
      "image/png": "[encoded data removed]",
      "text/plain": [
       "<Figure size 720x576 with 2 Axes>"
      ]
     },
     "metadata": {
      "needs_background": "light"
     },
     "output_type": "display_data"
    }
   ],
   "source": [
    "num_cols = ['avg_salary', 'UML', 'SQL', 'Excel', 'Go', 'C++', 'Python']\n",
    "\n",
    "plt.figure(figsize=(10, 8))\n",
    "\n",
    "sns.heatmap(df[num_cols].corr(method='spearman'), annot=True, fmt=\".1f\");"
   ]
  },
  {
   "cell_type": "code",
   "execution_count": 96,
   "metadata": {},
   "outputs": [
    {
     "data": {
      "image/png": "[encoded data removed]",
      "text/plain": [
       "<Figure size 360x360 with 1 Axes>"
      ]
     },
     "metadata": {
      "needs_background": "light"
     },
     "output_type": "display_data"
    }
   ],
   "source": [
    "sns.displot(df, x='C++', kind=\"kde\", common_norm=False)\n",
    "\n",
    "plt.xlabel('x', fontsize=14)\n",
    "plt.ylabel('y', fontsize=14)\n",
    "\n",
    "plt.xticks(fontsize=14)\n",
    "plt.yticks(fontsize=14);"
   ]
  },
  {
   "cell_type": "code",
   "execution_count": 97,
   "metadata": {
    "scrolled": true
   },
   "outputs": [
    {
     "data": {
      "image/png": "[encoded data removed]",
      "text/plain": [
       "<Figure size 449.5x360 with 1 Axes>"
      ]
     },
     "metadata": {
      "needs_background": "light"
     },
     "output_type": "display_data"
    }
   ],
   "source": [
    "sns.displot(df, x='C++', hue='avg_salary', kind=\"kde\", common_norm=False)\n",
    "\n",
    "plt.xlabel('x', fontsize=14)\n",
    "plt.ylabel('y', fontsize=14)\n",
    "\n",
    "plt.xticks(fontsize=14)\n",
    "plt.yticks(fontsize=14);"
   ]
  },
  {
   "cell_type": "code",
   "execution_count": 98,
   "metadata": {},
   "outputs": [
    {
     "data": {
      "image/png": "[encoded data removed]",
      "text/plain": [
       "<Figure size 648x648 with 7 Axes>"
      ]
     },
     "metadata": {
      "needs_background": "light"
     },
     "output_type": "display_data"
    }
   ],
   "source": [
    "num_cols = ['avg_salary', 'UML', 'SQL', 'Excel', 'Go', 'C++', 'Python']\n",
    "\n",
    "numeric_features = df[num_cols]\n",
    "\n",
    "numeric_features = numeric_features.stack().reset_index().rename(\n",
    "    columns={\"level_1\": \"Features\", 0: \"Value\"})\n",
    "\n",
    "ax = sns.FacetGrid(data=numeric_features, col=\"Features\",\n",
    "                  col_wrap=3, sharex=False, sharey=False)\n",
    "ax = ax.map(sns.distplot, \"Value\")\n",
    "\n",
    "plt.subplots_adjust(top=0.9)\n",
    "plt.suptitle(\"Histograms of various features\");"
   ]
  },
  {
   "cell_type": "code",
   "execution_count": 101,
   "metadata": {},
   "outputs": [
    {
     "data": {
      "text/html": [
       "<div>\n",
       "<style scoped>\n",
       "    .dataframe tbody tr th:only-of-type {\n",
       "        vertical-align: middle;\n",
       "    }\n",
       "\n",
       "    .dataframe tbody tr th {\n",
       "        vertical-align: top;\n",
       "    }\n",
       "\n",
       "    .dataframe thead th {\n",
       "        text-align: right;\n",
       "    }\n",
       "</style>\n",
       "<table border=\"1\" class=\"dataframe\">\n",
       "  <thead>\n",
       "    <tr style=\"text-align: right;\">\n",
       "      <th></th>\n",
       "      <th>skills</th>\n",
       "      <th>salary</th>\n",
       "      <th>experience</th>\n",
       "      <th>max_salary</th>\n",
       "      <th>min_salary</th>\n",
       "      <th></th>\n",
       "      <th>MS Power Builder</th>\n",
       "      <th>Яндекс.Маркет</th>\n",
       "      <th>Организация промо акций</th>\n",
       "      <th>MS Access</th>\n",
       "      <th>...</th>\n",
       "      <th>avg_salary_450000.0</th>\n",
       "      <th>avg_salary_475000.0</th>\n",
       "      <th>avg_salary_525000.0</th>\n",
       "      <th>avg_salary_543750.0</th>\n",
       "      <th>UML_1</th>\n",
       "      <th>SQL_1</th>\n",
       "      <th>Excel_1</th>\n",
       "      <th>Go_1</th>\n",
       "      <th>C++_1</th>\n",
       "      <th>Python_1</th>\n",
       "    </tr>\n",
       "  </thead>\n",
       "  <tbody>\n",
       "    <tr>\n",
       "      <th>0</th>\n",
       "      <td>['Scrum', 'Умение принимать решения', 'Ориента...</td>\n",
       "      <td>от 150 000 до 200 000 руб. на руки</td>\n",
       "      <td>1–3 года</td>\n",
       "      <td>200000.0</td>\n",
       "      <td>150000.0</td>\n",
       "      <td>1</td>\n",
       "      <td>0</td>\n",
       "      <td>0</td>\n",
       "      <td>0</td>\n",
       "      <td>0</td>\n",
       "      <td>...</td>\n",
       "      <td>0</td>\n",
       "      <td>0</td>\n",
       "      <td>0</td>\n",
       "      <td>0</td>\n",
       "      <td>0</td>\n",
       "      <td>1</td>\n",
       "      <td>0</td>\n",
       "      <td>1</td>\n",
       "      <td>0</td>\n",
       "      <td>0</td>\n",
       "    </tr>\n",
       "    <tr>\n",
       "      <th>1</th>\n",
       "      <td>['Power BI', 'Подготовка отчетов', 'MS Power B...</td>\n",
       "      <td>от 60 000 руб. на руки</td>\n",
       "      <td>1–3 года</td>\n",
       "      <td>NaN</td>\n",
       "      <td>60000.0</td>\n",
       "      <td>1</td>\n",
       "      <td>0</td>\n",
       "      <td>0</td>\n",
       "      <td>0</td>\n",
       "      <td>0</td>\n",
       "      <td>...</td>\n",
       "      <td>0</td>\n",
       "      <td>0</td>\n",
       "      <td>0</td>\n",
       "      <td>0</td>\n",
       "      <td>0</td>\n",
       "      <td>0</td>\n",
       "      <td>0</td>\n",
       "      <td>0</td>\n",
       "      <td>0</td>\n",
       "      <td>0</td>\n",
       "    </tr>\n",
       "    <tr>\n",
       "      <th>2</th>\n",
       "      <td>['Английский\\xa0— B1 — Средний', 'SQL', 'Англи...</td>\n",
       "      <td>от 170 000 до 210 000 руб. на руки</td>\n",
       "      <td>1–3 года</td>\n",
       "      <td>210000.0</td>\n",
       "      <td>170000.0</td>\n",
       "      <td>1</td>\n",
       "      <td>0</td>\n",
       "      <td>0</td>\n",
       "      <td>0</td>\n",
       "      <td>0</td>\n",
       "      <td>...</td>\n",
       "      <td>0</td>\n",
       "      <td>0</td>\n",
       "      <td>0</td>\n",
       "      <td>0</td>\n",
       "      <td>0</td>\n",
       "      <td>1</td>\n",
       "      <td>0</td>\n",
       "      <td>1</td>\n",
       "      <td>0</td>\n",
       "      <td>1</td>\n",
       "    </tr>\n",
       "    <tr>\n",
       "      <th>3</th>\n",
       "      <td>['Английский\\xa0— B2 — Средне-продвинутый', 'S...</td>\n",
       "      <td>от 120 000 до 150 000 руб. на руки</td>\n",
       "      <td>1–3 года</td>\n",
       "      <td>150000.0</td>\n",
       "      <td>120000.0</td>\n",
       "      <td>1</td>\n",
       "      <td>0</td>\n",
       "      <td>0</td>\n",
       "      <td>0</td>\n",
       "      <td>0</td>\n",
       "      <td>...</td>\n",
       "      <td>0</td>\n",
       "      <td>0</td>\n",
       "      <td>0</td>\n",
       "      <td>0</td>\n",
       "      <td>0</td>\n",
       "      <td>1</td>\n",
       "      <td>0</td>\n",
       "      <td>1</td>\n",
       "      <td>0</td>\n",
       "      <td>0</td>\n",
       "    </tr>\n",
       "    <tr>\n",
       "      <th>4</th>\n",
       "      <td>['Английский\\xa0— C1 — Продвинутый', 'SQL', 'B...</td>\n",
       "      <td>от 250 000 до 300 000 руб. до вычета налогов</td>\n",
       "      <td>3–6 лет</td>\n",
       "      <td>261000.0</td>\n",
       "      <td>217500.0</td>\n",
       "      <td>1</td>\n",
       "      <td>0</td>\n",
       "      <td>0</td>\n",
       "      <td>0</td>\n",
       "      <td>0</td>\n",
       "      <td>...</td>\n",
       "      <td>0</td>\n",
       "      <td>0</td>\n",
       "      <td>0</td>\n",
       "      <td>0</td>\n",
       "      <td>0</td>\n",
       "      <td>1</td>\n",
       "      <td>0</td>\n",
       "      <td>1</td>\n",
       "      <td>0</td>\n",
       "      <td>0</td>\n",
       "    </tr>\n",
       "  </tbody>\n",
       "</table>\n",
       "<p>5 rows × 1389 columns</p>\n",
       "</div>"
      ],
      "text/plain": [
       "                                              skills  \\\n",
       "0  ['Scrum', 'Умение принимать решения', 'Ориента...   \n",
       "1  ['Power BI', 'Подготовка отчетов', 'MS Power B...   \n",
       "2  ['Английский\\xa0— B1 — Средний', 'SQL', 'Англи...   \n",
       "3  ['Английский\\xa0— B2 — Средне-продвинутый', 'S...   \n",
       "4  ['Английский\\xa0— C1 — Продвинутый', 'SQL', 'B...   \n",
       "\n",
       "                                         salary experience  max_salary  \\\n",
       "0            от 150 000 до 200 000 руб. на руки   1–3 года    200000.0   \n",
       "1                        от 60 000 руб. на руки   1–3 года         NaN   \n",
       "2            от 170 000 до 210 000 руб. на руки   1–3 года    210000.0   \n",
       "3            от 120 000 до 150 000 руб. на руки   1–3 года    150000.0   \n",
       "4  от 250 000 до 300 000 руб. до вычета налогов    3–6 лет    261000.0   \n",
       "\n",
       "   min_salary     MS Power Builder  Яндекс.Маркет  Организация промо акций  \\\n",
       "0    150000.0  1                 0              0                        0   \n",
       "1     60000.0  1                 0              0                        0   \n",
       "2    170000.0  1                 0              0                        0   \n",
       "3    120000.0  1                 0              0                        0   \n",
       "4    217500.0  1                 0              0                        0   \n",
       "\n",
       "   MS Access  ...  avg_salary_450000.0  avg_salary_475000.0  \\\n",
       "0          0  ...                    0                    0   \n",
       "1          0  ...                    0                    0   \n",
       "2          0  ...                    0                    0   \n",
       "3          0  ...                    0                    0   \n",
       "4          0  ...                    0                    0   \n",
       "\n",
       "   avg_salary_525000.0  avg_salary_543750.0  UML_1  SQL_1  Excel_1  Go_1  \\\n",
       "0                    0                    0      0      1        0     1   \n",
       "1                    0                    0      0      0        0     0   \n",
       "2                    0                    0      0      1        0     1   \n",
       "3                    0                    0      0      1        0     1   \n",
       "4                    0                    0      0      1        0     1   \n",
       "\n",
       "   C++_1  Python_1  \n",
       "0      0         0  \n",
       "1      0         0  \n",
       "2      0         1  \n",
       "3      0         0  \n",
       "4      0         0  \n",
       "\n",
       "[5 rows x 1389 columns]"
      ]
     },
     "execution_count": 101,
     "metadata": {},
     "output_type": "execute_result"
    }
   ],
   "source": [
    "cat_cols = ['avg_salary', 'UML', 'SQL', 'Excel', 'Go', 'C++', 'Python']\n",
    "df_label = pd.get_dummies(df, columns=cat_cols,\n",
    "                          drop_first=True).drop('link', axis=1)\n",
    "df_label[:5]"
   ]
  },
  {
   "cell_type": "code",
   "execution_count": null,
   "metadata": {},
   "outputs": [],
   "source": []
  }
 ],
 "metadata": {
  "kernelspec": {
   "display_name": "Python 3",
   "language": "python",
   "name": "python3"
  },
  "language_info": {
   "codemirror_mode": {
    "name": "ipython",
    "version": 3
   },
   "file_extension": ".py",
   "mimetype": "text/x-python",
   "name": "python",
   "nbconvert_exporter": "python",
   "pygments_lexer": "ipython3",
   "version": "3.7.0"
  }
 },
 "nbformat": 4,
 "nbformat_minor": 5
}
